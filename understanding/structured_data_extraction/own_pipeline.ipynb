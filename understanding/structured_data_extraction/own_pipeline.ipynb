{
 "cells": [
  {
   "cell_type": "markdown",
   "metadata": {},
   "source": [
    "https://www.youtube.com/watch?v=eHfMCtlsb1o"
   ]
  },
  {
   "cell_type": "code",
   "execution_count": 8,
   "metadata": {},
   "outputs": [],
   "source": [
    "import ollama\n",
    "from pydantic import BaseModel\n",
    "from typing import List\n",
    "import pickle as pkl"
   ]
  },
  {
   "cell_type": "markdown",
   "metadata": {},
   "source": [
    "Primero tenemos que leer el fichero badbunny"
   ]
  },
  {
   "cell_type": "code",
   "execution_count": 9,
   "metadata": {},
   "outputs": [],
   "source": [
    "import ollama\n",
    "import bs4\n",
    "from langchain.text_splitter import RecursiveCharacterTextSplitter\n",
    "from langchain_community.document_loaders import TextLoader\n",
    "from langchain_community.vectorstores import Chroma\n",
    "from langchain_community.embeddings import OllamaEmbeddings\n",
    "from langchain_core.output_parsers import StrOutputParser\n",
    "from langchain_core.runnables import RunnablePassthrough\n",
    "\n",
    "loader = TextLoader(\"bad_bunny.txt\")\n",
    "docs = loader.load()\n",
    "text_splitter = RecursiveCharacterTextSplitter(chunk_size=1000, chunk_overlap=200)\n",
    "splits = text_splitter.split_documents(docs)"
   ]
  },
  {
   "cell_type": "code",
   "execution_count": 10,
   "metadata": {},
   "outputs": [
    {
     "data": {
      "text/plain": [
       "[Document(page_content='Benito Antonio Martínez Ocasio (Vega Baja, Puerto Rico 10 de marzo de 1994),2\\u200b conocido artísticamente como Bad Bunny, es un cantante, compositor, productor musical y peleador aficionado de lucha libre puertorriqueño.3\\u200b Sus estilos musicales son generalmente definidos como reguetón, trap latino y baladas, aunque también ha interpretado otros géneros y estilos variados. Se caracteriza por su entonación grave y su estilo de vestir.4\\u200b', metadata={'source': 'bad_bunny.txt'}),\n",
       " Document(page_content='Empezó a ganar popularidad en SoundCloud y finalmente, firmó un contrato con el sello discográfico Hear This Music mientras trabajaba como empaquetador en un supermercado y estudiaba en la Universidad de Puerto Rico en Arecibo. Después del éxito de su sencillo «Soy peor» en 2016, alcanzó la fama tras colaborar con los artistas Cardi B y Drake en los sencillos «I Like It» y «Mia» que alcanzaron el primer y tercer puesto en la lista Billboard Hot 100 respectivamente. Su álbum de estudio debut X 100pre (2018) ganó el Grammy Latino por mejor álbum de música urbana y entró en la lista de los 500 mejores álbumes musicales de todos los tiempos, según la revista Rolling Stone, ocupando el lugar 447.5\\u200b\\n\\nSu álbum colaborativo con el cantante colombiano J Balvin, Oasis (2019), contiene los exitosos sencillos «Qué pretendes» y «La canción». Así como produjo el exitoso sencillo «Callaíta» con el productor Tainy después de la publicación de su álbum x100pre.', metadata={'source': 'bad_bunny.txt'}),\n",
       " Document(page_content='A principios de 2020, cantó en el Espectáculo de medio tiempo del Super Bowl LIV junto a Shakira, y se convirtió en el primer artista latino urbano en ser la portada de la revista Rolling Stone. Durante el año, Bad Bunny lanzó su segundo álbum YHLQMDLG (Yo hago lo que me de la gana), un álbum sorpresa recopilatorio Las que no iban a salir, su tercer álbum de estudio El último tour del mundo. Y en 2022; Un verano sin ti, un éxito comercial y de crítica, que debutó en la cima del Billboard 200 de Estados Unidos, marcando el segundo álbum número uno de Bad Bunny y el tercer álbum en español en encabezar la lista.', metadata={'source': 'bad_bunny.txt'}),\n",
       " Document(page_content='Además, fue el primer artista hispanohablante en ser el más reproducido en Spotify entre 2020 y 2022.6\\u200b7\\u200b En 2021, 2022 y 2023 fue parte de WWE8\\u200b y de las 100 personas más influyentes del mundo en la revista Time.9\\u200b En octubre del mismo año la publicación estadounidense Pitchfork lo incluyó en su lista de los 200 artistas más influyentes de los últimos 25 años.10\\u200b Hasta entonces, su fortuna estaba estimada en los cuarenta millones USD.11\\u200b En 2023, la revista TIME en su primera edición en español, puso a Bad Bunny en su portada.12\\u200b\\n\\nSu nombre artístico proviene de una fotografía de su infancia tomada durante un Domingo de Resurrección, en la que sale con unas orejas de conejo puestas en la cabeza.13\\u200b\\n\\nEs reconocido por diferentes medios como el «rey del trap latino».14\\u200b15\\u200b', metadata={'source': 'bad_bunny.txt'}),\n",
       " Document(page_content='Es reconocido por diferentes medios como el «rey del trap latino».14\\u200b15\\u200b\\n\\nPrimeros años\\nBenito nació el 10 de marzo de 1994 en Almirante Sur, Puerto Rico. Su padre,Benito \"Tito\" Martínez, era un conductor de camiones, y su madre, Lysaurie Ocasio, una retirada maestra de inglés.16\\u200b17\\u200b Su madre solía escuchar canciones de salsa, merengue y baladas, como de Juan Gabriel Abrázame muy fuerte, mientras que Bad Bunny ayudaba con los coros.18\\u200b Martínez creció en las playas de Puerto Rico, en la comunidad de Vega Baja, con sus padres y dos hermanos menores, Benie y Bysael,17\\u200b a quien considera ser de sus mejores amigos. Él declaró ser criado en un hogar feliz, diciendo que \"no era de los chicos que solían andar en la calle, me gustaba estar en casa con mi familia\".19\\u200b', metadata={'source': 'bad_bunny.txt'}),\n",
       " Document(page_content='Queriendo ser un cantante desde los 5 años,20\\u200b atendía la iglesia junto a su madre cuando era niño y cantaba en el coro hasta los 13 años. Después de dejar el coro, desarrolló intereses por artistas que sonaban en la radio, como Daddy Yankee y Héctor Lavoe.17\\u200b Su primera presentación como solista fue cuando interpretó la canción de Juanes Mala gente en un show de talentos escolar.19\\u200b A pesar de ser tímido durante su tiempo en la secundaria, Benito solía hacer freestyles para entretener a sus compañeros de clase, desarrollando una reputación en su escuela por su creatividad y humor.17\\u200b Sus intereses en su adolescencia incluyeron el skateboarding y la lucha libre profesional, de donde también sacó su estilo de moda.17\\u200b', metadata={'source': 'bad_bunny.txt'}),\n",
       " Document(page_content='Hablando de su distancia de la industria musical de Puerto Rico, Benito declaró: \"Soy de Vega Baja, un área pequeña que no es una metrópolis como San Juan que es donde provienen la mayoría de los artistas del género. Eso es lo más sorprendente e increíble de todo esto, yo vine de la nada misma. Cuando estaba en la escuela solía pararme en el balcón de mi casa cantando y la gente se acercaba a escucharme\".21\\u200b Además reveló que cuando era joven su madre quería que fuera un ingeniero y su padre prefería que fuera un jugador de béisbol, mientras que su maestro decía que le iría mejor como un bombero. En cambio, él tomó clases de comunicación audiovisual en Universidad de Puerto Rico en Arecibo.22\\u200b', metadata={'source': 'bad_bunny.txt'}),\n",
       " Document(page_content='Carrera\\nInicios', metadata={'source': 'bad_bunny.txt'}),\n",
       " Document(page_content='Comenzó a escribir y crear sus propias interpretaciones a sus 14 años,23\\u200b hasta que en 2013, empezaría a publicar sus canciones por medio de SoundCloud,2\\u200b entre ellas «Get» en 2013, «Tentación» en 2014, «Solo avísame» en 2015, entre otros.24\\u200b25\\u200b Mientras trabajaba como empaquetador en los Supermercados Econo en Vega Baja durante 2016, Benito lanzaba música como un artista independiente en SoundCloud, donde su canción «Diles» llamó la atención del productor DJ Luian quien lo contrató para su sello discográfico Hear This Music.26\\u200b27\\u200b28\\u200b DJ Luian introdujo a Bad Bunny al equipo de productores Mambo Kingz, quienes estaban intrigados por la experimentación de la música y la moda de Benito.29\\u200b Desde entonces, él logró entrar varias veces a la lista de Estados Unidos Hot Latin Songs. Su primer éxito, el sencillo «Soy peor», alcanzó el puesto 22 en la lista Hot Latin Songs y estableció a Bad Bunny como un pionero en la escena del trap latino. Diez meses después de la publicación del video', metadata={'source': 'bad_bunny.txt'}),\n",
       " Document(page_content='éxito, el sencillo «Soy peor», alcanzó el puesto 22 en la lista Hot Latin Songs y estableció a Bad Bunny como un pionero en la escena del trap latino. Diez meses después de la publicación del video oficial de «Soy peor», alcanzó las 330 millones de reproducciones en YouTube.30\\u200b Su canción «Krippy Kush» junto a Farruko y el productor Jamaicano Rvssian también fue un éxito.', metadata={'source': 'bad_bunny.txt'}),\n",
       " Document(page_content='2017-2019: Reconocimiento, X100PRE y Oasis\\nEn mayo de 2017 la colaboración de Bad Bunny en «Ahora me llama» de Karol G generó más de 700 millones de visualizaciones en YouTube y alcanzó el puesto 10 en la lista Billboard Hot Latin Songs.31\\u200b El sencillo fue descrito por Marty Preciado de NPR como un \"himno de trap pesado y sin remordimientos al poder de la feminidad, llenos de charles y subgraves pesados [que] desafía la masculinidad hegemónica, cantando sobre el respeto, el amor y las decisiones sexuales positivas.\"32\\u200b \"Ahora me llama\" fue catalogado como una de las Mejores Canciones Latinas del 2017.32\\u200b', metadata={'source': 'bad_bunny.txt'}),\n",
       " Document(page_content='En el verano del 2017, firmó un contrato exclusivo con Cárdenas Marketing Network (CMD) para varios países latinoamericanos.33\\u200b En julio, colaboró en el sencillo de Becky G «Mayores». En noviembre del mismo año, su tema «Tu No Metes Cabra» se ubicó en el puesto 38 de la lista Hot Latin Songs.34\\u200b35\\u200b El remix demandó la salida de prisión de Anuel AA. En el mismo mes, hosteó el primer programa en español de la radio Beats 1, Trap Kingz.36\\u200b Casi al mismo tiempo, la canción «Sensualidad», lanzada en colaboración con J Balvin y Prince Royce, se ubicó en el puesto número 10 de Hot Latin Songs.37\\u200b38\\u200b mientras que el remix de «Te boté» con Ozuna y Nicky Jam alcanzó el número uno en esa lista.39\\u200b Solo en el año 2017, Bad Bunny apareció en quince canciones que listaron en Billboard Hot Latin Songs.', metadata={'source': 'bad_bunny.txt'}),\n",
       " Document(page_content='Bad Bunny durante un concierto en Ecuador en 2019.\\nEn 2018, Cardi B colaboró con Bad Bunny y J Balvin en el sencillo «I like it», tema que alcanzó el primer puesto en Billboard Hot 100 de Estados Unidos,40\\u200b y se convirtió en el primer sencillo de Bad Bunny en ser número uno en dicha lista, además de recibir su nominación al Grammy por Grabación del Año.41\\u200b El 11 de octubre de 2018, lanzó «Mía» en colaboración con Drake,42\\u200b43\\u200b que alcanzó el número cinco en el Billboard Hot 100.44\\u200b En noviembre de 2018, Bad Bunny lanzó «Te Guste» con Jennifer Lopez, con un video dirigido por Mike Ho.45\\u200b', metadata={'source': 'bad_bunny.txt'}),\n",
       " Document(page_content='Bad Bunny lanzó su álbum debut X 100pre en la víspera de Navidad del 2018 poco después de dejar el sello de DJ Luian Hear this Music, revelando en una transmisión en vivo de Instagram que nunca se le permitió hacer un álbum y también confesando que en realidad produjo él mismo su propia música. Se uniría a Rimas Entertainment para lanzar su álbum debut el 24 de diciembre de 2018.46\\u200b En Metacritic, que asigna una calificación normalizada de 100 a partir de las críticas de críticos profesionales, recibió un puntaje promedio de 84 basado en cinco revisiones, que indica «aclamación universal».47\\u200b El álbum contiene una gran variedad de géneros musicales, incluyendo pop punk, música andina, dembow dominicano, siendo descrito como una «azotada de viento como si fuera un concierto de rock de los 80».48\\u200b Alexis Petridis del periódico The Guardian alabó la «creatividad sin filtros» de Bad Bunny, opinando que «él se siente menos parte del pop actual que un artista que opera ligeramente adyacente', metadata={'source': 'bad_bunny.txt'}),\n",
       " Document(page_content='Alexis Petridis del periódico The Guardian alabó la «creatividad sin filtros» de Bad Bunny, opinando que «él se siente menos parte del pop actual que un artista que opera ligeramente adyacente a el. Él está separado del pack tanto por su deseo de tomar riesgos como por sus raíces».48\\u200b Desde el 8 hasta el 10 de marzo de 2019, Bad Bunny interpretó una serie de conciertos de fin de semana que se agotaron, en el Coliseo de Puerto Rico José Miguel Agrelot. El concierto inicial de 2 fechas se agotó en horas, lo que provocó una tercera fecha, después de mucha especulación y demanda, incluyendo entradas para estudiantes con un precio especial.49\\u200b50\\u200b X 100pre fue incluido más tarde en la lista votada por la industria de Rolling Stone de los 500 mejores álbumes de todos los tiempos (2020) en el puesto número 447.51\\u200b', metadata={'source': 'bad_bunny.txt'}),\n",
       " Document(page_content='El 28 de junio de 2019, Bad Bunny lanzó Oasis, un álbum colaborativo de ocho canciones con J Balvin. El disco fue lanzado durante la noche y se consideró un lanzamiento sorpresa.52\\u200b Los dos artistas se conocieron por primera vez en un concierto de Balvin en Puerto Rico, cuando Bad Bunny estaba trabajando en lanzar música en SoundCloud, y luego colaboraron en la canción de 2017 «Si tu novio te deja sola».53\\u200b La química entre los dos fue tan fuerte que se les ocurrió la idea de lanzar un álbum conjunto.52\\u200b Oasis alcanzó el número nueve en el Billboard Hot 10054\\u200b y encabezó la lista Latin Album de Estados Unidos.55\\u200b Ese mismo año, actuó en el escenario principal de Coachella.56\\u200b Una canción de protesta «Afilando los cuchillos» con letras de Bad Bunny y Residente, se lanzó durante las protestas de Puerto Rico en 2019 contra Ricardo Rosselló.57\\u200b La canción obtuvo 2.5 millones de visitas en YouTube dentro de un día de su lanzamiento.58\\u200b Días después, tras la renuncia de Rosselló, Residente', metadata={'source': 'bad_bunny.txt'}),\n",
       " Document(page_content='de Puerto Rico en 2019 contra Ricardo Rosselló.57\\u200b La canción obtuvo 2.5 millones de visitas en YouTube dentro de un día de su lanzamiento.58\\u200b Días después, tras la renuncia de Rosselló, Residente y Bad Bunny lanzaron el sencillo «Bellacoso»., realizado debido a una apuesta de Residente de hacer un tema de reguetón bailable si Rosselló renunciaba.59\\u200b', metadata={'source': 'bad_bunny.txt'}),\n",
       " Document(page_content='2020-2021: YHLQMDLG, Las que no iban a salir y El último tour del mundo', metadata={'source': 'bad_bunny.txt'}),\n",
       " Document(page_content='A inicios de 2020, se empezó a rumorear el nombre de su próximo álbum de estudio cuando Bad Bunny lo escribía de manera frecuente en sus redes sociales.60\\u200b El título del álbum se mencionó por primera vez durante una secuencia del video musical del sencillo «Vete».61\\u200b62\\u200b En febrero de 2020, fue invitado en el espectáculo de medio tiempo del Super Bowl LIV, encabezado por Jennifer Lopez y Shakira.63\\u200b Durante el evento Calibash de 2020 realizada en el Staples Center de la ciudad de Los Ángeles, confirmó que el nombre del álbum sería YHLQMDLG.64\\u200b El 2 de febrero, anunció que el álbum saldría en el mes de febrero, y que contaría con un total de veinte canciones.65\\u200b Finalmente, anunció el álbum junto con su portada oficial el 27 de febrero de 2020, durante una aparición en el programa de televisión The Tonight Show Starring Jimmy Fallon.66\\u200b67\\u200b La portada fue llevada a cabo por el director y fotógrafo Germán de la Fuente.68\\u200b', metadata={'source': 'bad_bunny.txt'}),\n",
       " Document(page_content=\"Lanzó el álbum YHLQMDLG la medianoche del 29 de febrero de 2020.69\\u200b El título significa «Yo hago lo que me da la gana» y cuenta con colaboraciones con Daddy Yankee, Jowell & Randy, Ñengo Flow, Myke Towers, Kendo Kaponi, Arcángel, Nesi, Anuel AA, entre otros.70\\u200b El álbum es un homenaje a las marquesinas (fiestas de garaje) que Bad Bunny creció asistiendo, y presenta muchos guiños al reguetón de principios y mediados de la década de 2000.70\\u200b En la canción final del álbum, «<3», el artista anunció su intención de retirarse después de lanzar un álbum más, con la letra «Y en nueve mese' vuelvo y saco otro, pa' retirarme tranquilo como Miguel Cotto», haciendo referencia a la jubilación del boxeador puertorriqueño.70\\u200b Señaló que el estrés de la fama ha tenido un impacto negativo en su salud mental.70\\u200b Debutó en el número dos en el Billboard 200 de Estados Unidos, convirtiéndose en el álbum en español que alcanzó la posición más alta en toda la historia en dicha lista.71\\u200b El álbum fue\", metadata={'source': 'bad_bunny.txt'}),\n",
       " Document(page_content='mental.70\\u200b Debutó en el número dos en el Billboard 200 de Estados Unidos, convirtiéndose en el álbum en español que alcanzó la posición más alta en toda la historia en dicha lista.71\\u200b El álbum fue recibido con aclamación de la crítica, quien elogió la diversidad musical del disco. Para la promoción del álbum se estrenaron las pistas «Vete» como el sencillo principal,72\\u200b «Ignorantes» en colaboración con el cantante panameño Sech y «La difícil».73\\u200b En marzo de 2020, Bad Bunny lanzó el video musical de «Yo perreo sola», en el que el artista baila vestido de drag queen.74\\u200b El fotograma final del video denuncia el acoso sexual a las mujeres, y dice: \"Si ella no quiere bailar contigo, respétala, ella perrea sola». Sobre la canción y el video, Bad Bunny dijo: \"Lo escribí desde la perspectiva de una mujer. Quería que la voz de una mujer cantara -yo perreo sola- porque no significa lo mismo cuando un hombre la canta. Pero a veces me siento como una mujer». «Yo perreo sola» consiguió el número', metadata={'source': 'bad_bunny.txt'}),\n",
       " Document(page_content='una mujer. Quería que la voz de una mujer cantara -yo perreo sola- porque no significa lo mismo cuando un hombre la canta. Pero a veces me siento como una mujer». «Yo perreo sola» consiguió el número uno en la lista Billboard Latin Airplay, ganando su noveno número uno| en la lista en poco más de dos años.74\\u200b', metadata={'source': 'bad_bunny.txt'}),\n",
       " Document(page_content='Portada de Las que no iban a salir\\nEl 4 de abril de 2020, lanzó la canción inspirada en el COVID-19, «En casita», por SoundCloud, que expresó solidaridad hacia los demás en cuarentena y contó con voces de su novia, Gabriela Berlingeri.75\\u200b El 10 de mayo, estrenó un álbum recopilatorio Las que no iban a salir, el cual cuenta con la participación de Don Omar, Zion & Lennox, Nicky Jam, Yandel, entre otros,76\\u200b y el cual es una recopilación de canciones que no fueron terminadas ni que fueron lanzadas. Las canciones luego fueron interpretadas en un vivo en Instagram que Bad Bunny hizo en abril. Discutiendo el lanzamiento sorpresa del álbum, Bad Bunny dijo: “No tenía ningún significado real. Solo pensé: ‘Mierda, la gente necesita entretenimiento’”19\\u200b Bad Bunny había estado filmando su papel secundario en Narcos: México antes de que el rodaje fuera pospuesto debido a la pandemia.77\\u200b', metadata={'source': 'bad_bunny.txt'}),\n",
       " Document(page_content='En julio de 2020, Bad Bunny apareció en la primera portada digital de la revista Playboy, como el primer hombre en ser portada desde el fundador de la propia revista, Hugh Hefner. La portada fue tomada por el fotógrafo Stillz en Miami, Florida, y en la revista incluye un artículo llamado \"Bad Bunny is Not Playing God\". También recibió el premio ASCAP Latino al Compositor del Año.78\\u200b El mes siguiente, su canción «Pero ya no» apareció en la campaña presidencial del 2020 del candidato Joe Biden.79\\u200b El 20 de septiembre, Bad Bunny interpretó un concierto gratuito sorpresa vía YouTube desde lo alto de un camión plano que parecía un vagón de metro que pasaba por las calles de Nueva York hasta el Hospital Harlem.80\\u200b Con una caravana que incluye policías y vehículos parpadeando sus luces, el vagón de metro con Bad Bunny en la parte superior pasó por El Bronx y Washington Heights en Manhattan.81\\u200b En octubre de 2020, Bad Bunny lanzó el sencillo «Dákiti» con Jhay Cortez, quien alcanzó el puesto', metadata={'source': 'bad_bunny.txt'}),\n",
       " Document(page_content='de metro con Bad Bunny en la parte superior pasó por El Bronx y Washington Heights en Manhattan.81\\u200b En octubre de 2020, Bad Bunny lanzó el sencillo «Dákiti» con Jhay Cortez, quien alcanzó el puesto uno del Billboard Global 200, y alcanzó el puesto cinco en el US Hot 100. La canción es incluida en su tercer álbum, El último tour del mundo, el cual fue lanzado el 27 de noviembre del 2020 y del cual fue descrito como un disco ambicioso y personal.82\\u200b Se convirtió en el primer disco completo en español en alcanzar el número uno en el Billboard 200.83\\u200b', metadata={'source': 'bad_bunny.txt'}),\n",
       " Document(page_content='Bad Bunny y YHLQMDLG se convirtieron respectivamente en el artista y álbum más reproducido de Spotify durante el año 2020.84\\u200b Marcó la primera vez que un artista musical en lengua no inglesa encabeza la lista de fin de año, con un artículo de The Guardian considerándolo «la estrella pop más grande del mundo» por sus números de reproducciones.85\\u200b El álbum recibió una nominación para un Premio Grammy al Mejor álbum de pop o urbano latino.86\\u200b El 20 de febrero de 2021, interpretó «La noche de anoche» con Rosalía y «Te deseo lo mejor» en Saturday Night Live, conducido por Regé-Jean Page, además de aparecer en el sketch musical pregrabado \"Loco\" y \"Sea Shanty\".87\\u200b\\n\\nEn noviembre de 2021, se dio a conocer que se convirtió en el primer artista con 100 videos con más de 100 millones de visitas (c/u) en YouTube.88\\u200b', metadata={'source': 'bad_bunny.txt'}),\n",
       " Document(page_content='En noviembre de 2021, se dio a conocer que se convirtió en el primer artista con 100 videos con más de 100 millones de visitas (c/u) en YouTube.88\\u200b\\n\\n2022-2023: Un verano sin ti y nadie sabe lo que va a pasar mañana\\nEn 2021, Benito, anunció que se encontraba trabajando en un nuevo disco, el nombre de este sería Un verano sin ti. El artista anunció el álbum a comienzos del año 2022 con videos promocionales que fueron publicados en los primeros meses de dicho año junto a su pareja de por aquel entonces, Gabriela Berlingeri y el actor Mario Casas vía vídeos de Instagram.89\\u200b90\\u200b', metadata={'source': 'bad_bunny.txt'}),\n",
       " Document(page_content='El disco fue lanzado el 6 de mayo de 2022.91\\u200b Este cuarto álbum de estudio de Benito, consta de 23 sencillos, en los cuales abarco géneros como Reguetón, trap latino, rock, merengue, deep house, synth pop, dancehall, entre otros.92\\u200b Cuenta con las colaboraciones de Chencho Corleone, Jhay Cortez, Tony Dize, Rauw Alejandro, Bomba Estéreo, the Marías y Buscabulla.93\\u200b El productor principal del álbum fue Tainy y también contó con colaboraciones con otros como La Paciencia, Subelo NEO, etc. Por tercer año consecutivo, fue nombrado el artista más escuchado en Spotify.94\\u200bA finales de 2022, anunció que a lo largo del año 2023 haría una pausa musical para cuidar su salud emocional.95\\u200b', metadata={'source': 'bad_bunny.txt'}),\n",
       " Document(page_content='El viernes 13 de octubre de 2023, Martínez Ocasio retornó a la música publicando su quinto álbum de estudio, titulado Nadie sabe lo que va a pasar mañana (estilizado en minúscula), el proyecto contó con 22 sencillos y colaboraciones con los artistas Young Miko, Mora, Bryant Myers, Luar la L, YovngChimi, Eladio Carrión, Feid, Arcángel, Ñengo Flow y De la Ghetto.96\\u200b97\\u200b El álbum tuvo tres sencillos promocionales, el primero «Where She Goes» publicado 18 de mayo de ese mismo año, mientras que el 26 de septiembre lanzó «Un preview» y junto a la publicación del álbum lanzó el video musical de «Monaco», en el que cuenta con la presencia del actor estadounidense Al Pacino y el piloto de carreras Sergio \"Checo\" Pérez.98\\u200b99\\u200bEl álbum fue el más reproducido de todo el 2023 en Spotify, logrando la marca a tan solo un día de su lanzamiento.100\\u200b101\\u200b', metadata={'source': 'bad_bunny.txt'}),\n",
       " Document(page_content='El 21 de octubre de 2023, Bad Bunny participó en el prestigioso programa estadounidense Saturday Night Live,102\\u200b donde formó parte de sketches y presentó algunas de sus canciones.\\n\\nEn febrero de 2024, se anunció que Bad Bunny sería uno de los presentadores de la 96.ª edición de los Premios Óscar.103\\u200b\\n\\nArte\\nEstilo lírico y musical\\nBad Bunny es primordialmente un artista de reguetón y trap latino.104\\u200b Como se describe en un artículo de la Rolling Stone, Bad Bunny rapea y canta con un \"tono conversacional\", empleando \"un tono bajo y compuesto, con melodías pegajosas y una cadencia de rapero\".21\\u200b En una entrevista con Billboard, Bad Bunny declaró que sus mayores inspiraciones musicales mientras crecía fueron Héctor Lavoe, Vico C, Daddy Yankee y Marc Anthony.105\\u200b De niño, solía escuchar frecuentemente salsa y merengue a través de su padre y baladas pop por parte de su madre. Cuando descubrió la música en inglés, se vio influenciado por el trap y el hip-hop.106\\u200b', metadata={'source': 'bad_bunny.txt'}),\n",
       " Document(page_content='Durante su adolescencia, pasó por \"temporadas musicales\" en las que escuchaba casi exclusivamente un determinado tipo de música; él reflexiona que \"hubo temporada de bachata, temporada de indie-pop, incluso temporada de Bee Gees\".19\\u200b Daddy Yankee es una gran influencia para Bad Bunny, pero Lavoe es su mayor inspiración y se describe como \"una hebra fundamental del ADN musical de Bad Bunny\";107\\u200b Luego dijo que, cuando crecía, entretenía a los vecinos desde su balcón interpretando canciones de Lavoe.19\\u200b Aunque es principalmente un artista de trap y reguetón, sus canciones también incluyen influencias del soul, el pop y el R&B.28\\u200b Abordó su experimentación musical afirmando: \"Si mañana quiero sacar un disco de rock o uno de bachata, nadie me puede decir nada, ¿por qué yo no? Hay que intentar unir públicos, unir países, unir gustos musicales, unir a la gente\".108\\u200b También experimentó con el \"garage-pop punk\" en la canción \"Tenemos que hablar\" de su álbum X 100pre.109\\u200b En AllMusic, Thom', metadata={'source': 'bad_bunny.txt'}),\n",
       " Document(page_content='unir públicos, unir países, unir gustos musicales, unir a la gente\".108\\u200b También experimentó con el \"garage-pop punk\" en la canción \"Tenemos que hablar\" de su álbum X 100pre.109\\u200b En AllMusic, Thom Jurek comentó que el álbum \"expandió los límites del trap latino hasta los márgenes del pop\".110\\u200b Varias publicaciones le han atribuido el mérito de haber introducido el trap latino en el mercado de la música en inglés.111\\u200b112\\u200b', metadata={'source': 'bad_bunny.txt'}),\n",
       " Document(page_content='Según Timothy Monger de AllMusic, sus letras \"van desde el humor y el patetismo hasta el desamor y la ira (a veces en la misma canción)\".28\\u200b Al hablar del álbum de colaboración de Oasis entre Bad Bunny y J Balvin, Joe Coscarelli señaló que los dos artistas \"crean letras con referencias geográficas específicas y alusiones culturales, sin mostrar concesiones por las audiencias blancas estadounidenses a las que, sin embargo, les gusta su música\".108\\u200b Según Paper, otros temas explorados en la música de Bad Bunny incluyen \"el amor propio, la inclusión y la aceptación LGBTQ\".113\\u200b Sus canciones \"Yo perreo sola\" y \"Bellacoso\" (con Residente) denuncian el acoso sexual, esta última inspirada en el movimiento feminista de Puerto Rico, especialmente en las protestas contra el gobernador Ricardo Rosselló.74\\u200b59\\u200b\\n\\nImagen', metadata={'source': 'bad_bunny.txt'}),\n",
       " Document(page_content='Bad Bunny es reconocido por su gran variedad de looks.', metadata={'source': 'bad_bunny.txt'}),\n",
       " Document(page_content='Su sentido de la moda ha sido destacado por los medios de comunicación. Vanessa Rosales, de la CNN, opinó que «en rosa, flores y pantalones cortos, Bad Bunny defiende una nueva masculinidad».114\\u200b Según Vogue, Bad Bunny es un «conocido fanático de las gafas de sol».115\\u200b El rapero bromeó una vez diciendo que poder llevar gafas de sol por la noche era una motivación clave para convertirse en artista.115\\u200b Su comportamiento tan variante de género está a la vista en muchos de sus vídeos, y cuando, en las galas de premios, aparece con las uñas largas, bien cuidadas y pulidas.104\\u200b116\\u200b Ben Beaumont-Thomas, de The Guardian, opinó en 2020 que su estilo influyó en otros artistas latinos, que «a menudo comparten su colorida mezcla de ropa de calle y sastrería».85\\u200b En el vídeo de su sencillo «Estamos bien», se ve a Bad Bunny disfrutando de su tiempo con sus amigos, y luego puliendo sus uñas con un esmalte de color púrpura y secándolas con un soplador.114\\u200b Su video para «Yo perreo sola» muestra al', metadata={'source': 'bad_bunny.txt'}),\n",
       " Document(page_content='bien», se ve a Bad Bunny disfrutando de su tiempo con sus amigos, y luego puliendo sus uñas con un esmalte de color púrpura y secándolas con un soplador.114\\u200b Su video para «Yo perreo sola» muestra al artista actuando en versión drag. Su sentido de la moda también está influenciado por su interés por el skateboarding cuando era adolescente.117\\u200b Tras entrevistarlo en 2018, los entrevistadores de NPR Félix Contreras y Jasmine Garsd dijeron que una de las cosas que más les llamó la atención fue su humildad.118\\u200b', metadata={'source': 'bad_bunny.txt'}),\n",
       " Document(page_content='La extravagante presencia de Bad Bunny en las redes sociales ha acaparado la atención de los medios de comunicación durante la pandemia de COVID-19. El 2 de mayo de 2020 organizó una sesión de Instagram en directo de tres horas de duración, en la que más de 250 000 espectadores estuvieron conectados en todo momento, llegando en un momento dado a 320 000 espectadores.119\\u200b La artista de Houston Cynthia Coronado pintó un cuadro de un popular post del rapero bronceándose mientras llevaba unas gafas de sol con forma de corazón en la cuarentena, y Bad Bunny ofreció comprar el cuadro a través de Instagram por 5000 dólares.119\\u200b El 14 de mayo de 2020, Rolling Stone presentó a Bad Bunny en el artículo de portada de la revista titulado Bad Bunny en Cautiverio, un relato detallado de la cuarentena que pasó el rapero en un Airbnb de Puerto Rico.19\\u200b Bad Bunny se convirtió en el primer artista urbano latino en aparecer en la portada de la revista.16\\u200b Además, las fotos realizadas para el reportaje', metadata={'source': 'bad_bunny.txt'}),\n",
       " Document(page_content='que pasó el rapero en un Airbnb de Puerto Rico.19\\u200b Bad Bunny se convirtió en el primer artista urbano latino en aparecer en la portada de la revista.16\\u200b Además, las fotos realizadas para el reportaje fueron creadas por Gabriela Berlingeri, diseñadora de joyas y novia de Bad Bunny, lo que la convierte en la primera latina que realiza un reportaje de portada para la revista.16\\u200b Con el reportaje, la editora de música latina de Rolling Stone, Suzy Exposito, también se convirtió en la primera latina en escribir un artículo de portada para la revista.16\\u200b', metadata={'source': 'bad_bunny.txt'}),\n",
       " Document(page_content=\"En relación con su pasión durante su niñez por la lucha libre profesional, el comienzo de su vídeo musical «Chambea» presenta una introducción del luchador Ric Flair.17\\u200b Al hablar de la experiencia, Bad Bunny explicó: «[Haciendo el video], seguí diciendo, 'falta algo, falta algo'. Entonces se me ocurrió, 'vamos a poner un luchador legendario aquí'. Cuando llegué al video estaba nervioso, realmente nervioso, y no sabía si él iba a ser humilde o más como el personaje. ¡Pero es un súper, súper buena persona y nos hicimos amigos!».17\\u200b El interés de Bad Bunny por la lucha libre también influyó en su deseo de explorar el estilo andrógino y femenino, y el rapero explicó: «Cada luchador tiene su manera de ser y los respetan. Tienen pelo largo y pueden pintarse la cara, pero son seres muy fuertes y poderosos».19\\u200b\", metadata={'source': 'bad_bunny.txt'}),\n",
       " Document(page_content='Vida personal\\nEn 2017, el artista conoció a la diseñadora de joyas Gabriela Berlingeri en un restaurante mientras cenaba con su familia, y los dos comenzaron a salir poco después.120\\u200b Berlingeri se convirtió en la primera latina en fotografiar la portada de Rolling Stone cuando fotografió al rapero para la portada de mayo de 2020 de la revista.121\\u200b En una entrevista de 2020 con Los Angeles Times, Bad Bunny declaró que ve la sexualidad como algo fluido. Él dijo: «Al final del día, no sé si en 20 años me gustará un hombre. Uno nunca sabe en la vida. Pero en este momento soy heterosexual y me gustan las mujeres».122\\u200b\\n\\nEn marzo de 2023, Carliz De la Cruz su expareja desde 2011 a 2016 inició una demanda en contra del artista por “violación de derechos de imagen, derechos morales de autor, daños y perjuicios, por la utilización de la frase ‘Bad Bunny baby’”.123\\u200bEn ese mismo año, Martínez Ocasio comenzó una relación con la modelo estadounidense Kendall Jenner.124\\u200b125\\u200b', metadata={'source': 'bad_bunny.txt'}),\n",
       " Document(page_content='Activismo\\nEn 2019, fue nominado a los Premios Tu Música Urbano inaugurales de Telemundo, en la categoría de «Premio humanitario del Año».126\\u200b\\n\\nEl 22 de julio de 2019, Bad Bunny se unió a artistas como Residente, Ricky Martin y más de medio millón de puertorriqueños para tomar las calles y cerrar la Autopista Las Américas, una carretera importante también conocida como la Autopista Luis A. Ferré. En protesta por un telegram del Gobernador donde se burlaba de personas gays y de artistas y en contra de la corrupción gubernamental para sacar del cargo al gobernado de PR Ricardo Rosello...127\\u200b No se ha pronunciado con respecto al movimiento de la estadidad en Puerto Rico y ha manifestado que preferiría responder más adelante con mayor claridad.120\\u200b', metadata={'source': 'bad_bunny.txt'}),\n",
       " Document(page_content='En apoyo a los derechos LGBT, Bad Bunny criticó un tuit del reguetonero Don Omar considerado homofóbico.128\\u200b Durante una actuación en The Tonight Show Starring Jimmy Fallon en febrero de 2020, llamó la atención sobre el asesinato de la mujer transgénero Alexa Negrón Luciano en Puerto Rico al usar una camiseta con las palabras «Mataron a Alexa. No a un hombre con falda», haciendo referencia a informes noticiosos que habían malinterpretado el género de la víctima.129\\u200b120\\u200b Ricky Martin ha declarado que Bad Bunny «se ha convertido en un ícono para la comunidad queer latina\" debido a su apoyo abierto a los latinos homosexuales y transgénero, así como a su adopción de la cultura drag.120\\u200b', metadata={'source': 'bad_bunny.txt'}),\n",
       " Document(page_content='Lucha libre profesional\\nUn autoproclamado fanático de toda la vida de la lucha libre profesional, Bad Bunny comenzó a hacer apariciones en la promoción estadounidense WWE en 2021.130\\u200b Durante el evento anual Royal Rumble de la WWE celebrado el 31 de enero de 2021, Bad Bunny interpretó su canción \"Booker T\" en vivo, que también tuvo una aparición del ex luchador del mismo nombre.131\\u200b Luego comenzó a aparecer en el programa de televisión semanal de WWE Monday Night Raw.132\\u200b\\n\\nEl luchador Damian Priest, un compatriota puertorriqueño, se alió con Bad Bunny y lo ayudó a ganar el Campeonato de la WWE 24/7 de Akira Tozawa en el episodio del 15 de febrero de Raw.133\\u200b En el episodio del 15 de marzo, cedió el Campeonato 24/7 a R-Truth a cambio de recuerdos de Steve Austin de \"Stone Cold\", terminando su reinado en 28 días.134\\u200b135\\u200b En WrestleMania 37, Bad Bunny hizo equipo con Damian Priest en un tag team match para derrotar a The Miz y John Morrison en su debut en la lucha libre en el ring.136\\u200b', metadata={'source': 'bad_bunny.txt'}),\n",
       " Document(page_content='En el Royal Rumble 2022 el 29 de enero, Bad Bunny regresó a la WWE, compitiendo en el Royal Rumble match masculino. Eliminó a Sheamus y Dolph Ziggler y duró hasta los últimos cinco, cuando fue eliminado por el eventual ganador, Brock Lesnar.137\\u200b El 23 de enero de 2023, se anunció que Bad Bunny sería un luchador jugable en el videojuego WWE 2K23 como un bono de pre-orden.138\\u200b', metadata={'source': 'bad_bunny.txt'}),\n",
       " Document(page_content='El 8 de marzo de 2023, se anunció que Bad Bunny sería el anfitrión del próximo evento de WWE Backlash, que tendrá lugar en su natal Puerto Rico.139\\u200b El 1 de abril de 2023, Bad Bunny se unió al equipo español para comentar durante la lucha entre Rey Mysterio y Dominik Mysterio en la noche 1 de WrestleMania 39. Bunny intervendría durante la lucha, evitando que Dominik atacara a Rey con una cadena.140\\u200b Dos noches más tarde en Raw, Bunny, que estaba sentado en primera fila como fanático, fue atacado y estrangulado a través de la mesa de locutores por su excompañero Damian Priest, quien ahora era compañero de equipo de Dominik Mysterio en The Judgment Day.141\\u200b En el episodio del 24 de abril, Bunny regresó y atacó a Priest con un palo de kendo, anunciando posteriormente que en lugar de presentar Backlash, lucharía contra Priest en una pelea callejera de San Juan en el evento.142\\u200b En el episodio del 5 de mayo de SmackDown, Bunny ayudó al Latino World Order (LWO) a salvar a Rey Mysterio de un', metadata={'source': 'bad_bunny.txt'}),\n",
       " Document(page_content='Backlash, lucharía contra Priest en una pelea callejera de San Juan en el evento.142\\u200b En el episodio del 5 de mayo de SmackDown, Bunny ayudó al Latino World Order (LWO) a salvar a Rey Mysterio de un ataque de The Judgment Day.143\\u200b144\\u200b En Backlash el 6 de mayo, Bunny derrotó a Damian Priest en una lucha de estilo callejero.145\\u200b', metadata={'source': 'bad_bunny.txt'})]"
      ]
     },
     "execution_count": 10,
     "metadata": {},
     "output_type": "execute_result"
    }
   ],
   "source": [
    "splits"
   ]
  },
  {
   "cell_type": "markdown",
   "metadata": {},
   "source": [
    "Cargamos los embeddings"
   ]
  },
  {
   "cell_type": "code",
   "execution_count": 11,
   "metadata": {},
   "outputs": [],
   "source": [
    "# Create Ollama embeddings and vector store\n",
    "embedding_model = OllamaEmbeddings(model=\"llama2\")"
   ]
  },
  {
   "cell_type": "code",
   "execution_count": 12,
   "metadata": {},
   "outputs": [],
   "source": [
    "persist_directory = \"embeddings\"\n",
    "vectorstore = Chroma.from_documents(documents=splits, embedding=embedding_model, persist_directory=persist_directory)"
   ]
  },
  {
   "cell_type": "code",
   "execution_count": 13,
   "metadata": {},
   "outputs": [
    {
     "name": "stdout",
     "output_type": "stream",
     "text": [
      "[Document(page_content='Bad Bunny es reconocido por su gran variedad de looks.', metadata={'source': 'bad_bunny.txt'}), Document(page_content='Durante su adolescencia, pasó por \"temporadas musicales\" en las que escuchaba casi exclusivamente un determinado tipo de música; él reflexiona que \"hubo temporada de bachata, temporada de indie-pop, incluso temporada de Bee Gees\".19\\u200b Daddy Yankee es una gran influencia para Bad Bunny, pero Lavoe es su mayor inspiración y se describe como \"una hebra fundamental del ADN musical de Bad Bunny\";107\\u200b Luego dijo que, cuando crecía, entretenía a los vecinos desde su balcón interpretando canciones de Lavoe.19\\u200b Aunque es principalmente un artista de trap y reguetón, sus canciones también incluyen influencias del soul, el pop y el R&B.28\\u200b Abordó su experimentación musical afirmando: \"Si mañana quiero sacar un disco de rock o uno de bachata, nadie me puede decir nada, ¿por qué yo no? Hay que intentar unir públicos, unir países, unir gustos musicales, unir a la gente\".108\\u200b También experimentó con el \"garage-pop punk\" en la canción \"Tenemos que hablar\" de su álbum X 100pre.109\\u200b En AllMusic, Thom', metadata={'source': 'bad_bunny.txt'}), Document(page_content='Vida personal\\nEn 2017, el artista conoció a la diseñadora de joyas Gabriela Berlingeri en un restaurante mientras cenaba con su familia, y los dos comenzaron a salir poco después.120\\u200b Berlingeri se convirtió en la primera latina en fotografiar la portada de Rolling Stone cuando fotografió al rapero para la portada de mayo de 2020 de la revista.121\\u200b En una entrevista de 2020 con Los Angeles Times, Bad Bunny declaró que ve la sexualidad como algo fluido. Él dijo: «Al final del día, no sé si en 20 años me gustará un hombre. Uno nunca sabe en la vida. Pero en este momento soy heterosexual y me gustan las mujeres».122\\u200b\\n\\nEn marzo de 2023, Carliz De la Cruz su expareja desde 2011 a 2016 inició una demanda en contra del artista por “violación de derechos de imagen, derechos morales de autor, daños y perjuicios, por la utilización de la frase ‘Bad Bunny baby’”.123\\u200bEn ese mismo año, Martínez Ocasio comenzó una relación con la modelo estadounidense Kendall Jenner.124\\u200b125\\u200b', metadata={'source': 'bad_bunny.txt'}), Document(page_content='Queriendo ser un cantante desde los 5 años,20\\u200b atendía la iglesia junto a su madre cuando era niño y cantaba en el coro hasta los 13 años. Después de dejar el coro, desarrolló intereses por artistas que sonaban en la radio, como Daddy Yankee y Héctor Lavoe.17\\u200b Su primera presentación como solista fue cuando interpretó la canción de Juanes Mala gente en un show de talentos escolar.19\\u200b A pesar de ser tímido durante su tiempo en la secundaria, Benito solía hacer freestyles para entretener a sus compañeros de clase, desarrollando una reputación en su escuela por su creatividad y humor.17\\u200b Sus intereses en su adolescencia incluyeron el skateboarding y la lucha libre profesional, de donde también sacó su estilo de moda.17\\u200b', metadata={'source': 'bad_bunny.txt'})]\n",
      "El Grammy Latino al que se refiere la pregunta es el Premio Grammy Latino de 2023, celebrado en Miami, Florida, el 21 de noviembre de 2023. Bad Bunny ganó el premio a Mejor Artista del año por su álbum \"X 100pre\".\n"
     ]
    }
   ],
   "source": [
    "# Create the retriever\n",
    "retriever = vectorstore.as_retriever()\n",
    "\n",
    "def format_docs(docs):\n",
    "    return \"\\n\\n\".join(doc.page_content for doc in docs)\n",
    "\n",
    "# Define the Ollama LLM function\n",
    "def ollama_llm(question, context):\n",
    "    formatted_prompt = f\"Question: {question}\\n\\nContext: {context}\"\n",
    "    response = ollama.chat(model='llama2', messages=[{'role': 'user', 'content': formatted_prompt}])\n",
    "    return response['message']['content']\n",
    "\n",
    "# Define the RAG chain\n",
    "def rag_chain(question):\n",
    "    retrieved_docs = retriever.invoke(question)\n",
    "    print(retrieved_docs)\n",
    "    formatted_context = format_docs(retrieved_docs)\n",
    "    return ollama_llm(question, formatted_context)\n",
    "\n",
    "# Use the RAG chain\n",
    "result = rag_chain(\"Album de Bad Bunny por el que ganó un Grammy Latino en 2023.\")\n",
    "print(result)"
   ]
  },
  {
   "cell_type": "markdown",
   "metadata": {},
   "source": [
    "Aqui podemos ver que sin context el modelo no responde bien."
   ]
  },
  {
   "cell_type": "code",
   "execution_count": 14,
   "metadata": {},
   "outputs": [
    {
     "data": {
      "text/plain": [
       "{'model': 'llama2',\n",
       " 'created_at': '2024-04-17T20:57:20.562215Z',\n",
       " 'message': {'role': 'assistant',\n",
       "  'content': '\\nEl álbum de Bad Bunny por el que ganó un Grammy Latino en 2023 es \"YHLQMDLG\". Este álbum fue lanzado en 2019 y obtuvo una nominación en la categoría de Mejor Album de Musica Urbana en los Premios Grammy Latinos de 2020, pero no ganó. Sin embargo, en 2023, Bad Bunny ganó el premio a Mejor Album de Musica Urbana por \"YHLQMDLG\" en la edición número 24 de los Premios Grammy Latinos.'},\n",
       " 'done': True,\n",
       " 'total_duration': 13681915167,\n",
       " 'load_duration': 41262167,\n",
       " 'prompt_eval_count': 28,\n",
       " 'prompt_eval_duration': 329768000,\n",
       " 'eval_count': 137,\n",
       " 'eval_duration': 13244032000}"
      ]
     },
     "execution_count": 14,
     "metadata": {},
     "output_type": "execute_result"
    }
   ],
   "source": [
    "ollama.chat(model='llama2', messages=[{'role': 'user', 'content': \"Album de Bad Bunny por el que ganó un Grammy Latino en 2023.\"}])"
   ]
  },
  {
   "cell_type": "markdown",
   "metadata": {},
   "source": [
    "Ahora queremos que responda con un JSON\n",
    "\n",
    "https://www.youtube.com/watch?v=eHfMCtlsb1o"
   ]
  },
  {
   "cell_type": "code",
   "execution_count": 15,
   "metadata": {},
   "outputs": [],
   "source": [
    "from openai import OpenAI\n",
    "from pydantic import BaseModel, Field\n",
    "from typing import List\n",
    "import instructor"
   ]
  },
  {
   "cell_type": "code",
   "execution_count": 16,
   "metadata": {},
   "outputs": [],
   "source": [
    "class BadBunnyInfo(BaseModel):\n",
    "    artist_name: str = Field(..., description=\"Artist name of the singer\")\n",
    "    name: str = Field(..., description=\"Real Name\")\n",
    "    surname: str = Field(..., description=\"Real Surname\")\n",
    "    birth_date: str = Field(..., description=\"Birth Date\")\n",
    "    year_YHLQMDLG: int = Field(..., description=\"Year of the album YHLQMDLG\")"
   ]
  },
  {
   "cell_type": "code",
   "execution_count": 17,
   "metadata": {},
   "outputs": [],
   "source": [
    "client = instructor.patch(\n",
    "    OpenAI(\n",
    "        base_url=\"http://localhost:11434/v1\",\n",
    "        api_key=\"ollama\",\n",
    "    ),\n",
    "    mode=instructor.Mode.JSON,\n",
    ")\n"
   ]
  },
  {
   "cell_type": "markdown",
   "metadata": {},
   "source": [
    "Primero cogemos solo la parte donde esta la informacion."
   ]
  },
  {
   "cell_type": "code",
   "execution_count": 18,
   "metadata": {},
   "outputs": [],
   "source": [
    "queries = [\n",
    "\"Nombre artistico del cantante de Bad Bunny\",\n",
    "\"Como se llama el cantante Bad Bunny\",\n",
    "\"Apellidos del cantante Bad Bunny\",\n",
    "\"Fecha de Nacimiento del cantante Bad Bunny\",\n",
    "\"En que año lanzo su album YHLQMDLG\",\n",
    "]\n"
   ]
  },
  {
   "cell_type": "code",
   "execution_count": 19,
   "metadata": {},
   "outputs": [],
   "source": [
    "retrieved_docs = {}\n",
    "for query in queries:\n",
    "    retrieved_doc = retriever.invoke(query)\n",
    "    retrieved_docs[query] = retrieved_doc"
   ]
  },
  {
   "cell_type": "code",
   "execution_count": 20,
   "metadata": {},
   "outputs": [
    {
     "name": "stdout",
     "output_type": "stream",
     "text": [
      "Nombre artistico del cantante de Bad Bunny\n",
      "\n",
      "\n",
      "2020-2021: YHLQMDLG, Las que no iban a salir y El último tour del mundo\n",
      "\n",
      "\n",
      "que pasó el rapero en un Airbnb de Puerto Rico.19​ Bad Bunny se convirtió en el primer artista urbano latino en aparecer en la portada de la revista.16​ Además, las fotos realizadas para el reportaje fueron creadas por Gabriela Berlingeri, diseñadora de joyas y novia de Bad Bunny, lo que la convierte en la primera latina que realiza un reportaje de portada para la revista.16​ Con el reportaje, la editora de música latina de Rolling Stone, Suzy Exposito, también se convirtió en la primera latina en escribir un artículo de portada para la revista.16​\n",
      "\n",
      "\n",
      "El disco fue lanzado el 6 de mayo de 2022.91​ Este cuarto álbum de estudio de Benito, consta de 23 sencillos, en los cuales abarco géneros como Reguetón, trap latino, rock, merengue, deep house, synth pop, dancehall, entre otros.92​ Cuenta con las colaboraciones de Chencho Corleone, Jhay Cortez, Tony Dize, Rauw Alejandro, Bomba Estéreo, the Marías y Buscabulla.93​ El productor principal del álbum fue Tainy y también contó con colaboraciones con otros como La Paciencia, Subelo NEO, etc. Por tercer año consecutivo, fue nombrado el artista más escuchado en Spotify.94​A finales de 2022, anunció que a lo largo del año 2023 haría una pausa musical para cuidar su salud emocional.95​\n",
      "\n",
      "\n",
      "Queriendo ser un cantante desde los 5 años,20​ atendía la iglesia junto a su madre cuando era niño y cantaba en el coro hasta los 13 años. Después de dejar el coro, desarrolló intereses por artistas que sonaban en la radio, como Daddy Yankee y Héctor Lavoe.17​ Su primera presentación como solista fue cuando interpretó la canción de Juanes Mala gente en un show de talentos escolar.19​ A pesar de ser tímido durante su tiempo en la secundaria, Benito solía hacer freestyles para entretener a sus compañeros de clase, desarrollando una reputación en su escuela por su creatividad y humor.17​ Sus intereses en su adolescencia incluyeron el skateboarding y la lucha libre profesional, de donde también sacó su estilo de moda.17​\n",
      "\n",
      "\n",
      "Como se llama el cantante Bad Bunny\n",
      "\n",
      "\n",
      "A principios de 2020, cantó en el Espectáculo de medio tiempo del Super Bowl LIV junto a Shakira, y se convirtió en el primer artista latino urbano en ser la portada de la revista Rolling Stone. Durante el año, Bad Bunny lanzó su segundo álbum YHLQMDLG (Yo hago lo que me de la gana), un álbum sorpresa recopilatorio Las que no iban a salir, su tercer álbum de estudio El último tour del mundo. Y en 2022; Un verano sin ti, un éxito comercial y de crítica, que debutó en la cima del Billboard 200 de Estados Unidos, marcando el segundo álbum número uno de Bad Bunny y el tercer álbum en español en encabezar la lista.\n",
      "\n",
      "\n",
      "Carrera\n",
      "Inicios\n",
      "\n",
      "\n",
      "El disco fue lanzado el 6 de mayo de 2022.91​ Este cuarto álbum de estudio de Benito, consta de 23 sencillos, en los cuales abarco géneros como Reguetón, trap latino, rock, merengue, deep house, synth pop, dancehall, entre otros.92​ Cuenta con las colaboraciones de Chencho Corleone, Jhay Cortez, Tony Dize, Rauw Alejandro, Bomba Estéreo, the Marías y Buscabulla.93​ El productor principal del álbum fue Tainy y también contó con colaboraciones con otros como La Paciencia, Subelo NEO, etc. Por tercer año consecutivo, fue nombrado el artista más escuchado en Spotify.94​A finales de 2022, anunció que a lo largo del año 2023 haría una pausa musical para cuidar su salud emocional.95​\n",
      "\n",
      "\n",
      "una mujer. Quería que la voz de una mujer cantara -yo perreo sola- porque no significa lo mismo cuando un hombre la canta. Pero a veces me siento como una mujer». «Yo perreo sola» consiguió el número uno en la lista Billboard Latin Airplay, ganando su noveno número uno| en la lista en poco más de dos años.74​\n",
      "\n",
      "\n",
      "Apellidos del cantante Bad Bunny\n",
      "\n",
      "\n",
      "2020-2021: YHLQMDLG, Las que no iban a salir y El último tour del mundo\n",
      "\n",
      "\n",
      "A principios de 2020, cantó en el Espectáculo de medio tiempo del Super Bowl LIV junto a Shakira, y se convirtió en el primer artista latino urbano en ser la portada de la revista Rolling Stone. Durante el año, Bad Bunny lanzó su segundo álbum YHLQMDLG (Yo hago lo que me de la gana), un álbum sorpresa recopilatorio Las que no iban a salir, su tercer álbum de estudio El último tour del mundo. Y en 2022; Un verano sin ti, un éxito comercial y de crítica, que debutó en la cima del Billboard 200 de Estados Unidos, marcando el segundo álbum número uno de Bad Bunny y el tercer álbum en español en encabezar la lista.\n",
      "\n",
      "\n",
      "El disco fue lanzado el 6 de mayo de 2022.91​ Este cuarto álbum de estudio de Benito, consta de 23 sencillos, en los cuales abarco géneros como Reguetón, trap latino, rock, merengue, deep house, synth pop, dancehall, entre otros.92​ Cuenta con las colaboraciones de Chencho Corleone, Jhay Cortez, Tony Dize, Rauw Alejandro, Bomba Estéreo, the Marías y Buscabulla.93​ El productor principal del álbum fue Tainy y también contó con colaboraciones con otros como La Paciencia, Subelo NEO, etc. Por tercer año consecutivo, fue nombrado el artista más escuchado en Spotify.94​A finales de 2022, anunció que a lo largo del año 2023 haría una pausa musical para cuidar su salud emocional.95​\n",
      "\n",
      "\n",
      "Queriendo ser un cantante desde los 5 años,20​ atendía la iglesia junto a su madre cuando era niño y cantaba en el coro hasta los 13 años. Después de dejar el coro, desarrolló intereses por artistas que sonaban en la radio, como Daddy Yankee y Héctor Lavoe.17​ Su primera presentación como solista fue cuando interpretó la canción de Juanes Mala gente en un show de talentos escolar.19​ A pesar de ser tímido durante su tiempo en la secundaria, Benito solía hacer freestyles para entretener a sus compañeros de clase, desarrollando una reputación en su escuela por su creatividad y humor.17​ Sus intereses en su adolescencia incluyeron el skateboarding y la lucha libre profesional, de donde también sacó su estilo de moda.17​\n",
      "\n",
      "\n",
      "Fecha de Nacimiento del cantante Bad Bunny\n",
      "\n",
      "\n",
      "2020-2021: YHLQMDLG, Las que no iban a salir y El último tour del mundo\n",
      "\n",
      "\n",
      "que pasó el rapero en un Airbnb de Puerto Rico.19​ Bad Bunny se convirtió en el primer artista urbano latino en aparecer en la portada de la revista.16​ Además, las fotos realizadas para el reportaje fueron creadas por Gabriela Berlingeri, diseñadora de joyas y novia de Bad Bunny, lo que la convierte en la primera latina que realiza un reportaje de portada para la revista.16​ Con el reportaje, la editora de música latina de Rolling Stone, Suzy Exposito, también se convirtió en la primera latina en escribir un artículo de portada para la revista.16​\n",
      "\n",
      "\n",
      "Activismo\n",
      "En 2019, fue nominado a los Premios Tu Música Urbano inaugurales de Telemundo, en la categoría de «Premio humanitario del Año».126​\n",
      "\n",
      "El 22 de julio de 2019, Bad Bunny se unió a artistas como Residente, Ricky Martin y más de medio millón de puertorriqueños para tomar las calles y cerrar la Autopista Las Américas, una carretera importante también conocida como la Autopista Luis A. Ferré. En protesta por un telegram del Gobernador donde se burlaba de personas gays y de artistas y en contra de la corrupción gubernamental para sacar del cargo al gobernado de PR Ricardo Rosello...127​ No se ha pronunciado con respecto al movimiento de la estadidad en Puerto Rico y ha manifestado que preferiría responder más adelante con mayor claridad.120​\n",
      "\n",
      "\n",
      "El 21 de octubre de 2023, Bad Bunny participó en el prestigioso programa estadounidense Saturday Night Live,102​ donde formó parte de sketches y presentó algunas de sus canciones.\n",
      "\n",
      "En febrero de 2024, se anunció que Bad Bunny sería uno de los presentadores de la 96.ª edición de los Premios Óscar.103​\n",
      "\n",
      "Arte\n",
      "Estilo lírico y musical\n",
      "Bad Bunny es primordialmente un artista de reguetón y trap latino.104​ Como se describe en un artículo de la Rolling Stone, Bad Bunny rapea y canta con un \"tono conversacional\", empleando \"un tono bajo y compuesto, con melodías pegajosas y una cadencia de rapero\".21​ En una entrevista con Billboard, Bad Bunny declaró que sus mayores inspiraciones musicales mientras crecía fueron Héctor Lavoe, Vico C, Daddy Yankee y Marc Anthony.105​ De niño, solía escuchar frecuentemente salsa y merengue a través de su padre y baladas pop por parte de su madre. Cuando descubrió la música en inglés, se vio influenciado por el trap y el hip-hop.106​\n",
      "\n",
      "\n",
      "En que año lanzo su album YHLQMDLG\n",
      "\n",
      "\n",
      "Carrera\n",
      "Inicios\n",
      "\n",
      "\n",
      "A principios de 2020, cantó en el Espectáculo de medio tiempo del Super Bowl LIV junto a Shakira, y se convirtió en el primer artista latino urbano en ser la portada de la revista Rolling Stone. Durante el año, Bad Bunny lanzó su segundo álbum YHLQMDLG (Yo hago lo que me de la gana), un álbum sorpresa recopilatorio Las que no iban a salir, su tercer álbum de estudio El último tour del mundo. Y en 2022; Un verano sin ti, un éxito comercial y de crítica, que debutó en la cima del Billboard 200 de Estados Unidos, marcando el segundo álbum número uno de Bad Bunny y el tercer álbum en español en encabezar la lista.\n",
      "\n",
      "\n",
      "El disco fue lanzado el 6 de mayo de 2022.91​ Este cuarto álbum de estudio de Benito, consta de 23 sencillos, en los cuales abarco géneros como Reguetón, trap latino, rock, merengue, deep house, synth pop, dancehall, entre otros.92​ Cuenta con las colaboraciones de Chencho Corleone, Jhay Cortez, Tony Dize, Rauw Alejandro, Bomba Estéreo, the Marías y Buscabulla.93​ El productor principal del álbum fue Tainy y también contó con colaboraciones con otros como La Paciencia, Subelo NEO, etc. Por tercer año consecutivo, fue nombrado el artista más escuchado en Spotify.94​A finales de 2022, anunció que a lo largo del año 2023 haría una pausa musical para cuidar su salud emocional.95​\n",
      "\n",
      "\n",
      "Alexis Petridis del periódico The Guardian alabó la «creatividad sin filtros» de Bad Bunny, opinando que «él se siente menos parte del pop actual que un artista que opera ligeramente adyacente a el. Él está separado del pack tanto por su deseo de tomar riesgos como por sus raíces».48​ Desde el 8 hasta el 10 de marzo de 2019, Bad Bunny interpretó una serie de conciertos de fin de semana que se agotaron, en el Coliseo de Puerto Rico José Miguel Agrelot. El concierto inicial de 2 fechas se agotó en horas, lo que provocó una tercera fecha, después de mucha especulación y demanda, incluyendo entradas para estudiantes con un precio especial.49​50​ X 100pre fue incluido más tarde en la lista votada por la industria de Rolling Stone de los 500 mejores álbumes de todos los tiempos (2020) en el puesto número 447.51​\n",
      "\n",
      "\n"
     ]
    }
   ],
   "source": [
    "result = \"\"\n",
    "\n",
    "for query, doc in retrieved_docs.items():\n",
    "    print(query)\n",
    "    result += query\n",
    "    print(\"\\n\")\n",
    "    result += \"\\n\"\n",
    "    for page in doc:\n",
    "        print(page.page_content)\n",
    "        result += page.page_content\n",
    "        print(\"\\n\")\n",
    "        result += \"\\n\""
   ]
  },
  {
   "cell_type": "code",
   "execution_count": 21,
   "metadata": {},
   "outputs": [
    {
     "data": {
      "text/plain": [
       "[Document(page_content='2020-2021: YHLQMDLG, Las que no iban a salir y El último tour del mundo', metadata={'source': 'bad_bunny.txt'}),\n",
       " Document(page_content='que pasó el rapero en un Airbnb de Puerto Rico.19\\u200b Bad Bunny se convirtió en el primer artista urbano latino en aparecer en la portada de la revista.16\\u200b Además, las fotos realizadas para el reportaje fueron creadas por Gabriela Berlingeri, diseñadora de joyas y novia de Bad Bunny, lo que la convierte en la primera latina que realiza un reportaje de portada para la revista.16\\u200b Con el reportaje, la editora de música latina de Rolling Stone, Suzy Exposito, también se convirtió en la primera latina en escribir un artículo de portada para la revista.16\\u200b', metadata={'source': 'bad_bunny.txt'}),\n",
       " Document(page_content='Activismo\\nEn 2019, fue nominado a los Premios Tu Música Urbano inaugurales de Telemundo, en la categoría de «Premio humanitario del Año».126\\u200b\\n\\nEl 22 de julio de 2019, Bad Bunny se unió a artistas como Residente, Ricky Martin y más de medio millón de puertorriqueños para tomar las calles y cerrar la Autopista Las Américas, una carretera importante también conocida como la Autopista Luis A. Ferré. En protesta por un telegram del Gobernador donde se burlaba de personas gays y de artistas y en contra de la corrupción gubernamental para sacar del cargo al gobernado de PR Ricardo Rosello...127\\u200b No se ha pronunciado con respecto al movimiento de la estadidad en Puerto Rico y ha manifestado que preferiría responder más adelante con mayor claridad.120\\u200b', metadata={'source': 'bad_bunny.txt'}),\n",
       " Document(page_content='El 21 de octubre de 2023, Bad Bunny participó en el prestigioso programa estadounidense Saturday Night Live,102\\u200b donde formó parte de sketches y presentó algunas de sus canciones.\\n\\nEn febrero de 2024, se anunció que Bad Bunny sería uno de los presentadores de la 96.ª edición de los Premios Óscar.103\\u200b\\n\\nArte\\nEstilo lírico y musical\\nBad Bunny es primordialmente un artista de reguetón y trap latino.104\\u200b Como se describe en un artículo de la Rolling Stone, Bad Bunny rapea y canta con un \"tono conversacional\", empleando \"un tono bajo y compuesto, con melodías pegajosas y una cadencia de rapero\".21\\u200b En una entrevista con Billboard, Bad Bunny declaró que sus mayores inspiraciones musicales mientras crecía fueron Héctor Lavoe, Vico C, Daddy Yankee y Marc Anthony.105\\u200b De niño, solía escuchar frecuentemente salsa y merengue a través de su padre y baladas pop por parte de su madre. Cuando descubrió la música en inglés, se vio influenciado por el trap y el hip-hop.106\\u200b', metadata={'source': 'bad_bunny.txt'})]"
      ]
     },
     "execution_count": 21,
     "metadata": {},
     "output_type": "execute_result"
    }
   ],
   "source": [
    "retrieved_docs['Fecha de Nacimiento del cantante Bad Bunny']"
   ]
  },
  {
   "cell_type": "code",
   "execution_count": 22,
   "metadata": {},
   "outputs": [],
   "source": [
    "content = \"\"\"\n",
    "Hola me llamo Bad Bunny, mi nombre real es Benito Antonio Martínez Ocasio, nací el 10 de marzo de 1994 y mi album YHLQMDLG lo publiqué en 2020.\n",
    "\"\"\"\n",
    "\n",
    "# Write same content but in english\n",
    "content = \"\"\"\n",
    "Hello my name is Bad Bunny, my real name is Benito Antonio Martínez Ocasio, I was born on March 10, 1994 and I released my album YHLQMDLG in 2020.\n",
    "\"\"\"\n",
    "# content = \"\"\"\n",
    "# Tienes en un texto la información de un cantante. El texto contiene información sobre su nombre real, su fecha de nacimiento y el año en el que su álbum YHLQMDLG. Aqui puedes encontrar el texto: \n",
    "# {texto}\n",
    "\n",
    "# Por favor, responde a las siguientes preguntas:\n",
    "# 1. Cual es su nombre artistico\n",
    "# 2. Cual es su nombre real\n",
    "# 3. Cual es su apellido\n",
    "# 4. Cual es su fecha de nacimiento\n",
    "# 5. En que año publico su album YHLQMDLG\n",
    "\n",
    "# Responde con un JSON con keys\n",
    "# 1. 'artirt_name'\n",
    "# 2. 'name'\n",
    "# 3. 'surname'\n",
    "# 4. 'birth_date'\n",
    "# 5. 'year_YHLQMDLG'\n",
    "# \"\"\""
   ]
  },
  {
   "cell_type": "code",
   "execution_count": 23,
   "metadata": {},
   "outputs": [
    {
     "ename": "ValidationError",
     "evalue": "5 validation errors for BadBunnyInfo\nartist_name\n  Field required [type=missing, input_value={'BadBunnyInfo': {'artist...G': 2020}, 'errors': []}, input_type=dict]\n    For further information visit https://errors.pydantic.dev/2.7/v/missing\nname\n  Field required [type=missing, input_value={'BadBunnyInfo': {'artist...G': 2020}, 'errors': []}, input_type=dict]\n    For further information visit https://errors.pydantic.dev/2.7/v/missing\nsurname\n  Field required [type=missing, input_value={'BadBunnyInfo': {'artist...G': 2020}, 'errors': []}, input_type=dict]\n    For further information visit https://errors.pydantic.dev/2.7/v/missing\nbirth_date\n  Field required [type=missing, input_value={'BadBunnyInfo': {'artist...G': 2020}, 'errors': []}, input_type=dict]\n    For further information visit https://errors.pydantic.dev/2.7/v/missing\nyear_YHLQMDLG\n  Field required [type=missing, input_value={'BadBunnyInfo': {'artist...G': 2020}, 'errors': []}, input_type=dict]\n    For further information visit https://errors.pydantic.dev/2.7/v/missing",
     "output_type": "error",
     "traceback": [
      "\u001b[0;31m---------------------------------------------------------------------------\u001b[0m",
      "\u001b[0;31mValidationError\u001b[0m                           Traceback (most recent call last)",
      "Cell \u001b[0;32mIn[23], line 1\u001b[0m\n\u001b[0;32m----> 1\u001b[0m resp \u001b[38;5;241m=\u001b[39m \u001b[43mclient\u001b[49m\u001b[38;5;241;43m.\u001b[39;49m\u001b[43mchat\u001b[49m\u001b[38;5;241;43m.\u001b[39;49m\u001b[43mcompletions\u001b[49m\u001b[38;5;241;43m.\u001b[39;49m\u001b[43mcreate\u001b[49m\u001b[43m(\u001b[49m\n\u001b[1;32m      2\u001b[0m \u001b[43m    \u001b[49m\u001b[43mmodel\u001b[49m\u001b[38;5;241;43m=\u001b[39;49m\u001b[38;5;124;43m\"\u001b[39;49m\u001b[38;5;124;43mllama2\u001b[39;49m\u001b[38;5;124;43m\"\u001b[39;49m\u001b[43m,\u001b[49m\n\u001b[1;32m      3\u001b[0m \u001b[43m    \u001b[49m\u001b[43mmessages\u001b[49m\u001b[38;5;241;43m=\u001b[39;49m\u001b[43m[\u001b[49m\n\u001b[1;32m      4\u001b[0m \u001b[43m        \u001b[49m\u001b[43m{\u001b[49m\n\u001b[1;32m      5\u001b[0m \u001b[43m            \u001b[49m\u001b[38;5;124;43m\"\u001b[39;49m\u001b[38;5;124;43mrole\u001b[39;49m\u001b[38;5;124;43m\"\u001b[39;49m\u001b[43m:\u001b[49m\u001b[43m \u001b[49m\u001b[38;5;124;43m\"\u001b[39;49m\u001b[38;5;124;43muser\u001b[39;49m\u001b[38;5;124;43m\"\u001b[39;49m\u001b[43m,\u001b[49m\n\u001b[1;32m      6\u001b[0m \u001b[43m            \u001b[49m\u001b[38;5;66;43;03m#\"content\": content.format(texto=result)\u001b[39;49;00m\n\u001b[1;32m      7\u001b[0m \u001b[43m            \u001b[49m\u001b[38;5;124;43m\"\u001b[39;49m\u001b[38;5;124;43mcontent\u001b[39;49m\u001b[38;5;124;43m\"\u001b[39;49m\u001b[43m:\u001b[49m\u001b[43m \u001b[49m\u001b[43mcontent\u001b[49m\n\u001b[1;32m      8\u001b[0m \u001b[43m        \u001b[49m\u001b[43m}\u001b[49m\n\u001b[1;32m      9\u001b[0m \u001b[43m    \u001b[49m\u001b[43m]\u001b[49m\u001b[43m,\u001b[49m\n\u001b[1;32m     10\u001b[0m \u001b[43m    \u001b[49m\u001b[43mresponse_model\u001b[49m\u001b[38;5;241;43m=\u001b[39;49m\u001b[43mBadBunnyInfo\u001b[49m\u001b[43m,\u001b[49m\n\u001b[1;32m     11\u001b[0m \u001b[43m    \u001b[49m\u001b[43mmax_retries\u001b[49m\u001b[38;5;241;43m=\u001b[39;49m\u001b[38;5;241;43m10\u001b[39;49m\n\u001b[1;32m     12\u001b[0m \u001b[43m)\u001b[49m\n",
      "File \u001b[0;32m~/NLP/lib/python3.11/site-packages/instructor/patch.py:141\u001b[0m, in \u001b[0;36mpatch.<locals>.new_create_sync\u001b[0;34m(response_model, validation_context, max_retries, *args, **kwargs)\u001b[0m\n\u001b[1;32m    130\u001b[0m \u001b[38;5;129m@wraps\u001b[39m(func)\n\u001b[1;32m    131\u001b[0m \u001b[38;5;28;01mdef\u001b[39;00m \u001b[38;5;21mnew_create_sync\u001b[39m(\n\u001b[1;32m    132\u001b[0m     response_model: Type[T_Model] \u001b[38;5;241m=\u001b[39m \u001b[38;5;28;01mNone\u001b[39;00m,\n\u001b[0;32m   (...)\u001b[0m\n\u001b[1;32m    136\u001b[0m     \u001b[38;5;241m*\u001b[39m\u001b[38;5;241m*\u001b[39mkwargs: T_ParamSpec\u001b[38;5;241m.\u001b[39mkwargs,\n\u001b[1;32m    137\u001b[0m ) \u001b[38;5;241m-\u001b[39m\u001b[38;5;241m>\u001b[39m T_Model:\n\u001b[1;32m    138\u001b[0m     response_model, new_kwargs \u001b[38;5;241m=\u001b[39m handle_response_model(\n\u001b[1;32m    139\u001b[0m         response_model\u001b[38;5;241m=\u001b[39mresponse_model, mode\u001b[38;5;241m=\u001b[39mmode, \u001b[38;5;241m*\u001b[39m\u001b[38;5;241m*\u001b[39mkwargs\n\u001b[1;32m    140\u001b[0m     )\n\u001b[0;32m--> 141\u001b[0m     response \u001b[38;5;241m=\u001b[39m \u001b[43mretry_sync\u001b[49m\u001b[43m(\u001b[49m\n\u001b[1;32m    142\u001b[0m \u001b[43m        \u001b[49m\u001b[43mfunc\u001b[49m\u001b[38;5;241;43m=\u001b[39;49m\u001b[43mfunc\u001b[49m\u001b[43m,\u001b[49m\n\u001b[1;32m    143\u001b[0m \u001b[43m        \u001b[49m\u001b[43mresponse_model\u001b[49m\u001b[38;5;241;43m=\u001b[39;49m\u001b[43mresponse_model\u001b[49m\u001b[43m,\u001b[49m\n\u001b[1;32m    144\u001b[0m \u001b[43m        \u001b[49m\u001b[43mvalidation_context\u001b[49m\u001b[38;5;241;43m=\u001b[39;49m\u001b[43mvalidation_context\u001b[49m\u001b[43m,\u001b[49m\n\u001b[1;32m    145\u001b[0m \u001b[43m        \u001b[49m\u001b[43mmax_retries\u001b[49m\u001b[38;5;241;43m=\u001b[39;49m\u001b[43mmax_retries\u001b[49m\u001b[43m,\u001b[49m\n\u001b[1;32m    146\u001b[0m \u001b[43m        \u001b[49m\u001b[43margs\u001b[49m\u001b[38;5;241;43m=\u001b[39;49m\u001b[43margs\u001b[49m\u001b[43m,\u001b[49m\n\u001b[1;32m    147\u001b[0m \u001b[43m        \u001b[49m\u001b[43mkwargs\u001b[49m\u001b[38;5;241;43m=\u001b[39;49m\u001b[43mnew_kwargs\u001b[49m\u001b[43m,\u001b[49m\n\u001b[1;32m    148\u001b[0m \u001b[43m        \u001b[49m\u001b[43mmode\u001b[49m\u001b[38;5;241;43m=\u001b[39;49m\u001b[43mmode\u001b[49m\u001b[43m,\u001b[49m\n\u001b[1;32m    149\u001b[0m \u001b[43m    \u001b[49m\u001b[43m)\u001b[49m\n\u001b[1;32m    150\u001b[0m     \u001b[38;5;28;01mreturn\u001b[39;00m response\n",
      "File \u001b[0;32m~/NLP/lib/python3.11/site-packages/instructor/retry.py:126\u001b[0m, in \u001b[0;36mretry_sync\u001b[0;34m(func, response_model, validation_context, args, kwargs, max_retries, strict, mode)\u001b[0m\n\u001b[1;32m    123\u001b[0m     \u001b[38;5;28;01mraise\u001b[39;00m \u001b[38;5;167;01mValueError\u001b[39;00m(\u001b[38;5;124m\"\u001b[39m\u001b[38;5;124mmax_retries must be an int or a `tenacity.Retrying` object\u001b[39m\u001b[38;5;124m\"\u001b[39m)\n\u001b[1;32m    125\u001b[0m \u001b[38;5;28;01mtry\u001b[39;00m:\n\u001b[0;32m--> 126\u001b[0m \u001b[43m    \u001b[49m\u001b[38;5;28;43;01mfor\u001b[39;49;00m\u001b[43m \u001b[49m\u001b[43mattempt\u001b[49m\u001b[43m \u001b[49m\u001b[38;5;129;43;01min\u001b[39;49;00m\u001b[43m \u001b[49m\u001b[43mmax_retries\u001b[49m\u001b[43m:\u001b[49m\n\u001b[1;32m    127\u001b[0m \u001b[43m        \u001b[49m\u001b[38;5;28;43;01mwith\u001b[39;49;00m\u001b[43m \u001b[49m\u001b[43mattempt\u001b[49m\u001b[43m:\u001b[49m\n\u001b[1;32m    128\u001b[0m \u001b[43m            \u001b[49m\u001b[38;5;28;43;01mtry\u001b[39;49;00m\u001b[43m:\u001b[49m\n",
      "File \u001b[0;32m~/NLP/lib/python3.11/site-packages/tenacity/__init__.py:347\u001b[0m, in \u001b[0;36mBaseRetrying.__iter__\u001b[0;34m(self)\u001b[0m\n\u001b[1;32m    345\u001b[0m retry_state \u001b[38;5;241m=\u001b[39m RetryCallState(\u001b[38;5;28mself\u001b[39m, fn\u001b[38;5;241m=\u001b[39m\u001b[38;5;28;01mNone\u001b[39;00m, args\u001b[38;5;241m=\u001b[39m(), kwargs\u001b[38;5;241m=\u001b[39m{})\n\u001b[1;32m    346\u001b[0m \u001b[38;5;28;01mwhile\u001b[39;00m \u001b[38;5;28;01mTrue\u001b[39;00m:\n\u001b[0;32m--> 347\u001b[0m     do \u001b[38;5;241m=\u001b[39m \u001b[38;5;28;43mself\u001b[39;49m\u001b[38;5;241;43m.\u001b[39;49m\u001b[43miter\u001b[49m\u001b[43m(\u001b[49m\u001b[43mretry_state\u001b[49m\u001b[38;5;241;43m=\u001b[39;49m\u001b[43mretry_state\u001b[49m\u001b[43m)\u001b[49m\n\u001b[1;32m    348\u001b[0m     \u001b[38;5;28;01mif\u001b[39;00m \u001b[38;5;28misinstance\u001b[39m(do, DoAttempt):\n\u001b[1;32m    349\u001b[0m         \u001b[38;5;28;01myield\u001b[39;00m AttemptManager(retry_state\u001b[38;5;241m=\u001b[39mretry_state)\n",
      "File \u001b[0;32m~/NLP/lib/python3.11/site-packages/tenacity/__init__.py:325\u001b[0m, in \u001b[0;36mBaseRetrying.iter\u001b[0;34m(self, retry_state)\u001b[0m\n\u001b[1;32m    323\u001b[0m     retry_exc \u001b[38;5;241m=\u001b[39m \u001b[38;5;28mself\u001b[39m\u001b[38;5;241m.\u001b[39mretry_error_cls(fut)\n\u001b[1;32m    324\u001b[0m     \u001b[38;5;28;01mif\u001b[39;00m \u001b[38;5;28mself\u001b[39m\u001b[38;5;241m.\u001b[39mreraise:\n\u001b[0;32m--> 325\u001b[0m         \u001b[38;5;28;01mraise\u001b[39;00m \u001b[43mretry_exc\u001b[49m\u001b[38;5;241;43m.\u001b[39;49m\u001b[43mreraise\u001b[49m\u001b[43m(\u001b[49m\u001b[43m)\u001b[49m\n\u001b[1;32m    326\u001b[0m     \u001b[38;5;28;01mraise\u001b[39;00m retry_exc \u001b[38;5;28;01mfrom\u001b[39;00m \u001b[38;5;21;01mfut\u001b[39;00m\u001b[38;5;21;01m.\u001b[39;00m\u001b[38;5;21;01mexception\u001b[39;00m()\n\u001b[1;32m    328\u001b[0m \u001b[38;5;28;01mif\u001b[39;00m \u001b[38;5;28mself\u001b[39m\u001b[38;5;241m.\u001b[39mwait:\n",
      "File \u001b[0;32m~/NLP/lib/python3.11/site-packages/tenacity/__init__.py:158\u001b[0m, in \u001b[0;36mRetryError.reraise\u001b[0;34m(self)\u001b[0m\n\u001b[1;32m    156\u001b[0m \u001b[38;5;28;01mdef\u001b[39;00m \u001b[38;5;21mreraise\u001b[39m(\u001b[38;5;28mself\u001b[39m) \u001b[38;5;241m-\u001b[39m\u001b[38;5;241m>\u001b[39m t\u001b[38;5;241m.\u001b[39mNoReturn:\n\u001b[1;32m    157\u001b[0m     \u001b[38;5;28;01mif\u001b[39;00m \u001b[38;5;28mself\u001b[39m\u001b[38;5;241m.\u001b[39mlast_attempt\u001b[38;5;241m.\u001b[39mfailed:\n\u001b[0;32m--> 158\u001b[0m         \u001b[38;5;28;01mraise\u001b[39;00m \u001b[38;5;28;43mself\u001b[39;49m\u001b[38;5;241;43m.\u001b[39;49m\u001b[43mlast_attempt\u001b[49m\u001b[38;5;241;43m.\u001b[39;49m\u001b[43mresult\u001b[49m\u001b[43m(\u001b[49m\u001b[43m)\u001b[49m\n\u001b[1;32m    159\u001b[0m     \u001b[38;5;28;01mraise\u001b[39;00m \u001b[38;5;28mself\u001b[39m\n",
      "File \u001b[0;32m/opt/homebrew/Cellar/python@3.11/3.11.7_1/Frameworks/Python.framework/Versions/3.11/lib/python3.11/concurrent/futures/_base.py:449\u001b[0m, in \u001b[0;36mFuture.result\u001b[0;34m(self, timeout)\u001b[0m\n\u001b[1;32m    447\u001b[0m     \u001b[38;5;28;01mraise\u001b[39;00m CancelledError()\n\u001b[1;32m    448\u001b[0m \u001b[38;5;28;01melif\u001b[39;00m \u001b[38;5;28mself\u001b[39m\u001b[38;5;241m.\u001b[39m_state \u001b[38;5;241m==\u001b[39m FINISHED:\n\u001b[0;32m--> 449\u001b[0m     \u001b[38;5;28;01mreturn\u001b[39;00m \u001b[38;5;28;43mself\u001b[39;49m\u001b[38;5;241;43m.\u001b[39;49m\u001b[43m__get_result\u001b[49m\u001b[43m(\u001b[49m\u001b[43m)\u001b[49m\n\u001b[1;32m    451\u001b[0m \u001b[38;5;28mself\u001b[39m\u001b[38;5;241m.\u001b[39m_condition\u001b[38;5;241m.\u001b[39mwait(timeout)\n\u001b[1;32m    453\u001b[0m \u001b[38;5;28;01mif\u001b[39;00m \u001b[38;5;28mself\u001b[39m\u001b[38;5;241m.\u001b[39m_state \u001b[38;5;129;01min\u001b[39;00m [CANCELLED, CANCELLED_AND_NOTIFIED]:\n",
      "File \u001b[0;32m/opt/homebrew/Cellar/python@3.11/3.11.7_1/Frameworks/Python.framework/Versions/3.11/lib/python3.11/concurrent/futures/_base.py:401\u001b[0m, in \u001b[0;36mFuture.__get_result\u001b[0;34m(self)\u001b[0m\n\u001b[1;32m    399\u001b[0m \u001b[38;5;28;01mif\u001b[39;00m \u001b[38;5;28mself\u001b[39m\u001b[38;5;241m.\u001b[39m_exception:\n\u001b[1;32m    400\u001b[0m     \u001b[38;5;28;01mtry\u001b[39;00m:\n\u001b[0;32m--> 401\u001b[0m         \u001b[38;5;28;01mraise\u001b[39;00m \u001b[38;5;28mself\u001b[39m\u001b[38;5;241m.\u001b[39m_exception\n\u001b[1;32m    402\u001b[0m     \u001b[38;5;28;01mfinally\u001b[39;00m:\n\u001b[1;32m    403\u001b[0m         \u001b[38;5;66;03m# Break a reference cycle with the exception in self._exception\u001b[39;00m\n\u001b[1;32m    404\u001b[0m         \u001b[38;5;28mself\u001b[39m \u001b[38;5;241m=\u001b[39m \u001b[38;5;28;01mNone\u001b[39;00m\n",
      "File \u001b[0;32m~/NLP/lib/python3.11/site-packages/instructor/retry.py:147\u001b[0m, in \u001b[0;36mretry_sync\u001b[0;34m(func, response_model, validation_context, args, kwargs, max_retries, strict, mode)\u001b[0m\n\u001b[1;32m    143\u001b[0m                 \u001b[38;5;28;01mif\u001b[39;00m mode \u001b[38;5;129;01min\u001b[39;00m {Mode\u001b[38;5;241m.\u001b[39mANTHROPIC_TOOLS, Mode\u001b[38;5;241m.\u001b[39mANTHROPIC_JSON}:\n\u001b[1;32m    144\u001b[0m                     kwargs[\u001b[38;5;124m\"\u001b[39m\u001b[38;5;124mmessages\u001b[39m\u001b[38;5;124m\"\u001b[39m] \u001b[38;5;241m=\u001b[39m merge_consecutive_messages(\n\u001b[1;32m    145\u001b[0m                         kwargs[\u001b[38;5;124m\"\u001b[39m\u001b[38;5;124mmessages\u001b[39m\u001b[38;5;124m\"\u001b[39m]\n\u001b[1;32m    146\u001b[0m                     )\n\u001b[0;32m--> 147\u001b[0m                 \u001b[38;5;28;01mraise\u001b[39;00m e\n\u001b[1;32m    148\u001b[0m \u001b[38;5;28;01mexcept\u001b[39;00m RetryError \u001b[38;5;28;01mas\u001b[39;00m e:\n\u001b[1;32m    149\u001b[0m     logger\u001b[38;5;241m.\u001b[39mexception(\u001b[38;5;124mf\u001b[39m\u001b[38;5;124m\"\u001b[39m\u001b[38;5;124mFailed after retries: \u001b[39m\u001b[38;5;132;01m{\u001b[39;00me\u001b[38;5;241m.\u001b[39mlast_attempt\u001b[38;5;241m.\u001b[39mexception\u001b[38;5;132;01m}\u001b[39;00m\u001b[38;5;124m\"\u001b[39m)\n",
      "File \u001b[0;32m~/NLP/lib/python3.11/site-packages/instructor/retry.py:132\u001b[0m, in \u001b[0;36mretry_sync\u001b[0;34m(func, response_model, validation_context, args, kwargs, max_retries, strict, mode)\u001b[0m\n\u001b[1;32m    130\u001b[0m     stream \u001b[38;5;241m=\u001b[39m kwargs\u001b[38;5;241m.\u001b[39mget(\u001b[38;5;124m\"\u001b[39m\u001b[38;5;124mstream\u001b[39m\u001b[38;5;124m\"\u001b[39m, \u001b[38;5;28;01mFalse\u001b[39;00m)\n\u001b[1;32m    131\u001b[0m     response \u001b[38;5;241m=\u001b[39m update_total_usage(response, total_usage)\n\u001b[0;32m--> 132\u001b[0m     \u001b[38;5;28;01mreturn\u001b[39;00m \u001b[43mprocess_response\u001b[49m\u001b[43m(\u001b[49m\n\u001b[1;32m    133\u001b[0m \u001b[43m        \u001b[49m\u001b[43mresponse\u001b[49m\u001b[43m,\u001b[49m\n\u001b[1;32m    134\u001b[0m \u001b[43m        \u001b[49m\u001b[43mresponse_model\u001b[49m\u001b[38;5;241;43m=\u001b[39;49m\u001b[43mresponse_model\u001b[49m\u001b[43m,\u001b[49m\n\u001b[1;32m    135\u001b[0m \u001b[43m        \u001b[49m\u001b[43mstream\u001b[49m\u001b[38;5;241;43m=\u001b[39;49m\u001b[43mstream\u001b[49m\u001b[43m,\u001b[49m\n\u001b[1;32m    136\u001b[0m \u001b[43m        \u001b[49m\u001b[43mvalidation_context\u001b[49m\u001b[38;5;241;43m=\u001b[39;49m\u001b[43mvalidation_context\u001b[49m\u001b[43m,\u001b[49m\n\u001b[1;32m    137\u001b[0m \u001b[43m        \u001b[49m\u001b[43mstrict\u001b[49m\u001b[38;5;241;43m=\u001b[39;49m\u001b[43mstrict\u001b[49m\u001b[43m,\u001b[49m\n\u001b[1;32m    138\u001b[0m \u001b[43m        \u001b[49m\u001b[43mmode\u001b[49m\u001b[38;5;241;43m=\u001b[39;49m\u001b[43mmode\u001b[49m\u001b[43m,\u001b[49m\n\u001b[1;32m    139\u001b[0m \u001b[43m    \u001b[49m\u001b[43m)\u001b[49m\n\u001b[1;32m    140\u001b[0m \u001b[38;5;28;01mexcept\u001b[39;00m (ValidationError, JSONDecodeError) \u001b[38;5;28;01mas\u001b[39;00m e:\n\u001b[1;32m    141\u001b[0m     logger\u001b[38;5;241m.\u001b[39mdebug(\u001b[38;5;124mf\u001b[39m\u001b[38;5;124m\"\u001b[39m\u001b[38;5;124mError response: \u001b[39m\u001b[38;5;132;01m{\u001b[39;00mresponse\u001b[38;5;132;01m}\u001b[39;00m\u001b[38;5;124m\"\u001b[39m)\n",
      "File \u001b[0;32m~/NLP/lib/python3.11/site-packages/instructor/process_response.py:147\u001b[0m, in \u001b[0;36mprocess_response\u001b[0;34m(response, response_model, stream, validation_context, strict, mode)\u001b[0m\n\u001b[1;32m    141\u001b[0m     model \u001b[38;5;241m=\u001b[39m response_model\u001b[38;5;241m.\u001b[39mfrom_streaming_response(\n\u001b[1;32m    142\u001b[0m         response,\n\u001b[1;32m    143\u001b[0m         mode\u001b[38;5;241m=\u001b[39mmode,\n\u001b[1;32m    144\u001b[0m     )\n\u001b[1;32m    145\u001b[0m     \u001b[38;5;28;01mreturn\u001b[39;00m model\n\u001b[0;32m--> 147\u001b[0m model \u001b[38;5;241m=\u001b[39m \u001b[43mresponse_model\u001b[49m\u001b[38;5;241;43m.\u001b[39;49m\u001b[43mfrom_response\u001b[49m\u001b[43m(\u001b[49m\n\u001b[1;32m    148\u001b[0m \u001b[43m    \u001b[49m\u001b[43mresponse\u001b[49m\u001b[43m,\u001b[49m\n\u001b[1;32m    149\u001b[0m \u001b[43m    \u001b[49m\u001b[43mvalidation_context\u001b[49m\u001b[38;5;241;43m=\u001b[39;49m\u001b[43mvalidation_context\u001b[49m\u001b[43m,\u001b[49m\n\u001b[1;32m    150\u001b[0m \u001b[43m    \u001b[49m\u001b[43mstrict\u001b[49m\u001b[38;5;241;43m=\u001b[39;49m\u001b[43mstrict\u001b[49m\u001b[43m,\u001b[49m\n\u001b[1;32m    151\u001b[0m \u001b[43m    \u001b[49m\u001b[43mmode\u001b[49m\u001b[38;5;241;43m=\u001b[39;49m\u001b[43mmode\u001b[49m\u001b[43m,\u001b[49m\n\u001b[1;32m    152\u001b[0m \u001b[43m\u001b[49m\u001b[43m)\u001b[49m\n\u001b[1;32m    154\u001b[0m \u001b[38;5;66;03m# ? This really hints at the fact that we need a better way of\u001b[39;00m\n\u001b[1;32m    155\u001b[0m \u001b[38;5;66;03m# ? attaching usage data and the raw response to the model we return.\u001b[39;00m\n\u001b[1;32m    156\u001b[0m \u001b[38;5;28;01mif\u001b[39;00m \u001b[38;5;28misinstance\u001b[39m(model, IterableBase):\n",
      "File \u001b[0;32m~/NLP/lib/python3.11/site-packages/instructor/function_calls.py:111\u001b[0m, in \u001b[0;36mOpenAISchema.from_response\u001b[0;34m(cls, completion, validation_context, strict, mode)\u001b[0m\n\u001b[1;32m    108\u001b[0m     \u001b[38;5;28;01mreturn\u001b[39;00m \u001b[38;5;28mcls\u001b[39m\u001b[38;5;241m.\u001b[39mparse_tools(completion, validation_context, strict)\n\u001b[1;32m    110\u001b[0m \u001b[38;5;28;01mif\u001b[39;00m mode \u001b[38;5;129;01min\u001b[39;00m {Mode\u001b[38;5;241m.\u001b[39mJSON, Mode\u001b[38;5;241m.\u001b[39mJSON_SCHEMA, Mode\u001b[38;5;241m.\u001b[39mMD_JSON}:\n\u001b[0;32m--> 111\u001b[0m     \u001b[38;5;28;01mreturn\u001b[39;00m \u001b[38;5;28;43mcls\u001b[39;49m\u001b[38;5;241;43m.\u001b[39;49m\u001b[43mparse_json\u001b[49m\u001b[43m(\u001b[49m\u001b[43mcompletion\u001b[49m\u001b[43m,\u001b[49m\u001b[43m \u001b[49m\u001b[43mvalidation_context\u001b[49m\u001b[43m,\u001b[49m\u001b[43m \u001b[49m\u001b[43mstrict\u001b[49m\u001b[43m)\u001b[49m\n\u001b[1;32m    113\u001b[0m \u001b[38;5;28;01mraise\u001b[39;00m \u001b[38;5;167;01mValueError\u001b[39;00m(\u001b[38;5;124mf\u001b[39m\u001b[38;5;124m\"\u001b[39m\u001b[38;5;124mInvalid patch mode: \u001b[39m\u001b[38;5;132;01m{\u001b[39;00mmode\u001b[38;5;132;01m}\u001b[39;00m\u001b[38;5;124m\"\u001b[39m)\n",
      "File \u001b[0;32m~/NLP/lib/python3.11/site-packages/instructor/function_calls.py:204\u001b[0m, in \u001b[0;36mOpenAISchema.parse_json\u001b[0;34m(cls, completion, validation_context, strict)\u001b[0m\n\u001b[1;32m    201\u001b[0m message \u001b[38;5;241m=\u001b[39m completion\u001b[38;5;241m.\u001b[39mchoices[\u001b[38;5;241m0\u001b[39m]\u001b[38;5;241m.\u001b[39mmessage\u001b[38;5;241m.\u001b[39mcontent \u001b[38;5;129;01mor\u001b[39;00m \u001b[38;5;124m\"\u001b[39m\u001b[38;5;124m\"\u001b[39m\n\u001b[1;32m    202\u001b[0m message \u001b[38;5;241m=\u001b[39m extract_json_from_codeblock(message)\n\u001b[0;32m--> 204\u001b[0m \u001b[38;5;28;01mreturn\u001b[39;00m \u001b[38;5;28;43mcls\u001b[39;49m\u001b[38;5;241;43m.\u001b[39;49m\u001b[43mmodel_validate_json\u001b[49m\u001b[43m(\u001b[49m\n\u001b[1;32m    205\u001b[0m \u001b[43m    \u001b[49m\u001b[43mmessage\u001b[49m\u001b[43m,\u001b[49m\n\u001b[1;32m    206\u001b[0m \u001b[43m    \u001b[49m\u001b[43mcontext\u001b[49m\u001b[38;5;241;43m=\u001b[39;49m\u001b[43mvalidation_context\u001b[49m\u001b[43m,\u001b[49m\n\u001b[1;32m    207\u001b[0m \u001b[43m    \u001b[49m\u001b[43mstrict\u001b[49m\u001b[38;5;241;43m=\u001b[39;49m\u001b[43mstrict\u001b[49m\u001b[43m,\u001b[49m\n\u001b[1;32m    208\u001b[0m \u001b[43m\u001b[49m\u001b[43m)\u001b[49m\n",
      "File \u001b[0;32m~/NLP/lib/python3.11/site-packages/pydantic/main.py:561\u001b[0m, in \u001b[0;36mBaseModel.model_validate_json\u001b[0;34m(cls, json_data, strict, context)\u001b[0m\n\u001b[1;32m    559\u001b[0m \u001b[38;5;66;03m# `__tracebackhide__` tells pytest and some other tools to omit this function from tracebacks\u001b[39;00m\n\u001b[1;32m    560\u001b[0m __tracebackhide__ \u001b[38;5;241m=\u001b[39m \u001b[38;5;28;01mTrue\u001b[39;00m\n\u001b[0;32m--> 561\u001b[0m \u001b[38;5;28;01mreturn\u001b[39;00m \u001b[38;5;28;43mcls\u001b[39;49m\u001b[38;5;241;43m.\u001b[39;49m\u001b[43m__pydantic_validator__\u001b[49m\u001b[38;5;241;43m.\u001b[39;49m\u001b[43mvalidate_json\u001b[49m\u001b[43m(\u001b[49m\u001b[43mjson_data\u001b[49m\u001b[43m,\u001b[49m\u001b[43m \u001b[49m\u001b[43mstrict\u001b[49m\u001b[38;5;241;43m=\u001b[39;49m\u001b[43mstrict\u001b[49m\u001b[43m,\u001b[49m\u001b[43m \u001b[49m\u001b[43mcontext\u001b[49m\u001b[38;5;241;43m=\u001b[39;49m\u001b[43mcontext\u001b[49m\u001b[43m)\u001b[49m\n",
      "\u001b[0;31mValidationError\u001b[0m: 5 validation errors for BadBunnyInfo\nartist_name\n  Field required [type=missing, input_value={'BadBunnyInfo': {'artist...G': 2020}, 'errors': []}, input_type=dict]\n    For further information visit https://errors.pydantic.dev/2.7/v/missing\nname\n  Field required [type=missing, input_value={'BadBunnyInfo': {'artist...G': 2020}, 'errors': []}, input_type=dict]\n    For further information visit https://errors.pydantic.dev/2.7/v/missing\nsurname\n  Field required [type=missing, input_value={'BadBunnyInfo': {'artist...G': 2020}, 'errors': []}, input_type=dict]\n    For further information visit https://errors.pydantic.dev/2.7/v/missing\nbirth_date\n  Field required [type=missing, input_value={'BadBunnyInfo': {'artist...G': 2020}, 'errors': []}, input_type=dict]\n    For further information visit https://errors.pydantic.dev/2.7/v/missing\nyear_YHLQMDLG\n  Field required [type=missing, input_value={'BadBunnyInfo': {'artist...G': 2020}, 'errors': []}, input_type=dict]\n    For further information visit https://errors.pydantic.dev/2.7/v/missing"
     ]
    }
   ],
   "source": [
    "resp = client.chat.completions.create(\n",
    "    model=\"llama2\",\n",
    "    messages=[\n",
    "        {\n",
    "            \"role\": \"user\",\n",
    "            #\"content\": content.format(texto=result)\n",
    "            \"content\": content\n",
    "        }\n",
    "    ],\n",
    "    response_model=BadBunnyInfo,\n",
    "    max_retries=10\n",
    ")"
   ]
  },
  {
   "cell_type": "markdown",
   "metadata": {},
   "source": [
    "No funciona vamos a hacerlo mas simple"
   ]
  },
  {
   "cell_type": "code",
   "execution_count": null,
   "metadata": {},
   "outputs": [],
   "source": []
  },
  {
   "cell_type": "code",
   "execution_count": null,
   "metadata": {},
   "outputs": [],
   "source": []
  }
 ],
 "metadata": {
  "kernelspec": {
   "display_name": "NLP",
   "language": "python",
   "name": "python3"
  },
  "language_info": {
   "codemirror_mode": {
    "name": "ipython",
    "version": 3
   },
   "file_extension": ".py",
   "mimetype": "text/x-python",
   "name": "python",
   "nbconvert_exporter": "python",
   "pygments_lexer": "ipython3",
   "version": "3.11.7"
  }
 },
 "nbformat": 4,
 "nbformat_minor": 2
}
