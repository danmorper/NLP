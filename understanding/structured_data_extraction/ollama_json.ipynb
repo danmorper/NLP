{
 "cells": [
  {
   "cell_type": "markdown",
   "metadata": {},
   "source": [
    "# Segun video\n",
    "## Usamos chroma mediante Langchain\n",
    "Todo el Notebook se basa en este video: https://www.youtube.com/watch?v=eHfMCtlsb1o"
   ]
  },
  {
   "cell_type": "code",
   "execution_count": 27,
   "metadata": {},
   "outputs": [],
   "source": [
    "import ollama\n",
    "from pydantic import BaseModel\n",
    "from typing import List\n",
    "import pickle as pkl"
   ]
  },
  {
   "cell_type": "markdown",
   "metadata": {},
   "source": [
    "Primero tenemos que leer el fichero badbunny. Se encuenta en `understanding/structured_data_extraction/bad_bunny.txt` y este Notebook en `understanding/structured_data_extraction/ollama_json.ipynb`"
   ]
  },
  {
   "cell_type": "code",
   "execution_count": 47,
   "metadata": {},
   "outputs": [],
   "source": [
    "import ollama\n",
    "import bs4\n",
    "from langchain.text_splitter import RecursiveCharacterTextSplitter\n",
    "from langchain_community.document_loaders import TextLoader\n",
    "from langchain_community.vectorstores import Chroma\n",
    "from langchain_community.embeddings import OllamaEmbeddings\n",
    "from langchain_core.output_parsers import StrOutputParser\n",
    "from langchain_core.runnables import RunnablePassthrough\n",
    "from langchain_core.runnables import RunnablePassthrough\n",
    "\n",
    "# Load the text\n",
    "loader = TextLoader(\"bad_bunny.txt\")\n",
    "docs = loader.load()\n",
    "\n",
    "# Split the text into chunks\n",
    "text_splitter = RecursiveCharacterTextSplitter(chunk_size=1000, chunk_overlap=200)\n",
    "splits = text_splitter.split_documents(docs)"
   ]
  },
  {
   "cell_type": "markdown",
   "metadata": {},
   "source": [
    "Vemos la estructura de splits."
   ]
  },
  {
   "cell_type": "code",
   "execution_count": 8,
   "metadata": {},
   "outputs": [
    {
     "data": {
      "text/plain": [
       "[Document(page_content='Benito Antonio Martínez Ocasio (Vega Baja, Puerto Rico 10 de marzo de 1994),2\\u200b conocido artísticamente como Bad Bunny, es un cantante, compositor, productor musical y peleador aficionado de lucha libre puertorriqueño.3\\u200b Sus estilos musicales son generalmente definidos como reguetón, trap latino y baladas, aunque también ha interpretado otros géneros y estilos variados. Se caracteriza por su entonación grave y su estilo de vestir.4\\u200b', metadata={'source': 'bad_bunny.txt'}),\n",
       " Document(page_content='Empezó a ganar popularidad en SoundCloud y finalmente, firmó un contrato con el sello discográfico Hear This Music mientras trabajaba como empaquetador en un supermercado y estudiaba en la Universidad de Puerto Rico en Arecibo. Después del éxito de su sencillo «Soy peor» en 2016, alcanzó la fama tras colaborar con los artistas Cardi B y Drake en los sencillos «I Like It» y «Mia» que alcanzaron el primer y tercer puesto en la lista Billboard Hot 100 respectivamente. Su álbum de estudio debut X 100pre (2018) ganó el Grammy Latino por mejor álbum de música urbana y entró en la lista de los 500 mejores álbumes musicales de todos los tiempos, según la revista Rolling Stone, ocupando el lugar 447.5\\u200b\\n\\nSu álbum colaborativo con el cantante colombiano J Balvin, Oasis (2019), contiene los exitosos sencillos «Qué pretendes» y «La canción». Así como produjo el exitoso sencillo «Callaíta» con el productor Tainy después de la publicación de su álbum x100pre.', metadata={'source': 'bad_bunny.txt'}),\n",
       " Document(page_content='A principios de 2020, cantó en el Espectáculo de medio tiempo del Super Bowl LIV junto a Shakira, y se convirtió en el primer artista latino urbano en ser la portada de la revista Rolling Stone. Durante el año, Bad Bunny lanzó su segundo álbum YHLQMDLG (Yo hago lo que me de la gana), un álbum sorpresa recopilatorio Las que no iban a salir, su tercer álbum de estudio El último tour del mundo. Y en 2022; Un verano sin ti, un éxito comercial y de crítica, que debutó en la cima del Billboard 200 de Estados Unidos, marcando el segundo álbum número uno de Bad Bunny y el tercer álbum en español en encabezar la lista.', metadata={'source': 'bad_bunny.txt'}),\n",
       " Document(page_content='Además, fue el primer artista hispanohablante en ser el más reproducido en Spotify entre 2020 y 2022.6\\u200b7\\u200b En 2021, 2022 y 2023 fue parte de WWE8\\u200b y de las 100 personas más influyentes del mundo en la revista Time.9\\u200b En octubre del mismo año la publicación estadounidense Pitchfork lo incluyó en su lista de los 200 artistas más influyentes de los últimos 25 años.10\\u200b Hasta entonces, su fortuna estaba estimada en los cuarenta millones USD.11\\u200b En 2023, la revista TIME en su primera edición en español, puso a Bad Bunny en su portada.12\\u200b\\n\\nSu nombre artístico proviene de una fotografía de su infancia tomada durante un Domingo de Resurrección, en la que sale con unas orejas de conejo puestas en la cabeza.13\\u200b\\n\\nEs reconocido por diferentes medios como el «rey del trap latino».14\\u200b15\\u200b', metadata={'source': 'bad_bunny.txt'}),\n",
       " Document(page_content='Es reconocido por diferentes medios como el «rey del trap latino».14\\u200b15\\u200b\\n\\nPrimeros años\\nBenito nació el 10 de marzo de 1994 en Almirante Sur, Puerto Rico. Su padre,Benito \"Tito\" Martínez, era un conductor de camiones, y su madre, Lysaurie Ocasio, una retirada maestra de inglés.16\\u200b17\\u200b Su madre solía escuchar canciones de salsa, merengue y baladas, como de Juan Gabriel Abrázame muy fuerte, mientras que Bad Bunny ayudaba con los coros.18\\u200b Martínez creció en las playas de Puerto Rico, en la comunidad de Vega Baja, con sus padres y dos hermanos menores, Benie y Bysael,17\\u200b a quien considera ser de sus mejores amigos. Él declaró ser criado en un hogar feliz, diciendo que \"no era de los chicos que solían andar en la calle, me gustaba estar en casa con mi familia\".19\\u200b', metadata={'source': 'bad_bunny.txt'}),\n",
       " Document(page_content='Queriendo ser un cantante desde los 5 años,20\\u200b atendía la iglesia junto a su madre cuando era niño y cantaba en el coro hasta los 13 años. Después de dejar el coro, desarrolló intereses por artistas que sonaban en la radio, como Daddy Yankee y Héctor Lavoe.17\\u200b Su primera presentación como solista fue cuando interpretó la canción de Juanes Mala gente en un show de talentos escolar.19\\u200b A pesar de ser tímido durante su tiempo en la secundaria, Benito solía hacer freestyles para entretener a sus compañeros de clase, desarrollando una reputación en su escuela por su creatividad y humor.17\\u200b Sus intereses en su adolescencia incluyeron el skateboarding y la lucha libre profesional, de donde también sacó su estilo de moda.17\\u200b', metadata={'source': 'bad_bunny.txt'}),\n",
       " Document(page_content='Hablando de su distancia de la industria musical de Puerto Rico, Benito declaró: \"Soy de Vega Baja, un área pequeña que no es una metrópolis como San Juan que es donde provienen la mayoría de los artistas del género. Eso es lo más sorprendente e increíble de todo esto, yo vine de la nada misma. Cuando estaba en la escuela solía pararme en el balcón de mi casa cantando y la gente se acercaba a escucharme\".21\\u200b Además reveló que cuando era joven su madre quería que fuera un ingeniero y su padre prefería que fuera un jugador de béisbol, mientras que su maestro decía que le iría mejor como un bombero. En cambio, él tomó clases de comunicación audiovisual en Universidad de Puerto Rico en Arecibo.22\\u200b', metadata={'source': 'bad_bunny.txt'}),\n",
       " Document(page_content='Carrera\\nInicios', metadata={'source': 'bad_bunny.txt'}),\n",
       " Document(page_content='Comenzó a escribir y crear sus propias interpretaciones a sus 14 años,23\\u200b hasta que en 2013, empezaría a publicar sus canciones por medio de SoundCloud,2\\u200b entre ellas «Get» en 2013, «Tentación» en 2014, «Solo avísame» en 2015, entre otros.24\\u200b25\\u200b Mientras trabajaba como empaquetador en los Supermercados Econo en Vega Baja durante 2016, Benito lanzaba música como un artista independiente en SoundCloud, donde su canción «Diles» llamó la atención del productor DJ Luian quien lo contrató para su sello discográfico Hear This Music.26\\u200b27\\u200b28\\u200b DJ Luian introdujo a Bad Bunny al equipo de productores Mambo Kingz, quienes estaban intrigados por la experimentación de la música y la moda de Benito.29\\u200b Desde entonces, él logró entrar varias veces a la lista de Estados Unidos Hot Latin Songs. Su primer éxito, el sencillo «Soy peor», alcanzó el puesto 22 en la lista Hot Latin Songs y estableció a Bad Bunny como un pionero en la escena del trap latino. Diez meses después de la publicación del video', metadata={'source': 'bad_bunny.txt'}),\n",
       " Document(page_content='éxito, el sencillo «Soy peor», alcanzó el puesto 22 en la lista Hot Latin Songs y estableció a Bad Bunny como un pionero en la escena del trap latino. Diez meses después de la publicación del video oficial de «Soy peor», alcanzó las 330 millones de reproducciones en YouTube.30\\u200b Su canción «Krippy Kush» junto a Farruko y el productor Jamaicano Rvssian también fue un éxito.', metadata={'source': 'bad_bunny.txt'}),\n",
       " Document(page_content='2017-2019: Reconocimiento, X100PRE y Oasis\\nEn mayo de 2017 la colaboración de Bad Bunny en «Ahora me llama» de Karol G generó más de 700 millones de visualizaciones en YouTube y alcanzó el puesto 10 en la lista Billboard Hot Latin Songs.31\\u200b El sencillo fue descrito por Marty Preciado de NPR como un \"himno de trap pesado y sin remordimientos al poder de la feminidad, llenos de charles y subgraves pesados [que] desafía la masculinidad hegemónica, cantando sobre el respeto, el amor y las decisiones sexuales positivas.\"32\\u200b \"Ahora me llama\" fue catalogado como una de las Mejores Canciones Latinas del 2017.32\\u200b', metadata={'source': 'bad_bunny.txt'}),\n",
       " Document(page_content='En el verano del 2017, firmó un contrato exclusivo con Cárdenas Marketing Network (CMD) para varios países latinoamericanos.33\\u200b En julio, colaboró en el sencillo de Becky G «Mayores». En noviembre del mismo año, su tema «Tu No Metes Cabra» se ubicó en el puesto 38 de la lista Hot Latin Songs.34\\u200b35\\u200b El remix demandó la salida de prisión de Anuel AA. En el mismo mes, hosteó el primer programa en español de la radio Beats 1, Trap Kingz.36\\u200b Casi al mismo tiempo, la canción «Sensualidad», lanzada en colaboración con J Balvin y Prince Royce, se ubicó en el puesto número 10 de Hot Latin Songs.37\\u200b38\\u200b mientras que el remix de «Te boté» con Ozuna y Nicky Jam alcanzó el número uno en esa lista.39\\u200b Solo en el año 2017, Bad Bunny apareció en quince canciones que listaron en Billboard Hot Latin Songs.', metadata={'source': 'bad_bunny.txt'}),\n",
       " Document(page_content='Bad Bunny durante un concierto en Ecuador en 2019.\\nEn 2018, Cardi B colaboró con Bad Bunny y J Balvin en el sencillo «I like it», tema que alcanzó el primer puesto en Billboard Hot 100 de Estados Unidos,40\\u200b y se convirtió en el primer sencillo de Bad Bunny en ser número uno en dicha lista, además de recibir su nominación al Grammy por Grabación del Año.41\\u200b El 11 de octubre de 2018, lanzó «Mía» en colaboración con Drake,42\\u200b43\\u200b que alcanzó el número cinco en el Billboard Hot 100.44\\u200b En noviembre de 2018, Bad Bunny lanzó «Te Guste» con Jennifer Lopez, con un video dirigido por Mike Ho.45\\u200b', metadata={'source': 'bad_bunny.txt'}),\n",
       " Document(page_content='Bad Bunny lanzó su álbum debut X 100pre en la víspera de Navidad del 2018 poco después de dejar el sello de DJ Luian Hear this Music, revelando en una transmisión en vivo de Instagram que nunca se le permitió hacer un álbum y también confesando que en realidad produjo él mismo su propia música. Se uniría a Rimas Entertainment para lanzar su álbum debut el 24 de diciembre de 2018.46\\u200b En Metacritic, que asigna una calificación normalizada de 100 a partir de las críticas de críticos profesionales, recibió un puntaje promedio de 84 basado en cinco revisiones, que indica «aclamación universal».47\\u200b El álbum contiene una gran variedad de géneros musicales, incluyendo pop punk, música andina, dembow dominicano, siendo descrito como una «azotada de viento como si fuera un concierto de rock de los 80».48\\u200b Alexis Petridis del periódico The Guardian alabó la «creatividad sin filtros» de Bad Bunny, opinando que «él se siente menos parte del pop actual que un artista que opera ligeramente adyacente', metadata={'source': 'bad_bunny.txt'}),\n",
       " Document(page_content='Alexis Petridis del periódico The Guardian alabó la «creatividad sin filtros» de Bad Bunny, opinando que «él se siente menos parte del pop actual que un artista que opera ligeramente adyacente a el. Él está separado del pack tanto por su deseo de tomar riesgos como por sus raíces».48\\u200b Desde el 8 hasta el 10 de marzo de 2019, Bad Bunny interpretó una serie de conciertos de fin de semana que se agotaron, en el Coliseo de Puerto Rico José Miguel Agrelot. El concierto inicial de 2 fechas se agotó en horas, lo que provocó una tercera fecha, después de mucha especulación y demanda, incluyendo entradas para estudiantes con un precio especial.49\\u200b50\\u200b X 100pre fue incluido más tarde en la lista votada por la industria de Rolling Stone de los 500 mejores álbumes de todos los tiempos (2020) en el puesto número 447.51\\u200b', metadata={'source': 'bad_bunny.txt'}),\n",
       " Document(page_content='El 28 de junio de 2019, Bad Bunny lanzó Oasis, un álbum colaborativo de ocho canciones con J Balvin. El disco fue lanzado durante la noche y se consideró un lanzamiento sorpresa.52\\u200b Los dos artistas se conocieron por primera vez en un concierto de Balvin en Puerto Rico, cuando Bad Bunny estaba trabajando en lanzar música en SoundCloud, y luego colaboraron en la canción de 2017 «Si tu novio te deja sola».53\\u200b La química entre los dos fue tan fuerte que se les ocurrió la idea de lanzar un álbum conjunto.52\\u200b Oasis alcanzó el número nueve en el Billboard Hot 10054\\u200b y encabezó la lista Latin Album de Estados Unidos.55\\u200b Ese mismo año, actuó en el escenario principal de Coachella.56\\u200b Una canción de protesta «Afilando los cuchillos» con letras de Bad Bunny y Residente, se lanzó durante las protestas de Puerto Rico en 2019 contra Ricardo Rosselló.57\\u200b La canción obtuvo 2.5 millones de visitas en YouTube dentro de un día de su lanzamiento.58\\u200b Días después, tras la renuncia de Rosselló, Residente', metadata={'source': 'bad_bunny.txt'}),\n",
       " Document(page_content='de Puerto Rico en 2019 contra Ricardo Rosselló.57\\u200b La canción obtuvo 2.5 millones de visitas en YouTube dentro de un día de su lanzamiento.58\\u200b Días después, tras la renuncia de Rosselló, Residente y Bad Bunny lanzaron el sencillo «Bellacoso»., realizado debido a una apuesta de Residente de hacer un tema de reguetón bailable si Rosselló renunciaba.59\\u200b', metadata={'source': 'bad_bunny.txt'}),\n",
       " Document(page_content='2020-2021: YHLQMDLG, Las que no iban a salir y El último tour del mundo', metadata={'source': 'bad_bunny.txt'}),\n",
       " Document(page_content='A inicios de 2020, se empezó a rumorear el nombre de su próximo álbum de estudio cuando Bad Bunny lo escribía de manera frecuente en sus redes sociales.60\\u200b El título del álbum se mencionó por primera vez durante una secuencia del video musical del sencillo «Vete».61\\u200b62\\u200b En febrero de 2020, fue invitado en el espectáculo de medio tiempo del Super Bowl LIV, encabezado por Jennifer Lopez y Shakira.63\\u200b Durante el evento Calibash de 2020 realizada en el Staples Center de la ciudad de Los Ángeles, confirmó que el nombre del álbum sería YHLQMDLG.64\\u200b El 2 de febrero, anunció que el álbum saldría en el mes de febrero, y que contaría con un total de veinte canciones.65\\u200b Finalmente, anunció el álbum junto con su portada oficial el 27 de febrero de 2020, durante una aparición en el programa de televisión The Tonight Show Starring Jimmy Fallon.66\\u200b67\\u200b La portada fue llevada a cabo por el director y fotógrafo Germán de la Fuente.68\\u200b', metadata={'source': 'bad_bunny.txt'}),\n",
       " Document(page_content=\"Lanzó el álbum YHLQMDLG la medianoche del 29 de febrero de 2020.69\\u200b El título significa «Yo hago lo que me da la gana» y cuenta con colaboraciones con Daddy Yankee, Jowell & Randy, Ñengo Flow, Myke Towers, Kendo Kaponi, Arcángel, Nesi, Anuel AA, entre otros.70\\u200b El álbum es un homenaje a las marquesinas (fiestas de garaje) que Bad Bunny creció asistiendo, y presenta muchos guiños al reguetón de principios y mediados de la década de 2000.70\\u200b En la canción final del álbum, «<3», el artista anunció su intención de retirarse después de lanzar un álbum más, con la letra «Y en nueve mese' vuelvo y saco otro, pa' retirarme tranquilo como Miguel Cotto», haciendo referencia a la jubilación del boxeador puertorriqueño.70\\u200b Señaló que el estrés de la fama ha tenido un impacto negativo en su salud mental.70\\u200b Debutó en el número dos en el Billboard 200 de Estados Unidos, convirtiéndose en el álbum en español que alcanzó la posición más alta en toda la historia en dicha lista.71\\u200b El álbum fue\", metadata={'source': 'bad_bunny.txt'}),\n",
       " Document(page_content='mental.70\\u200b Debutó en el número dos en el Billboard 200 de Estados Unidos, convirtiéndose en el álbum en español que alcanzó la posición más alta en toda la historia en dicha lista.71\\u200b El álbum fue recibido con aclamación de la crítica, quien elogió la diversidad musical del disco. Para la promoción del álbum se estrenaron las pistas «Vete» como el sencillo principal,72\\u200b «Ignorantes» en colaboración con el cantante panameño Sech y «La difícil».73\\u200b En marzo de 2020, Bad Bunny lanzó el video musical de «Yo perreo sola», en el que el artista baila vestido de drag queen.74\\u200b El fotograma final del video denuncia el acoso sexual a las mujeres, y dice: \"Si ella no quiere bailar contigo, respétala, ella perrea sola». Sobre la canción y el video, Bad Bunny dijo: \"Lo escribí desde la perspectiva de una mujer. Quería que la voz de una mujer cantara -yo perreo sola- porque no significa lo mismo cuando un hombre la canta. Pero a veces me siento como una mujer». «Yo perreo sola» consiguió el número', metadata={'source': 'bad_bunny.txt'}),\n",
       " Document(page_content='una mujer. Quería que la voz de una mujer cantara -yo perreo sola- porque no significa lo mismo cuando un hombre la canta. Pero a veces me siento como una mujer». «Yo perreo sola» consiguió el número uno en la lista Billboard Latin Airplay, ganando su noveno número uno| en la lista en poco más de dos años.74\\u200b', metadata={'source': 'bad_bunny.txt'}),\n",
       " Document(page_content='Portada de Las que no iban a salir\\nEl 4 de abril de 2020, lanzó la canción inspirada en el COVID-19, «En casita», por SoundCloud, que expresó solidaridad hacia los demás en cuarentena y contó con voces de su novia, Gabriela Berlingeri.75\\u200b El 10 de mayo, estrenó un álbum recopilatorio Las que no iban a salir, el cual cuenta con la participación de Don Omar, Zion & Lennox, Nicky Jam, Yandel, entre otros,76\\u200b y el cual es una recopilación de canciones que no fueron terminadas ni que fueron lanzadas. Las canciones luego fueron interpretadas en un vivo en Instagram que Bad Bunny hizo en abril. Discutiendo el lanzamiento sorpresa del álbum, Bad Bunny dijo: “No tenía ningún significado real. Solo pensé: ‘Mierda, la gente necesita entretenimiento’”19\\u200b Bad Bunny había estado filmando su papel secundario en Narcos: México antes de que el rodaje fuera pospuesto debido a la pandemia.77\\u200b', metadata={'source': 'bad_bunny.txt'}),\n",
       " Document(page_content='En julio de 2020, Bad Bunny apareció en la primera portada digital de la revista Playboy, como el primer hombre en ser portada desde el fundador de la propia revista, Hugh Hefner. La portada fue tomada por el fotógrafo Stillz en Miami, Florida, y en la revista incluye un artículo llamado \"Bad Bunny is Not Playing God\". También recibió el premio ASCAP Latino al Compositor del Año.78\\u200b El mes siguiente, su canción «Pero ya no» apareció en la campaña presidencial del 2020 del candidato Joe Biden.79\\u200b El 20 de septiembre, Bad Bunny interpretó un concierto gratuito sorpresa vía YouTube desde lo alto de un camión plano que parecía un vagón de metro que pasaba por las calles de Nueva York hasta el Hospital Harlem.80\\u200b Con una caravana que incluye policías y vehículos parpadeando sus luces, el vagón de metro con Bad Bunny en la parte superior pasó por El Bronx y Washington Heights en Manhattan.81\\u200b En octubre de 2020, Bad Bunny lanzó el sencillo «Dákiti» con Jhay Cortez, quien alcanzó el puesto', metadata={'source': 'bad_bunny.txt'}),\n",
       " Document(page_content='de metro con Bad Bunny en la parte superior pasó por El Bronx y Washington Heights en Manhattan.81\\u200b En octubre de 2020, Bad Bunny lanzó el sencillo «Dákiti» con Jhay Cortez, quien alcanzó el puesto uno del Billboard Global 200, y alcanzó el puesto cinco en el US Hot 100. La canción es incluida en su tercer álbum, El último tour del mundo, el cual fue lanzado el 27 de noviembre del 2020 y del cual fue descrito como un disco ambicioso y personal.82\\u200b Se convirtió en el primer disco completo en español en alcanzar el número uno en el Billboard 200.83\\u200b', metadata={'source': 'bad_bunny.txt'}),\n",
       " Document(page_content='Bad Bunny y YHLQMDLG se convirtieron respectivamente en el artista y álbum más reproducido de Spotify durante el año 2020.84\\u200b Marcó la primera vez que un artista musical en lengua no inglesa encabeza la lista de fin de año, con un artículo de The Guardian considerándolo «la estrella pop más grande del mundo» por sus números de reproducciones.85\\u200b El álbum recibió una nominación para un Premio Grammy al Mejor álbum de pop o urbano latino.86\\u200b El 20 de febrero de 2021, interpretó «La noche de anoche» con Rosalía y «Te deseo lo mejor» en Saturday Night Live, conducido por Regé-Jean Page, además de aparecer en el sketch musical pregrabado \"Loco\" y \"Sea Shanty\".87\\u200b\\n\\nEn noviembre de 2021, se dio a conocer que se convirtió en el primer artista con 100 videos con más de 100 millones de visitas (c/u) en YouTube.88\\u200b', metadata={'source': 'bad_bunny.txt'}),\n",
       " Document(page_content='En noviembre de 2021, se dio a conocer que se convirtió en el primer artista con 100 videos con más de 100 millones de visitas (c/u) en YouTube.88\\u200b\\n\\n2022-2023: Un verano sin ti y nadie sabe lo que va a pasar mañana\\nEn 2021, Benito, anunció que se encontraba trabajando en un nuevo disco, el nombre de este sería Un verano sin ti. El artista anunció el álbum a comienzos del año 2022 con videos promocionales que fueron publicados en los primeros meses de dicho año junto a su pareja de por aquel entonces, Gabriela Berlingeri y el actor Mario Casas vía vídeos de Instagram.89\\u200b90\\u200b', metadata={'source': 'bad_bunny.txt'}),\n",
       " Document(page_content='El disco fue lanzado el 6 de mayo de 2022.91\\u200b Este cuarto álbum de estudio de Benito, consta de 23 sencillos, en los cuales abarco géneros como Reguetón, trap latino, rock, merengue, deep house, synth pop, dancehall, entre otros.92\\u200b Cuenta con las colaboraciones de Chencho Corleone, Jhay Cortez, Tony Dize, Rauw Alejandro, Bomba Estéreo, the Marías y Buscabulla.93\\u200b El productor principal del álbum fue Tainy y también contó con colaboraciones con otros como La Paciencia, Subelo NEO, etc. Por tercer año consecutivo, fue nombrado el artista más escuchado en Spotify.94\\u200bA finales de 2022, anunció que a lo largo del año 2023 haría una pausa musical para cuidar su salud emocional.95\\u200b', metadata={'source': 'bad_bunny.txt'}),\n",
       " Document(page_content='El viernes 13 de octubre de 2023, Martínez Ocasio retornó a la música publicando su quinto álbum de estudio, titulado Nadie sabe lo que va a pasar mañana (estilizado en minúscula), el proyecto contó con 22 sencillos y colaboraciones con los artistas Young Miko, Mora, Bryant Myers, Luar la L, YovngChimi, Eladio Carrión, Feid, Arcángel, Ñengo Flow y De la Ghetto.96\\u200b97\\u200b El álbum tuvo tres sencillos promocionales, el primero «Where She Goes» publicado 18 de mayo de ese mismo año, mientras que el 26 de septiembre lanzó «Un preview» y junto a la publicación del álbum lanzó el video musical de «Monaco», en el que cuenta con la presencia del actor estadounidense Al Pacino y el piloto de carreras Sergio \"Checo\" Pérez.98\\u200b99\\u200bEl álbum fue el más reproducido de todo el 2023 en Spotify, logrando la marca a tan solo un día de su lanzamiento.100\\u200b101\\u200b', metadata={'source': 'bad_bunny.txt'}),\n",
       " Document(page_content='El 21 de octubre de 2023, Bad Bunny participó en el prestigioso programa estadounidense Saturday Night Live,102\\u200b donde formó parte de sketches y presentó algunas de sus canciones.\\n\\nEn febrero de 2024, se anunció que Bad Bunny sería uno de los presentadores de la 96.ª edición de los Premios Óscar.103\\u200b\\n\\nArte\\nEstilo lírico y musical\\nBad Bunny es primordialmente un artista de reguetón y trap latino.104\\u200b Como se describe en un artículo de la Rolling Stone, Bad Bunny rapea y canta con un \"tono conversacional\", empleando \"un tono bajo y compuesto, con melodías pegajosas y una cadencia de rapero\".21\\u200b En una entrevista con Billboard, Bad Bunny declaró que sus mayores inspiraciones musicales mientras crecía fueron Héctor Lavoe, Vico C, Daddy Yankee y Marc Anthony.105\\u200b De niño, solía escuchar frecuentemente salsa y merengue a través de su padre y baladas pop por parte de su madre. Cuando descubrió la música en inglés, se vio influenciado por el trap y el hip-hop.106\\u200b', metadata={'source': 'bad_bunny.txt'}),\n",
       " Document(page_content='Durante su adolescencia, pasó por \"temporadas musicales\" en las que escuchaba casi exclusivamente un determinado tipo de música; él reflexiona que \"hubo temporada de bachata, temporada de indie-pop, incluso temporada de Bee Gees\".19\\u200b Daddy Yankee es una gran influencia para Bad Bunny, pero Lavoe es su mayor inspiración y se describe como \"una hebra fundamental del ADN musical de Bad Bunny\";107\\u200b Luego dijo que, cuando crecía, entretenía a los vecinos desde su balcón interpretando canciones de Lavoe.19\\u200b Aunque es principalmente un artista de trap y reguetón, sus canciones también incluyen influencias del soul, el pop y el R&B.28\\u200b Abordó su experimentación musical afirmando: \"Si mañana quiero sacar un disco de rock o uno de bachata, nadie me puede decir nada, ¿por qué yo no? Hay que intentar unir públicos, unir países, unir gustos musicales, unir a la gente\".108\\u200b También experimentó con el \"garage-pop punk\" en la canción \"Tenemos que hablar\" de su álbum X 100pre.109\\u200b En AllMusic, Thom', metadata={'source': 'bad_bunny.txt'}),\n",
       " Document(page_content='unir públicos, unir países, unir gustos musicales, unir a la gente\".108\\u200b También experimentó con el \"garage-pop punk\" en la canción \"Tenemos que hablar\" de su álbum X 100pre.109\\u200b En AllMusic, Thom Jurek comentó que el álbum \"expandió los límites del trap latino hasta los márgenes del pop\".110\\u200b Varias publicaciones le han atribuido el mérito de haber introducido el trap latino en el mercado de la música en inglés.111\\u200b112\\u200b', metadata={'source': 'bad_bunny.txt'}),\n",
       " Document(page_content='Según Timothy Monger de AllMusic, sus letras \"van desde el humor y el patetismo hasta el desamor y la ira (a veces en la misma canción)\".28\\u200b Al hablar del álbum de colaboración de Oasis entre Bad Bunny y J Balvin, Joe Coscarelli señaló que los dos artistas \"crean letras con referencias geográficas específicas y alusiones culturales, sin mostrar concesiones por las audiencias blancas estadounidenses a las que, sin embargo, les gusta su música\".108\\u200b Según Paper, otros temas explorados en la música de Bad Bunny incluyen \"el amor propio, la inclusión y la aceptación LGBTQ\".113\\u200b Sus canciones \"Yo perreo sola\" y \"Bellacoso\" (con Residente) denuncian el acoso sexual, esta última inspirada en el movimiento feminista de Puerto Rico, especialmente en las protestas contra el gobernador Ricardo Rosselló.74\\u200b59\\u200b\\n\\nImagen', metadata={'source': 'bad_bunny.txt'}),\n",
       " Document(page_content='Bad Bunny es reconocido por su gran variedad de looks.', metadata={'source': 'bad_bunny.txt'}),\n",
       " Document(page_content='Su sentido de la moda ha sido destacado por los medios de comunicación. Vanessa Rosales, de la CNN, opinó que «en rosa, flores y pantalones cortos, Bad Bunny defiende una nueva masculinidad».114\\u200b Según Vogue, Bad Bunny es un «conocido fanático de las gafas de sol».115\\u200b El rapero bromeó una vez diciendo que poder llevar gafas de sol por la noche era una motivación clave para convertirse en artista.115\\u200b Su comportamiento tan variante de género está a la vista en muchos de sus vídeos, y cuando, en las galas de premios, aparece con las uñas largas, bien cuidadas y pulidas.104\\u200b116\\u200b Ben Beaumont-Thomas, de The Guardian, opinó en 2020 que su estilo influyó en otros artistas latinos, que «a menudo comparten su colorida mezcla de ropa de calle y sastrería».85\\u200b En el vídeo de su sencillo «Estamos bien», se ve a Bad Bunny disfrutando de su tiempo con sus amigos, y luego puliendo sus uñas con un esmalte de color púrpura y secándolas con un soplador.114\\u200b Su video para «Yo perreo sola» muestra al', metadata={'source': 'bad_bunny.txt'}),\n",
       " Document(page_content='bien», se ve a Bad Bunny disfrutando de su tiempo con sus amigos, y luego puliendo sus uñas con un esmalte de color púrpura y secándolas con un soplador.114\\u200b Su video para «Yo perreo sola» muestra al artista actuando en versión drag. Su sentido de la moda también está influenciado por su interés por el skateboarding cuando era adolescente.117\\u200b Tras entrevistarlo en 2018, los entrevistadores de NPR Félix Contreras y Jasmine Garsd dijeron que una de las cosas que más les llamó la atención fue su humildad.118\\u200b', metadata={'source': 'bad_bunny.txt'}),\n",
       " Document(page_content='La extravagante presencia de Bad Bunny en las redes sociales ha acaparado la atención de los medios de comunicación durante la pandemia de COVID-19. El 2 de mayo de 2020 organizó una sesión de Instagram en directo de tres horas de duración, en la que más de 250 000 espectadores estuvieron conectados en todo momento, llegando en un momento dado a 320 000 espectadores.119\\u200b La artista de Houston Cynthia Coronado pintó un cuadro de un popular post del rapero bronceándose mientras llevaba unas gafas de sol con forma de corazón en la cuarentena, y Bad Bunny ofreció comprar el cuadro a través de Instagram por 5000 dólares.119\\u200b El 14 de mayo de 2020, Rolling Stone presentó a Bad Bunny en el artículo de portada de la revista titulado Bad Bunny en Cautiverio, un relato detallado de la cuarentena que pasó el rapero en un Airbnb de Puerto Rico.19\\u200b Bad Bunny se convirtió en el primer artista urbano latino en aparecer en la portada de la revista.16\\u200b Además, las fotos realizadas para el reportaje', metadata={'source': 'bad_bunny.txt'}),\n",
       " Document(page_content='que pasó el rapero en un Airbnb de Puerto Rico.19\\u200b Bad Bunny se convirtió en el primer artista urbano latino en aparecer en la portada de la revista.16\\u200b Además, las fotos realizadas para el reportaje fueron creadas por Gabriela Berlingeri, diseñadora de joyas y novia de Bad Bunny, lo que la convierte en la primera latina que realiza un reportaje de portada para la revista.16\\u200b Con el reportaje, la editora de música latina de Rolling Stone, Suzy Exposito, también se convirtió en la primera latina en escribir un artículo de portada para la revista.16\\u200b', metadata={'source': 'bad_bunny.txt'}),\n",
       " Document(page_content=\"En relación con su pasión durante su niñez por la lucha libre profesional, el comienzo de su vídeo musical «Chambea» presenta una introducción del luchador Ric Flair.17\\u200b Al hablar de la experiencia, Bad Bunny explicó: «[Haciendo el video], seguí diciendo, 'falta algo, falta algo'. Entonces se me ocurrió, 'vamos a poner un luchador legendario aquí'. Cuando llegué al video estaba nervioso, realmente nervioso, y no sabía si él iba a ser humilde o más como el personaje. ¡Pero es un súper, súper buena persona y nos hicimos amigos!».17\\u200b El interés de Bad Bunny por la lucha libre también influyó en su deseo de explorar el estilo andrógino y femenino, y el rapero explicó: «Cada luchador tiene su manera de ser y los respetan. Tienen pelo largo y pueden pintarse la cara, pero son seres muy fuertes y poderosos».19\\u200b\", metadata={'source': 'bad_bunny.txt'}),\n",
       " Document(page_content='Vida personal\\nEn 2017, el artista conoció a la diseñadora de joyas Gabriela Berlingeri en un restaurante mientras cenaba con su familia, y los dos comenzaron a salir poco después.120\\u200b Berlingeri se convirtió en la primera latina en fotografiar la portada de Rolling Stone cuando fotografió al rapero para la portada de mayo de 2020 de la revista.121\\u200b En una entrevista de 2020 con Los Angeles Times, Bad Bunny declaró que ve la sexualidad como algo fluido. Él dijo: «Al final del día, no sé si en 20 años me gustará un hombre. Uno nunca sabe en la vida. Pero en este momento soy heterosexual y me gustan las mujeres».122\\u200b\\n\\nEn marzo de 2023, Carliz De la Cruz su expareja desde 2011 a 2016 inició una demanda en contra del artista por “violación de derechos de imagen, derechos morales de autor, daños y perjuicios, por la utilización de la frase ‘Bad Bunny baby’”.123\\u200bEn ese mismo año, Martínez Ocasio comenzó una relación con la modelo estadounidense Kendall Jenner.124\\u200b125\\u200b', metadata={'source': 'bad_bunny.txt'}),\n",
       " Document(page_content='Activismo\\nEn 2019, fue nominado a los Premios Tu Música Urbano inaugurales de Telemundo, en la categoría de «Premio humanitario del Año».126\\u200b\\n\\nEl 22 de julio de 2019, Bad Bunny se unió a artistas como Residente, Ricky Martin y más de medio millón de puertorriqueños para tomar las calles y cerrar la Autopista Las Américas, una carretera importante también conocida como la Autopista Luis A. Ferré. En protesta por un telegram del Gobernador donde se burlaba de personas gays y de artistas y en contra de la corrupción gubernamental para sacar del cargo al gobernado de PR Ricardo Rosello...127\\u200b No se ha pronunciado con respecto al movimiento de la estadidad en Puerto Rico y ha manifestado que preferiría responder más adelante con mayor claridad.120\\u200b', metadata={'source': 'bad_bunny.txt'}),\n",
       " Document(page_content='En apoyo a los derechos LGBT, Bad Bunny criticó un tuit del reguetonero Don Omar considerado homofóbico.128\\u200b Durante una actuación en The Tonight Show Starring Jimmy Fallon en febrero de 2020, llamó la atención sobre el asesinato de la mujer transgénero Alexa Negrón Luciano en Puerto Rico al usar una camiseta con las palabras «Mataron a Alexa. No a un hombre con falda», haciendo referencia a informes noticiosos que habían malinterpretado el género de la víctima.129\\u200b120\\u200b Ricky Martin ha declarado que Bad Bunny «se ha convertido en un ícono para la comunidad queer latina\" debido a su apoyo abierto a los latinos homosexuales y transgénero, así como a su adopción de la cultura drag.120\\u200b', metadata={'source': 'bad_bunny.txt'}),\n",
       " Document(page_content='Lucha libre profesional\\nUn autoproclamado fanático de toda la vida de la lucha libre profesional, Bad Bunny comenzó a hacer apariciones en la promoción estadounidense WWE en 2021.130\\u200b Durante el evento anual Royal Rumble de la WWE celebrado el 31 de enero de 2021, Bad Bunny interpretó su canción \"Booker T\" en vivo, que también tuvo una aparición del ex luchador del mismo nombre.131\\u200b Luego comenzó a aparecer en el programa de televisión semanal de WWE Monday Night Raw.132\\u200b\\n\\nEl luchador Damian Priest, un compatriota puertorriqueño, se alió con Bad Bunny y lo ayudó a ganar el Campeonato de la WWE 24/7 de Akira Tozawa en el episodio del 15 de febrero de Raw.133\\u200b En el episodio del 15 de marzo, cedió el Campeonato 24/7 a R-Truth a cambio de recuerdos de Steve Austin de \"Stone Cold\", terminando su reinado en 28 días.134\\u200b135\\u200b En WrestleMania 37, Bad Bunny hizo equipo con Damian Priest en un tag team match para derrotar a The Miz y John Morrison en su debut en la lucha libre en el ring.136\\u200b', metadata={'source': 'bad_bunny.txt'}),\n",
       " Document(page_content='En el Royal Rumble 2022 el 29 de enero, Bad Bunny regresó a la WWE, compitiendo en el Royal Rumble match masculino. Eliminó a Sheamus y Dolph Ziggler y duró hasta los últimos cinco, cuando fue eliminado por el eventual ganador, Brock Lesnar.137\\u200b El 23 de enero de 2023, se anunció que Bad Bunny sería un luchador jugable en el videojuego WWE 2K23 como un bono de pre-orden.138\\u200b', metadata={'source': 'bad_bunny.txt'}),\n",
       " Document(page_content='El 8 de marzo de 2023, se anunció que Bad Bunny sería el anfitrión del próximo evento de WWE Backlash, que tendrá lugar en su natal Puerto Rico.139\\u200b El 1 de abril de 2023, Bad Bunny se unió al equipo español para comentar durante la lucha entre Rey Mysterio y Dominik Mysterio en la noche 1 de WrestleMania 39. Bunny intervendría durante la lucha, evitando que Dominik atacara a Rey con una cadena.140\\u200b Dos noches más tarde en Raw, Bunny, que estaba sentado en primera fila como fanático, fue atacado y estrangulado a través de la mesa de locutores por su excompañero Damian Priest, quien ahora era compañero de equipo de Dominik Mysterio en The Judgment Day.141\\u200b En el episodio del 24 de abril, Bunny regresó y atacó a Priest con un palo de kendo, anunciando posteriormente que en lugar de presentar Backlash, lucharía contra Priest en una pelea callejera de San Juan en el evento.142\\u200b En el episodio del 5 de mayo de SmackDown, Bunny ayudó al Latino World Order (LWO) a salvar a Rey Mysterio de un', metadata={'source': 'bad_bunny.txt'}),\n",
       " Document(page_content='Backlash, lucharía contra Priest en una pelea callejera de San Juan en el evento.142\\u200b En el episodio del 5 de mayo de SmackDown, Bunny ayudó al Latino World Order (LWO) a salvar a Rey Mysterio de un ataque de The Judgment Day.143\\u200b144\\u200b En Backlash el 6 de mayo, Bunny derrotó a Damian Priest en una lucha de estilo callejero.145\\u200b', metadata={'source': 'bad_bunny.txt'})]"
      ]
     },
     "execution_count": 8,
     "metadata": {},
     "output_type": "execute_result"
    }
   ],
   "source": [
    "splits"
   ]
  },
  {
   "cell_type": "code",
   "execution_count": 48,
   "metadata": {},
   "outputs": [],
   "source": [
    "# Create Ollama embeddings and vector store\n",
    "embedding_model = OllamaEmbeddings(model=\"llama2\")"
   ]
  },
  {
   "cell_type": "markdown",
   "metadata": {},
   "source": [
    "Codigo para comprobar/entender que cada cacho de documento de split esta asociado a una lista vectores de vectorstore"
   ]
  },
  {
   "cell_type": "code",
   "execution_count": 49,
   "metadata": {},
   "outputs": [],
   "source": [
    "persist_directory = \"embeddings_langchain\"\n",
    "vectorstore = Chroma.from_documents(documents=splits, embedding=embedding_model, persist_directory=persist_directory)"
   ]
  },
  {
   "cell_type": "markdown",
   "metadata": {},
   "source": [
    "Definimos,\n",
    "\n",
    "- **retriver** Se encarga de calcular la similaridad con los documentos de la base de datos Chroma\n",
    "- `rag_chain` usa retriever para encontrar los documentos mas similares al input (donde, probablemente, estara la respuesta a la pregunta)\n",
    "- `format_docs` junta esos documentos en los que puede estar la respuesta y los junta en una string.\n",
    "- `ollama_lm` es la llamada al modelo llama2 junto con todos los documentos en los que seguramente este la respuesta para que de una respuesta."
   ]
  },
  {
   "cell_type": "code",
   "execution_count": 54,
   "metadata": {},
   "outputs": [
    {
     "name": "stdout",
     "output_type": "stream",
     "text": [
      "Bad Bunny fue nominado a los Premios Tu Música Urbano inaugurales de Telemundo en 2019 en la categoría de \"Premio humanitario del Año\". Además, ha participado en various events and protests related to social and political issues in Puerto Rico, including joining other artists to shut down a highway in protest of a governor's comments that were deemed offensive to the LGBTQ+ community.\n",
      "\n",
      "In terms of his music career, Bad Bunny is primarily known as a reggaeton and trap artist, and has been featured on the cover of Rolling Stone magazine as well as other prominent publications. He has also made appearances in the WWE and has performed his song \"Booker T\" live at the Royal Rumble event in 2021.\n",
      "\n",
      "Therefore, the answer to the question is between 2019 and 2021, as that is when Bad Bunny was nominated for a prize and began his career in the WWE.\n"
     ]
    }
   ],
   "source": [
    "# Create the retriever\n",
    "retriever = vectorstore.as_retriever()\n",
    "\n",
    "def format_docs(docs):\n",
    "    return \"\\n\\n\".join(doc.page_content for doc in docs)\n",
    "\n",
    "# Define the Ollama LLM function\n",
    "def ollama_llm(question, context):\n",
    "    formatted_prompt = f\"Question: {question}\\n\\nContext: {context}\"\n",
    "    response = ollama.chat(model='llama2', messages=[{'role': 'user', 'content': formatted_prompt}])\n",
    "    return response['message']['content']\n",
    "\n",
    "# Define the RAG chain\n",
    "def rag_chain(question):\n",
    "    retrieved_docs = retriever.invoke(question)\n",
    "    for doc in retrieved_docs:\n",
    "        if 'spotify' in doc.page_content.lower():\n",
    "            print(doc.page_content)\n",
    "            print(\"\\n\\n\")\n",
    "    formatted_context = format_docs(retrieved_docs)\n",
    "    return ollama_llm(question, formatted_context)\n",
    "\n",
    "# Use the RAG chain\n",
    "result = rag_chain(\"Entre que años fue Bad Bunny el artista más escuchado en Spotify?\")\n",
    "print(result)"
   ]
  },
  {
   "cell_type": "markdown",
   "metadata": {},
   "source": [
    "No esta extrayendo el documento correct, ha acertado de chiripa"
   ]
  },
  {
   "cell_type": "markdown",
   "metadata": {},
   "source": [
    "La respuesta esta en esta frase de wikipedia (de donde he sacado el txt)  https://es.wikipedia.org/wiki/Bad_Bunny: \n",
    "*\"Además, fue el primer artista hispanohablante en ser el más reproducido en Spotify entre 2020 y 2022\"*"
   ]
  },
  {
   "cell_type": "markdown",
   "metadata": {},
   "source": [
    "Aqui podemos ver que sin context el modelo no responde bien. Escribi esto antes de ver el resultado. Por eso antes aunque no ha sacado bien el documento ha contestado bien."
   ]
  },
  {
   "cell_type": "code",
   "execution_count": 52,
   "metadata": {},
   "outputs": [
    {
     "data": {
      "text/plain": [
       "{'model': 'llama2',\n",
       " 'created_at': '2024-04-18T16:49:00.291329Z',\n",
       " 'message': {'role': 'assistant',\n",
       "  'content': 'Bad Bunny se convirtió en el artista más escuchado en Spotify en 2019. Según datos de Spotify, en ese año Bad Bunny fue el artista más escuchado en la plataforma, con más de 300 millones de horas de reproducción mensuales.'},\n",
       " 'done': True,\n",
       " 'total_duration': 14661961000,\n",
       " 'load_duration': 12673708,\n",
       " 'prompt_eval_count': 25,\n",
       " 'prompt_eval_duration': 7913164000,\n",
       " 'eval_count': 71,\n",
       " 'eval_duration': 6719005000}"
      ]
     },
     "execution_count": 52,
     "metadata": {},
     "output_type": "execute_result"
    }
   ],
   "source": [
    "ollama.chat(model='llama2', messages=[{'role': 'user', 'content': \"Entre que años fue Bad Bunny el artista más escuchado en Spotify?\"}])"
   ]
  },
  {
   "cell_type": "markdown",
   "metadata": {},
   "source": [
    "## Contestar con JSON\n",
    "\n",
    "\n",
    "Ahora queremos que responda con un JSON\n",
    "\n",
    "https://www.youtube.com/watch?v=eHfMCtlsb1o"
   ]
  },
  {
   "cell_type": "code",
   "execution_count": 58,
   "metadata": {},
   "outputs": [],
   "source": [
    "from openai import OpenAI\n",
    "from pydantic import BaseModel, Field\n",
    "from typing import List\n",
    "import instructor"
   ]
  },
  {
   "cell_type": "markdown",
   "metadata": {},
   "source": [
    "Esta clase de pydanctic comprueba que el json que devuelva sea valido (sobre todo es util para el tipo de dato)."
   ]
  },
  {
   "cell_type": "code",
   "execution_count": 59,
   "metadata": {},
   "outputs": [],
   "source": [
    "class BadBunnyInfo(BaseModel):\n",
    "    artist_name: str = Field(..., description=\"Artist name of the singer\")\n",
    "    name: str = Field(..., description=\"Real Name\")\n",
    "    surname: str = Field(..., description=\"Real Surname\")\n",
    "    birth_date: str = Field(..., description=\"Birth Date\")\n",
    "    year_YHLQMDLG: int = Field(..., description=\"Year of the album YHLQMDLG\")"
   ]
  },
  {
   "cell_type": "markdown",
   "metadata": {},
   "source": [
    "Llamamos a la api con el modelo llama2 como en el video"
   ]
  },
  {
   "cell_type": "code",
   "execution_count": 61,
   "metadata": {},
   "outputs": [],
   "source": [
    "client = instructor.patch(\n",
    "    OpenAI(\n",
    "        base_url=\"http://localhost:11434/v1\",\n",
    "        api_key=\"ollama\",\n",
    "    ),\n",
    "    mode=instructor.Mode.JSON,\n",
    ")\n"
   ]
  },
  {
   "cell_type": "markdown",
   "metadata": {},
   "source": [
    "Todo lo que esta comentado es porque no funcionaba. Voy a definir un texto muy sencillo."
   ]
  },
  {
   "cell_type": "code",
   "execution_count": 63,
   "metadata": {},
   "outputs": [],
   "source": [
    "# queries = [\n",
    "# \"Nombre artistico del cantante de Bad Bunny\",\n",
    "# \"Como se llama el cantante Bad Bunny\",\n",
    "# \"Apellidos del cantante Bad Bunny\",\n",
    "# \"Fecha de Nacimiento del cantante Bad Bunny\",\n",
    "# \"En que año lanzo su album YHLQMDLG\",\n",
    "# ]"
   ]
  },
  {
   "cell_type": "code",
   "execution_count": 64,
   "metadata": {},
   "outputs": [],
   "source": [
    "# retrieved_docs = {}\n",
    "# for query in queries:\n",
    "#     retrieved_doc = retriever.invoke(query)\n",
    "#     retrieved_docs[query] = retrieved_doc"
   ]
  },
  {
   "cell_type": "code",
   "execution_count": 65,
   "metadata": {},
   "outputs": [],
   "source": [
    "# result = \"\"\n",
    "\n",
    "# for query, doc in retrieved_docs.items():\n",
    "#     print(query)\n",
    "#     result += query\n",
    "#     print(\"\\n\")\n",
    "#     result += \"\\n\"\n",
    "#     for page in doc:\n",
    "#         print(page.page_content)\n",
    "#         result += page.page_content\n",
    "#         print(\"\\n\")\n",
    "#         result += \"\\n\""
   ]
  },
  {
   "cell_type": "code",
   "execution_count": 66,
   "metadata": {},
   "outputs": [],
   "source": [
    "# retrieved_docs['Fecha de Nacimiento del cantante Bad Bunny']"
   ]
  },
  {
   "cell_type": "markdown",
   "metadata": {},
   "source": [
    "Si no es capaz de sacar la informacion de este texto, yo ya me jubilo."
   ]
  },
  {
   "cell_type": "code",
   "execution_count": 67,
   "metadata": {},
   "outputs": [],
   "source": [
    "# content = \"\"\"\n",
    "# Hola me llamo Bad Bunny, mi nombre real es Benito Antonio Martínez Ocasio, nací el 10 de marzo de 1994 y mi album YHLQMDLG lo publiqué en 2020.\n",
    "# \"\"\"\n",
    "\n",
    "# Write same content but in english\n",
    "content = \"\"\"\n",
    "Please, write the the artist name and birth date mentioned in this text: Hello my name as singer is Bad Bunny, my real name is Benito Antonio Martínez Ocasio, I was born on March 10, 1994 and I released my album YHLQMDLG in 2020.\n",
    "\"\"\"\n",
    "# content = \"\"\"\n",
    "# Tienes en un texto la información de un cantante. El texto contiene información sobre su nombre real, su fecha de nacimiento y el año en el que su álbum YHLQMDLG. Aqui puedes encontrar el texto: \n",
    "# {texto}\n",
    "\n",
    "# Por favor, responde a las siguientes preguntas:\n",
    "# 1. Cual es su nombre artistico\n",
    "# 2. Cual es su nombre real\n",
    "# 3. Cual es su apellido\n",
    "# 4. Cual es su fecha de nacimiento\n",
    "# 5. En que año publico su album YHLQMDLG\n",
    "\n",
    "# Responde con un JSON con keys\n",
    "# 1. 'artirt_name'\n",
    "# 2. 'name'\n",
    "# 3. 'surname'\n",
    "# 4. 'birth_date'\n",
    "# 5. 'year_YHLQMDLG'\n",
    "# \"\"\""
   ]
  },
  {
   "cell_type": "markdown",
   "metadata": {},
   "source": [
    "Defino el pydantic en ingles a ver si asi funciona"
   ]
  },
  {
   "cell_type": "code",
   "execution_count": 68,
   "metadata": {},
   "outputs": [],
   "source": [
    "class BadBunnyInfo(BaseModel):\n",
    "    artist_name: str = Field(..., description=\"Artist name of the singer\")\n",
    "    #name: str = Field(..., description=\"Real Name\")\n",
    "    #surname: str = Field(..., description=\"Real Surname\")\n",
    "    #birth_date: str = Field(..., description=\"Birth Date\")\n",
    "    year_YHLQMDLG: int = Field(..., description=\"Year of the album YHLQMDLG\")"
   ]
  },
  {
   "cell_type": "code",
   "execution_count": 71,
   "metadata": {},
   "outputs": [],
   "source": [
    "resp = client.chat.completions.create(\n",
    "    model=\"llama2\",\n",
    "    messages=[\n",
    "        {\n",
    "            \"role\": \"user\",\n",
    "            #\"content\": content.format(texto=result)\n",
    "            \"content\": content\n",
    "        }\n",
    "    ],\n",
    "    response_model=BadBunnyInfo,\n",
    "    max_retries=10\n",
    ")"
   ]
  },
  {
   "cell_type": "code",
   "execution_count": 72,
   "metadata": {},
   "outputs": [
    {
     "data": {
      "text/plain": [
       "BadBunnyInfo(artist_name='Bad Bunny', year_YHLQMDLG=2020)"
      ]
     },
     "execution_count": 72,
     "metadata": {},
     "output_type": "execute_result"
    }
   ],
   "source": [
    "resp"
   ]
  },
  {
   "cell_type": "markdown",
   "metadata": {},
   "source": [
    "Funciona :))))))))))))))))))))"
   ]
  },
  {
   "cell_type": "markdown",
   "metadata": {},
   "source": [
    "Lo probamos con el texto grande"
   ]
  },
  {
   "cell_type": "code",
   "execution_count": 73,
   "metadata": {},
   "outputs": [],
   "source": [
    "queries = [\n",
    "    \"Nombre artistico del cantante de Bad Bunny\",\n",
    "    \"Como se llama el cantante Bad Bunny\",\n",
    "    \"Apellidos del cantante Bad Bunny\",\n",
    "    \"Fecha de Nacimiento del cantante Bad Bunny\",\n",
    "    \"En que año lanzo su album YHLQMDLG\",\n",
    "]"
   ]
  },
  {
   "cell_type": "markdown",
   "metadata": {},
   "source": [
    "Otro ejemplo"
   ]
  },
  {
   "cell_type": "code",
   "execution_count": 75,
   "metadata": {},
   "outputs": [],
   "source": [
    "class Currency(BaseModel):\n",
    "    symbol: str = Field(..., description=\"ISO 4217 currency code\")"
   ]
  },
  {
   "cell_type": "code",
   "execution_count": 76,
   "metadata": {},
   "outputs": [
    {
     "data": {
      "text/plain": [
       "Currency(symbol='USD')"
      ]
     },
     "execution_count": 76,
     "metadata": {},
     "output_type": "execute_result"
    }
   ],
   "source": [
    "resp = client.chat.completions.create(\n",
    "    model=\"llama2\",\n",
    "    messages=[\n",
    "        {\n",
    "            \"role\": \"user\",\n",
    "            #\"content\": content.format(texto=result)\n",
    "            \"content\": \"What is the currency code for the US Dollar?\"\n",
    "        }\n",
    "    ],\n",
    "    response_model=Currency,\n",
    "    max_retries=10\n",
    ")\n",
    "resp"
   ]
  },
  {
   "cell_type": "markdown",
   "metadata": {},
   "source": [
    "# Mi manera con ChromaDB"
   ]
  },
  {
   "cell_type": "code",
   "execution_count": 77,
   "metadata": {},
   "outputs": [],
   "source": [
    "import ollama\n",
    "import bs4\n",
    "from langchain.text_splitter import RecursiveCharacterTextSplitter\n",
    "from langchain_community.document_loaders import TextLoader\n",
    "from langchain_core.output_parsers import StrOutputParser\n",
    "from langchain_core.runnables import RunnablePassthrough\n",
    "\n",
    "# Load the text\n",
    "loader = TextLoader(\"bad_bunny.txt\")\n",
    "docs = loader.load()\n",
    "\n",
    "# Split the text into chunks\n",
    "text_splitter = RecursiveCharacterTextSplitter(chunk_size=1000, chunk_overlap=200)\n",
    "splits = text_splitter.split_documents(docs)"
   ]
  },
  {
   "cell_type": "markdown",
   "metadata": {},
   "source": [
    "Creamos una funcion en la que metemos texto y nos devuelve el vector del embedding generado por llama2.  Esto SOLO lo pasa a vectores. NO TOKENIZA. Es decir, cada documento tendra asociado un vector."
   ]
  },
  {
   "cell_type": "code",
   "execution_count": 78,
   "metadata": {},
   "outputs": [],
   "source": [
    "# Generamos los embeddings de cada chunk con una funcion para no generar los embeddings sin querer\n",
    "def generate_embeddings(prompt: str = 'The sky is blue because of rayleigh scattering'):\n",
    "    vector = ollama.embeddings(model='llama2', prompt=prompt)\n",
    "    return vector"
   ]
  },
  {
   "cell_type": "code",
   "execution_count": 79,
   "metadata": {},
   "outputs": [
    {
     "name": "stdout",
     "output_type": "stream",
     "text": [
      "<class 'dict'>\n",
      "{'embedding': [0.8026409149169922, -0.6997383832931519, 0.6685507297515869, 2.087705373764038, -0.3597745895385742, -0.7193409204483032, -0.3752881586551666, 0.7305898666381836, 0.220156729221344, -0.6775131821632385, 0.3040643036365509, -1.3673839569091797, -0.13077086210250854, 0.11252722144126892, 0.5427549481391907, -0.5427400469779968, -1.302517056465149, 1.1957448720932007, 0.9690303206443787, 1.6445399522781372, 1.8558064699172974, -3.7210965156555176, 0.659212589263916, -3.0161290168762207, 0.16594401001930237, -2.4745938777923584, -0.6295669674873352, 1.6412791013717651, 0.2634392976760864, 1.830955147743225, -0.6450852155685425, -1.1743316650390625, 0.2681480348110199, 2.0101146697998047, -0.25673824548721313, -0.5765746831893921, 1.0189534425735474, -1.434535264968872, 0.8933296203613281, -2.3046984672546387, 0.6063656210899353, -3.1889917850494385, 2.5508172512054443, 0.2089187204837799, -3.47857666015625, 1.5960805416107178, -1.0160739421844482, 1.3754639625549316, 0.5363162159919739, 0.773231029510498, 0.6732047200202942, 3.1149978637695312, 1.532729148864746, -1.2047230005264282, 0.14865949749946594, 2.9982571601867676, -1.1934422254562378, -1.6255160570144653, -0.9564814567565918, 0.749066948890686, -0.753503143787384, -1.0699025392532349, 2.032263994216919, -0.49751153588294983, -3.116013288497925, -1.7238644361495972, -2.076979160308838, 1.8804508447647095, 1.9757609367370605, -1.1206082105636597, 0.3992634415626526, 2.3638954162597656, 0.8172549605369568, 0.10423722118139267, -4.129042625427246, 1.6521984338760376, 0.5692306160926819, 0.026455678045749664, -0.22311565279960632, 0.13768316805362701, -2.412362813949585, -3.141726493835449, 0.2196631133556366, -1.1112953424453735, -0.654141366481781, -1.7948247194290161, 0.37503156065940857, -0.2328183650970459, -1.7007428407669067, 1.0569053888320923, 1.38200044631958, 2.621363401412964, 1.3025621175765991, 2.84507155418396, -0.44821712374687195, -0.6326196789741516, 2.678429126739502, -1.5284231901168823, -0.40335574746131897, 1.6783108711242676, 2.2616491317749023, 1.7257728576660156, -1.234791874885559, 0.6468455791473389, 1.3003427982330322, -1.849189043045044, 0.8592759370803833, -2.3436660766601562, 0.5843072533607483, -1.2164011001586914, -0.6878028512001038, 0.6981452703475952, 0.15248160064220428, 0.020662909373641014, -2.488001823425293, -1.1204174757003784, 0.9080663919448853, -0.44329434633255005, 0.9764562249183655, -1.1741809844970703, -2.412134885787964, -0.944947361946106, 1.0739847421646118, -0.9804298281669617, -2.5340070724487305, 0.8761152029037476, -1.6033121347427368, -1.8224396705627441, 2.176090955734253, -1.1530014276504517, -0.8442209959030151, -0.6800680160522461, 0.5237684845924377, -1.0935554504394531, -1.6259936094284058, 0.7687032222747803, 0.010419448837637901, 0.2399822175502777, 3.59918475151062, 1.3755661249160767, -1.317787528038025, 0.15156781673431396, -0.6617684364318848, -3.3174805641174316, 1.5793237686157227, -2.254401206970215, 1.336568832397461, 0.5393831729888916, -0.42173951864242554, 7.127717971801758, 0.6781928539276123, 1.6173709630966187, -4.2465057373046875, 2.8530397415161133, -1.6302146911621094, 2.6855921745300293, -1.1439465284347534, -1.036052942276001, 1.0274285078048706, 2.524845600128174, -0.28635814785957336, -0.26177605986595154, 3.66371750831604, 1.4882774353027344, -1.204770803451538, 0.8662466406822205, 0.36934444308280945, 0.6212338209152222, -0.23685325682163239, 0.03121126815676689, -0.6311182379722595, -0.11362631618976593, 0.3302052319049835, 0.7706069350242615, -1.2199987173080444, -3.511519432067871, -1.9632750749588013, -1.715179443359375, 0.14652404189109802, 1.4565755128860474, -1.7587318420410156, -1.2385144233703613, -0.40446364879608154, -2.077195167541504, 0.32432860136032104, -4.0823655128479, -2.381287097930908, -0.6567734479904175, -0.5933412909507751, -0.020539984107017517, -1.2894819974899292, 6.119948387145996, -0.030858824029564857, -0.925750195980072, -2.2622828483581543, -0.3777405023574829, 0.07581344991922379, -0.4079105257987976, 1.8617653846740723, -1.537743091583252, 1.2364240884780884, 0.14710097014904022, -0.17785672843456268, -1.1939679384231567, 2.340928077697754, 4.18349552154541, -0.01632669009268284, -1.537083625793457, -0.5731768608093262, -0.732147216796875, -1.5063562393188477, 3.539449691772461, -0.723930299282074, -0.3691661059856415, 3.0903713703155518, -0.8198992609977722, -2.2956321239471436, 1.482528567314148, -0.2284613996744156, -2.5553653240203857, -0.6777018308639526, -0.28373292088508606, 2.496016025543213, 2.9625985622406006, 3.945408821105957, 4.332370758056641, 2.2354557514190674, -4.957792282104492, -0.18910180032253265, -2.76562237739563, -1.1766736507415771, 1.1369739770889282, 0.3490116596221924, -0.1015949696302414, -0.11851741373538971, 0.06646893173456192, -0.11788537353277206, -1.8683966398239136, 1.14124596118927, 2.9304285049438477, -2.8104164600372314, -0.931453287601471, -2.749171018600464, 0.16792352497577667, -0.8971137404441833, 1.3632580041885376, -1.8888870477676392, 2.9939963817596436, -0.10290171951055527, -0.1817920207977295, 0.7778844237327576, -1.0800544023513794, -0.5012063980102539, 2.6683707237243652, -0.7343763709068298, 2.891050100326538, 0.8855722546577454, -3.4376020431518555, -0.19064393639564514, -0.7168357968330383, -1.529274821281433, -0.6881483793258667, 0.015621316619217396, 1.7786152362823486, -0.39841973781585693, -2.3371381759643555, -0.9703702330589294, 1.6859028339385986, 1.6518934965133667, 7.848935127258301, -1.29465651512146, 0.224116712808609, 1.5397319793701172, -1.3203070163726807, 2.0047359466552734, -1.2798861265182495, -2.877020835876465, -2.273662567138672, -3.6777374744415283, 1.8639278411865234, 0.7972697615623474, 0.8502000570297241, -0.6645292639732361, 0.05758189409971237, 0.7134238481521606, -0.5691017508506775, 1.0620298385620117, -0.6099627017974854, 0.40472686290740967, -2.6705386638641357, 0.8866429924964905, -1.0603663921356201, 0.8069249987602234, -1.0059421062469482, -0.4570997655391693, 0.18035316467285156, -0.6212156414985657, 3.60768461227417, -0.23640739917755127, 1.486253261566162, -0.7339922785758972, 2.154881000518799, 1.3727691173553467, -2.1595094203948975, 1.6034069061279297, 2.2103633880615234, 1.6222374439239502, -2.499234437942505, -0.20934420824050903, -1.9179919958114624, 2.903348684310913, -0.6367600560188293, 1.3228117227554321, 3.2561745643615723, 2.178361654281616, -1.1963677406311035, -1.0306358337402344, -5.332882881164551, 0.8834825158119202, -0.11978619545698166, 1.1641690731048584, -1.9053139686584473, 0.8484426736831665, -1.2192471027374268, -0.0400548055768013, -1.0269439220428467, -1.5223455429077148, 0.014448599889874458, -1.7650638818740845, -0.8223929405212402, -3.3041560649871826, -4.312255859375, -0.2741526961326599, -0.42456570267677307, 0.48585882782936096, 2.008202314376831, -2.73038387298584, 0.4016505777835846, 1.3312149047851562, 2.1174185276031494, 0.8920904994010925, 0.29102712869644165, -1.4809372425079346, 0.9273666143417358, -1.6305643320083618, 1.1514701843261719, 0.24606144428253174, -0.019680004566907883, -0.26051104068756104, -0.4911183714866638, -2.451364517211914, -3.1626367568969727, 0.8654473423957825, -0.6929921507835388, 0.5204820036888123, 1.9572640657424927, 3.939945936203003, -0.6376798748970032, -0.7863807082176208, -1.2310961484909058, -0.6529123783111572, 1.734966516494751, -0.870762825012207, 0.7606322169303894, -1.2634862661361694, -2.5179965496063232, 1.2401034832000732, -0.5667416453361511, 1.6429330110549927, 0.5261231064796448, -2.893734931945801, -0.9473668336868286, 0.48590078949928284, -4.063653945922852, -0.019891152158379555, 1.336086392402649, 0.351647287607193, 1.022209882736206, -2.098356008529663, -0.8945578932762146, -0.5534228682518005, 2.380354404449463, -0.6169049143791199, -0.08810514956712723, 1.635838270187378, -3.013944149017334, 1.705199956893921, 0.6178014278411865, -0.5911229252815247, 1.0621628761291504, -0.647477388381958, 3.96360445022583, 0.23531049489974976, 3.3978893756866455, -0.7999351620674133, 0.6997718214988708, -1.4324235916137695, -1.2840266227722168, 2.0800864696502686, -0.7308502793312073, 0.707906186580658, -1.1267591714859009, -2.1023261547088623, -3.159914016723633, -2.891606569290161, 1.8925294876098633, 1.8872358798980713, 2.083590030670166, 2.3391387462615967, -2.1794588565826416, 0.6494629383087158, -0.9606398344039917, -2.3029799461364746, 0.06514929234981537, 0.5165196061134338, -2.089247226715088, -1.5306655168533325, 1.9148998260498047, -1.3892059326171875, -0.3164251148700714, 1.5519495010375977, -1.6305038928985596, 0.4671894609928131, -1.0549880266189575, 0.13548533618450165, -2.729285717010498, -0.2744438052177429, -1.224418044090271, 0.8087467551231384, -0.20442748069763184, -1.7664542198181152, -1.2492531538009644, 1.3713043928146362, 0.04571540281176567, 1.2185722589492798, 1.0724616050720215, 0.0383395217359066, -5.050783634185791, -1.9529038667678833, -1.4168134927749634, 0.6205782294273376, -0.1462792307138443, -2.4959218502044678, 1.0251027345657349, -0.036066725850105286, -0.1152929812669754, -1.6733044385910034, -5.482658863067627, 0.2262343317270279, -1.427734613418579, -2.806304454803467, 1.0386086702346802, 0.27962467074394226, -0.5939050912857056, -1.897175908088684, 0.5638110041618347, -2.143460273742676, 1.8398914337158203, -1.0269734859466553, -0.45532235503196716, 1.9966226816177368, 0.9240257740020752, -0.034966208040714264, 1.6865655183792114, 0.5477032661437988, 1.358786940574646, -0.4157449007034302, -1.7732237577438354, 2.4981822967529297, -0.2827422618865967, 1.3087800741195679, 1.9219392538070679, 1.4394227266311646, -1.250707745552063, 0.9176852703094482, 2.3437013626098633, 1.6738864183425903, -1.2588411569595337, -2.007727861404419, 1.018144130706787, -2.7445502281188965, -0.8439305424690247, -1.619223713874817, -1.628933310508728, 3.6742990016937256, -3.7309226989746094, 0.393952339887619, 3.4422109127044678, 2.7465226650238037, -1.0959571599960327, -1.0479321479797363, -1.8585419654846191, 1.0903599262237549, 0.5174139142036438, -1.183622121810913, 1.0454787015914917, -3.5065879821777344, 0.5452393293380737, -0.14483723044395447, -0.5465787649154663, -0.2887234389781952, 0.5987718105316162, -3.4923324584960938, 1.5338711738586426, -2.823241710662842, 4.398196220397949, -3.065476179122925, 0.6222987771034241, 1.295912742614746, 0.9547932147979736, 1.190158486366272, 0.04567062482237816, -0.5304301381111145, -2.391345500946045, 0.30703893303871155, -0.22225254774093628, -2.0117785930633545, -0.6442080736160278, -1.6986229419708252, 0.6374559998512268, 1.6719608306884766, -1.6111410856246948, 1.747780203819275, 0.3522830307483673, -4.597952842712402, 6.707006931304932, -1.2882716655731201, 1.2359428405761719, 2.9165830612182617, -0.16944190859794617, -0.6784358024597168, -0.583698570728302, -0.057509638369083405, -2.4939181804656982, 0.8930949568748474, 0.6990353465080261, 1.127254605293274, -0.18387667834758759, 1.6769644021987915, 0.0645621046423912, 1.8521006107330322, 0.19027990102767944, -1.0151118040084839, 0.6140869855880737, -0.14442458748817444, -1.7357755899429321, -0.38422921299934387, 0.21711653470993042, -1.1436347961425781, 0.3419221341609955, 0.5829797387123108, 0.4954811930656433, 1.4040296077728271, 0.9524254202842712, 1.0449057817459106, 1.8777832984924316, 1.3040660619735718, 5.340168476104736, -1.1595011949539185, -2.2724814414978027, 0.9866340756416321, -2.8322479724884033, -1.4521348476409912, 1.8426952362060547, 0.018453476950526237, 2.640005588531494, 0.6373125910758972, -1.2689615488052368, 0.7107185125350952, 0.7651237845420837, -2.771245002746582, 1.1428824663162231, 2.106158494949341, -3.7356338500976562, -0.19825312495231628, -1.111537218093872, 1.3025234937667847, -2.033229112625122, 1.3853309154510498, 3.973820209503174, -1.8233450651168823, -0.4225795865058899, 0.22203011810779572, -0.6287462711334229, -0.2718770503997803, 0.05772523954510689, 2.088209390640259, 0.1517714560031891, -2.568737268447876, 4.314493656158447, -2.5517630577087402, 1.2435736656188965, -0.1760077327489853, 0.8573102355003357, -0.06166850030422211, 1.087350845336914, -0.6655964851379395, 0.12849417328834534, 0.6412022113800049, 0.8089774250984192, -0.1302081048488617, 0.6040283441543579, -4.137014389038086, -2.148526191711426, 0.24510493874549866, 0.5619399547576904, -0.2567797303199768, 0.6237009167671204, -1.8570908308029175, 2.271238327026367, 0.40737131237983704, -0.06253332644701004, 1.1665184497833252, -0.48982977867126465, 1.7591476440429688, -1.2152796983718872, -0.3698165714740753, 0.5834009647369385, -0.6284550428390503, 1.4873992204666138, 1.3352067470550537, 2.7624921798706055, 1.354081630706787, 0.8827740550041199, 1.1504677534103394, -3.0783631801605225, -3.361703872680664, 0.4336361587047577, 1.2249653339385986, -0.10105197131633759, -2.319286584854126, -1.1656007766723633, 0.8392887115478516, 0.5869046449661255, 0.7503495216369629, 5.066934585571289, 0.196885347366333, 1.2199480533599854, -1.720616102218628, 0.9510653614997864, 0.3411800265312195, 4.093536853790283, 1.7720757722854614, -0.08441595733165741, 0.31513893604278564, -1.610023021697998, 2.0955452919006348, -1.934411644935608, 0.32536402344703674, -1.1041041612625122, 0.7744012475013733, -1.5532252788543701, -1.0973374843597412, -1.5076113939285278, 0.5493228435516357, 2.1561014652252197, -1.0239163637161255, 0.7101956605911255, -0.7842519283294678, 1.3214577436447144, 0.5310025215148926, 0.0402127206325531, 2.5941927433013916, -2.468904733657837, 3.447158098220825, 1.15829598903656, -3.297415018081665, -3.0135183334350586, -2.3694217205047607, 2.709045171737671, -0.617414116859436, 3.349271774291992, 0.9099058508872986, -1.1054877042770386, -0.6841158866882324, 0.2391524761915207, -3.5492091178894043, -1.342421293258667, 0.882914125919342, 1.38876473903656, -2.3554999828338623, -0.011669550091028214, 2.8355846405029297, -2.0258710384368896, 2.1275010108947754, -1.3640996217727661, -0.18223153054714203, 2.3484818935394287, 4.065842628479004, 0.12649856507778168, 0.8775354027748108, 1.5014816522598267, 0.040579210966825485, -0.8571214079856873, 0.9763476848602295, 1.311376929283142, 0.6066886782646179, 0.004073872230947018, -0.2820136547088623, -1.337432622909546, -0.7965430617332458, -0.5531938672065735, -0.06970401108264923, 0.8841677308082581, 0.8083024621009827, -0.47678348422050476, -0.21741564571857452, -2.1313555240631104, -0.3099611699581146, -3.7469751834869385, -0.04151266813278198, -2.436288833618164, -1.6524394750595093, -2.084667444229126, 0.6556384563446045, 0.749496340751648, -0.424819678068161, 1.6292823553085327, -2.2188620567321777, -1.1131585836410522, -0.9071443676948547, -1.6759172677993774, -1.2978521585464478, 0.9834545850753784, -2.2114639282226562, 0.4159836173057556, -1.3598765134811401, -0.13293735682964325, -1.1707500219345093, 2.296741485595703, 1.4834973812103271, 0.7139943838119507, -2.803907632827759, -0.27153831720352173, -0.9408392906188965, 1.2841577529907227, 1.4863159656524658, -1.9284231662750244, -1.4898678064346313, -1.4846887588500977, 0.024503283202648163, -2.264812469482422, 1.1489081382751465, 0.9428949952125549, -1.6931568384170532, 1.8748722076416016, 0.7653061747550964, -1.7308965921401978, -0.6161638498306274, -2.371555805206299, -0.8178786039352417, 1.2020856142044067, -1.3643766641616821, -2.944711923599243, -2.376922607421875, -1.0341017246246338, -2.9079535007476807, -1.043277621269226, 2.2472314834594727, -1.3947595357894897, -1.4735612869262695, 0.13538618385791779, 2.6091086864471436, 1.7560620307922363, 1.7788575887680054, -0.8132903575897217, -2.4113078117370605, 0.982049822807312, 1.919703722000122, 0.4696260690689087, -1.1957612037658691, 0.08314137160778046, 0.2512745261192322, -0.27106085419654846, 0.6039882898330688, -1.8196063041687012, 0.6598337888717651, -1.7652091979980469, -1.0837178230285645, -0.9652731418609619, -0.9933779239654541, -0.6193507313728333, 3.0409700870513916, 1.8342599868774414, 0.11217755824327469, -0.4177791178226471, 2.3962576389312744, 6.843050479888916, 0.6975468397140503, 1.438040852546692, -1.458160400390625, 0.7691258192062378, -3.531452178955078, 1.4424041509628296, -0.5695282816886902, -0.583821713924408, -0.6333305835723877, 1.337140679359436, -2.157346248626709, 1.9734441041946411, 1.90984046459198, -0.5439488291740417, 1.166434407234192, -2.462299346923828, -0.6174989938735962, -0.48682576417922974, -2.5694470405578613, -1.2855303287506104, -1.8571728467941284, 1.9365500211715698, 1.5230571031570435, -0.6625280380249023, -0.4416889250278473, -1.2824440002441406, -0.057664062827825546, -2.564350128173828, 1.2935380935668945, 0.2519630193710327, -0.7202988266944885, -1.380763292312622, 1.7817471027374268, 1.4353188276290894, -0.20424538850784302, 0.05270793288946152, 1.7272124290466309, -1.4939961433410645, -1.432116150856018, 0.05230637267231941, -2.9121336936950684, -1.9014815092086792, -0.592755138874054, -1.7892284393310547, -1.2758678197860718, -2.900557279586792, 1.8640440702438354, -0.6564115285873413, 3.130805730819702, 0.22517509758472443, 0.6062069535255432, -0.07625337690114975, -2.402686357498169, -0.004471936728805304, -2.3819117546081543, -0.7250809669494629, 0.5600385665893555, 1.6613688468933105, 1.1719603538513184, -0.8292133212089539, 0.48766833543777466, -0.7772611379623413, 0.8311540484428406, 1.0092469453811646, 1.932568907737732, 0.4139557480812073, -1.050122618675232, -3.6194639205932617, -0.2797568738460541, -1.0058132410049438, -0.2504221498966217, 2.633845806121826, 1.328243374824524, 1.2705549001693726, 0.8272155523300171, -1.8800849914550781, -0.5740295052528381, 1.2096366882324219, -2.957904577255249, -0.48159369826316833, 0.579049825668335, 2.8631389141082764, 0.44518518447875977, 0.650647759437561, 0.6951327323913574, -0.6595576405525208, -0.9233018755912781, 1.42996084690094, 3.7406182289123535, -1.2785600423812866, 0.27207207679748535, 2.023606300354004, 1.4437533617019653, 0.49193084239959717, -1.5591588020324707, -2.5178091526031494, -2.6021289825439453, -1.735019326210022, 0.21357861161231995, 1.16044282913208, -1.8270145654678345, -0.3219923973083496, 0.8132178783416748, -0.5388732552528381, 0.4467731714248657, 0.25140756368637085, 1.4351770877838135, -1.8435496091842651, -1.299519419670105, 0.6699920892715454, -0.15576836466789246, -3.3127620220184326, 3.144953966140747, -1.491811990737915, 3.380072593688965, 0.6866265535354614, -3.445488929748535, -0.22720882296562195, 1.7317930459976196, -1.2142595052719116, 1.2213423252105713, 0.5079372525215149, 3.369622230529785, 1.8168296813964844, -0.3169116675853729, 1.917932391166687, -1.6787281036376953, -1.1228100061416626, -0.5458462238311768, 1.512840986251831, 0.8454354405403137, -1.0612082481384277, -1.1443952322006226, 0.7107877731323242, -2.2370834350585938, -0.7842978239059448, 1.2577059268951416, -0.4806479513645172, -2.7207319736480713, -2.236682176589966, 0.7991739511489868, -0.07881734520196915, -2.137972593307495, 1.4394150972366333, 1.1643728017807007, 1.012100100517273, 5.034038543701172, -1.8905494213104248, 1.2057793140411377, -0.055659450590610504, 2.451491355895996, -1.5470205545425415, -0.9422428607940674, 0.5294943451881409, 1.165079116821289, 0.2784322202205658, 0.9537272453308105, 1.4755910634994507, 0.3740926682949066, 2.7328755855560303, 0.5694549679756165, 1.269972801208496, 0.9893101453781128, -0.04476110264658928, 1.297940969467163, -1.4213753938674927, 0.8437517285346985, -0.5703996419906616, 0.9043038487434387, 0.5152656435966492, 0.21992376446723938, 0.6650906205177307, -4.550345420837402, 1.649336338043213, 2.4926109313964844, 0.07204752415418625, 1.2995892763137817, -1.9237723350524902, 2.0122175216674805, 1.2057039737701416, -0.024120112881064415, -0.8499043583869934, -4.602591037750244, -2.293109178543091, 0.06317318230867386, 0.8735118508338928, -0.9386758804321289, 0.3800223469734192, 2.1299057006835938, 2.432040214538574, -0.1523427963256836, -0.35574981570243835, 2.791161060333252, 0.08535458892583847, 2.2788236141204834, 1.6875503063201904, 0.42288801074028015, -0.4162504971027374, 2.8097798824310303, 1.1906464099884033, 0.5321420431137085, 1.0757334232330322, -1.0912325382232666, -0.09123649448156357, 3.1496641635894775, 0.24723513424396515, -0.18255174160003662, 0.4862337112426758, -0.5144875049591064, 1.8473079204559326, -0.9737548828125, -2.2708961963653564, -0.38790223002433777, 2.4119279384613037, 1.4917315244674683, 0.240422785282135, 0.04803413152694702, -1.3701226711273193, -1.14116370677948, 0.24005413055419922, -0.6807785034179688, -3.592629909515381, -2.7050392627716064, -0.45911484956741333, 2.1243560314178467, 1.3854575157165527, 0.8058485388755798, -1.1345534324645996, -3.5501091480255127, 0.2138480842113495, -1.8631019592285156, -1.312066912651062, -2.4913642406463623, 1.3612828254699707, 1.7514790296554565, 0.7447147965431213, -0.9909279346466064, -2.7029850482940674, 2.6218056678771973, 3.168130874633789, 0.3094775080680847, -0.18015554547309875, 0.6586173176765442, -1.7222697734832764, -2.0310375690460205, -0.38172221183776855, 2.872938632965088, 0.038929179310798645, -1.146431803703308, -1.121606707572937, -0.8284689784049988, 0.4671074151992798, -0.8713472485542297, 0.5870383381843567, -0.6978558897972107, -1.63334059715271, -1.074791431427002, -1.7992087602615356, 0.9543278217315674, 1.9718600511550903, -1.0510199069976807, -3.0742123126983643, -0.612643301486969, 0.23868048191070557, -1.1617873907089233, 0.6922734975814819, 0.6219804883003235, 1.4379810094833374, 0.8897950649261475, -0.8357851505279541, 2.1772594451904297, -0.5720648169517517, 0.8632387518882751, 1.580628752708435, -3.1245193481445312, -0.23291322588920593, -0.6257153153419495, 0.15409459173679352, -1.6185555458068848, -0.24027737975120544, 0.8815564513206482, -1.3694508075714111, -1.000680923461914, -2.630126953125, 1.0850709676742554, 0.8360904455184937, -0.5229543447494507, 1.9979603290557861, -0.9349159598350525, 0.9706225991249084, -0.9374535083770752, -0.5416784286499023, 0.8289413452148438, 0.5153886675834656, -0.5651416182518005, 0.13289587199687958, -0.004160947632044554, 2.9190077781677246, 0.5220925807952881, 1.0463882684707642, -0.7101292014122009, 2.6542272567749023, -1.167130708694458, 0.7178432941436768, -1.8771631717681885, -0.7901493310928345, -2.28041672706604, 0.021607711911201477, -2.728516101837158, 1.2413501739501953, -0.818837583065033, -2.6949708461761475, -1.062735676765442, -2.114915370941162, -1.2631359100341797, -0.7236197590827942, -0.5242761373519897, -1.6222108602523804, 1.5564172267913818, -0.9602093696594238, -0.38838785886764526, -0.8752036094665527, 1.2030882835388184, 0.14645087718963623, 0.32809990644454956, 1.6869430541992188, -2.821608304977417, 1.106035590171814, -2.5448498725891113, -3.0372314453125, 1.3185575008392334, 0.7035810351371765, -3.1516318321228027, 0.28628626465797424, 0.16620703041553497, -0.013592415489256382, -3.432468891143799, -0.29800111055374146, -2.3929359912872314, -1.1884196996688843, 0.16217300295829773, 4.574718475341797, -2.3895423412323, 1.976828932762146, 0.7572412490844727, -1.1599037647247314, 0.09034808725118637, 0.6047706604003906, 1.1203080415725708, 0.3382176458835602, -1.3813316822052002, -0.48146411776542664, -0.024706508964300156, 1.4719524383544922, -0.08394371718168259, -0.7281768321990967, 0.7728930711746216, 1.774875283241272, 1.3568158149719238, 1.157108187675476, -0.8590579032897949, -2.7971959114074707, 1.4770389795303345, 0.7346140146255493, 0.9474781155586243, -2.755307197570801, 0.6926414370536804, 0.513573944568634, 1.4929604530334473, 0.8830083012580872, -1.2660735845565796, 1.1773653030395508, 2.173211097717285, 1.6412451267242432, 1.7937356233596802, 0.1733122318983078, -0.3111737370491028, 1.2810996770858765, 0.4278847575187683, -0.3392031788825989, -2.464215040206909, 1.872638463973999, -1.4069994688034058, -0.3003735840320587, 3.5661368370056152, -1.3647449016571045, -2.8201043605804443, -2.0414936542510986, -2.079921007156372, -1.4794487953186035, 0.7031468152999878, 1.2511643171310425, 3.3841309547424316, 2.700640916824341, 0.6053716540336609, -0.4736160635948181, 1.7608472108840942, 0.5566965341567993, 0.6559575200080872, -2.3688557147979736, -1.636894702911377, 0.18911822140216827, 1.5241695642471313, 1.1742112636566162, -2.227447271347046, 1.4683542251586914, -0.5792164206504822, 0.9233074188232422, 3.0031182765960693, -0.16762806475162506, 3.649494171142578, 0.5119307637214661, -3.0692789554595947, -0.03720075264573097, -0.12928393483161926, 0.46556857228279114, -3.300323724746704, 3.203582286834717, -2.689958095550537, 3.2421979904174805, 2.895772695541382, 0.874677836894989, -1.9471848011016846, 3.612971544265747, -1.201278567314148, 1.4361481666564941, 0.892402708530426, 1.3997293710708618, -0.3586823046207428, 0.14561672508716583, 0.5171431303024292, 1.2821437120437622, -0.5965026021003723, 2.640711545944214, 0.6997579336166382, -0.4808640480041504, 1.4248124361038208, 2.303236484527588, 0.7007215023040771, 1.5963325500488281, 0.021129503846168518, -0.43642011284828186, 0.4202815592288971, -0.25322800874710083, -2.0249969959259033, -0.8543375134468079, -0.2551635205745697, -0.6737734079360962, 0.7674976587295532, 0.7381064295768738, -0.044510368257761, 0.4160289168357849, -1.953291654586792, -0.9337136149406433, 1.2428499460220337, -0.09742371737957001, -0.5203627943992615, 2.2686386108398438, 0.7052238583564758, 0.07576261460781097, -0.8823487758636475, 0.6223804950714111, -1.6510093212127686, -0.36873674392700195, 1.122866153717041, 0.8445878028869629, 1.4318602085113525, -2.560230255126953, 1.1715648174285889, -0.830152153968811, -0.9539937376976013, 0.9922824501991272, 4.562398433685303, 2.602219820022583, -1.125913381576538, -0.9679507613182068, 3.534674644470215, 1.3870261907577515, -1.8622647523880005, -0.020834797993302345, 1.4637954235076904, -0.7086837887763977, -0.33251067996025085, -0.48885491490364075, 0.6256060600280762, 0.8143682479858398, 0.5235814452171326, 2.21404767036438, 2.959085464477539, -3.414029359817505, 5.573747158050537, -2.09281849861145, -2.623053789138794, -0.5517236590385437, -0.3238719701766968, 2.4140851497650146, 1.3982048034667969, 1.6902164220809937, 1.5584410429000854, 0.8237481713294983, 2.3610196113586426, -0.27061331272125244, 0.2353229820728302, 4.07684850692749, -0.6496933102607727, 0.23753942549228668, -0.33813610672950745, 0.8877811431884766, 1.5201534032821655, -0.37573927640914917, -2.174981117248535, 1.6397778987884521, 1.1348460912704468, 3.2222256660461426, -0.22584713995456696, -0.9058417081832886, -0.9671027660369873, 1.544493556022644, -2.647278070449829, -0.6676507592201233, 0.13625338673591614, -2.3901684284210205, 1.841636061668396, 2.047030448913574, 2.1132025718688965, 2.092940092086792, 2.5497491359710693, -2.1018311977386475, -0.7387690544128418, 1.2929470539093018, -2.2786600589752197, -3.6370155811309814, -1.0197230577468872, 2.9924991130828857, -0.43696847558021545, -1.3833696842193604, 1.0467506647109985, -0.48480087518692017, -1.4871251583099365, -1.5297044515609741, -3.0945916175842285, -0.715911328792572, -0.3153451979160309, -0.6831644773483276, 0.1467185914516449, 0.10490855574607849, -0.6650250554084778, 3.1408145427703857, -0.29532620310783386, 1.0168744325637817, -0.7663795948028564, -1.8990739583969116, -0.1259027123451233, 2.269862174987793, 1.0245730876922607, -2.960456371307373, 1.0952997207641602, -0.2051544487476349, 0.9571500420570374, 2.5623741149902344, -0.06383921205997467, -0.2739645838737488, 0.5487976670265198, -0.2845609486103058, -1.7028075456619263, 1.7963361740112305, 0.44178760051727295, -0.274870365858078, 3.7027382850646973, 1.1014091968536377, -0.93687903881073, 1.1930897235870361, 7.1968536376953125, -1.6439131498336792, 0.4767571687698364, -1.772039771080017, -3.6671700477600098, -0.8381283283233643, 2.013002395629883, -0.3317646384239197, -1.3702149391174316, 1.8156712055206299, -1.0388988256454468, 1.978107213973999, -0.7793276309967041, -1.1592446565628052, 2.7722814083099365, -0.5791980624198914, 1.2417055368423462, 0.4727565348148346, -0.4089336097240448, -1.324636459350586, 1.3036085367202759, -1.88966703414917, 2.9238216876983643, -2.794877529144287, -2.347054958343506, -1.837702751159668, -0.08634442090988159, 0.44076573848724365, -1.1929906606674194, -3.3099899291992188, 2.0499560832977295, -1.2632148265838623, 0.09523997455835342, -2.9385132789611816, 1.0683541297912598, 0.9684377908706665, -0.583184003829956, 0.413425475358963, 1.6142799854278564, 0.22772231698036194, 0.32641491293907166, -3.445888042449951, 3.3658652305603027, 1.093865990638733, -0.01399088092148304, -2.570361614227295, -0.455171138048172, -3.6534292697906494, -0.24415990710258484, -0.9631584882736206, -0.28779831528663635, -3.237588882446289, -1.0768407583236694, -2.6755764484405518, 1.1225841045379639, 8.22393798828125, 0.9781143069267273, 2.129450559616089, -0.7180017232894897, 0.36701712012290955, 0.7865483164787292, -0.2832096815109253, 3.584677219390869, -2.2990190982818604, -0.19618640840053558, 2.0761799812316895, -0.4890824854373932, 2.214552164077759, 1.3457649946212769, -1.7913658618927002, 2.508969306945801, 2.472515821456909, 1.9464586973190308, 1.069387435913086, 1.221763253211975, 3.520498514175415, -0.11473754793405533, -2.006396770477295, 0.6223543882369995, 0.4885276257991791, -0.2199166715145111, -0.21544912457466125, 0.4874562919139862, 2.531827211380005, 1.830732822418213, -1.2546412944793701, 1.1585789918899536, -1.6770774126052856, 0.37509769201278687, 1.2589892148971558, -0.38418081402778625, 1.555640697479248, -0.8654780983924866, -1.3011378049850464, 1.5186964273452759, -1.4724106788635254, -2.0832128524780273, 0.8867135047912598, 0.4254762530326843, -0.005922394804656506, 2.054048776626587, 1.084688425064087, -2.3780367374420166, 1.79433012008667, 2.1251254081726074, 3.230620861053467, 0.054658688604831696, -1.525528907775879, 0.11582404375076294, 0.42215627431869507, -2.57515811920166, -0.22109492123126984, 1.1427916288375854, 1.3919622898101807, -0.9505603313446045, 0.6055096387863159, 3.151845693588257, 0.2283182144165039, 2.661168098449707, -0.9819923043251038, -0.735640823841095, 1.07927668094635, -0.5682598352432251, -0.7728617191314697, -2.7853500843048096, -1.2353793382644653, -1.4887728691101074, -2.1566340923309326, -0.13690054416656494, -2.7292442321777344, 1.4855611324310303, 0.8295567035675049, -0.03734034672379494, -0.8488264083862305, -0.3128550946712494, 1.3357869386672974, 1.4250407218933105, -3.3019981384277344, 1.3924390077590942, -0.9838301539421082, 1.8134679794311523, 0.01740136370062828, -0.26617902517318726, 0.5939362645149231, 2.134868621826172, 0.34654638171195984, -0.34231770038604736, -0.2833555042743683, -1.0405274629592896, -0.26300248503685, -1.1192123889923096, -0.3576832115650177, -0.0065303691662848, -0.9793496131896973, -2.115947961807251, -1.6039602756500244, 0.9203896522521973, 3.3939547538757324, -0.02255367673933506, -0.34780433773994446, -3.4664816856384277, 0.31141623854637146, 1.5421608686447144, 1.9673539400100708, 0.6938464641571045, -0.5972083806991577, 1.5919386148452759, -0.9230471849441528, -0.07110147923231125, 1.1336314678192139, -0.31637221574783325, 3.2564103603363037, 1.3237847089767456, 1.902441143989563, -2.1164729595184326, -0.4010341763496399, 1.8037309646606445, -0.7319015860557556, -1.7259538173675537, -0.6938799619674683, -1.8872121572494507, -0.5982347726821899, -2.750783681869507, -0.05028324946761131, -4.0024614334106445, -0.954159140586853, -1.9874340295791626, 1.96297025680542, -0.8987925052642822, 1.1297607421875, -2.377826690673828, 3.4078879356384277, -1.5977027416229248, -1.2575589418411255, 1.8352175951004028, -1.6116158962249756, -1.8143030405044556, 1.4892476797103882, 2.251746892929077, 1.7760777473449707, -2.1791584491729736, 0.9283125400543213, -1.59761643409729, -0.23836669325828552, 1.8407187461853027, 0.9828707575798035, -0.749979555606842, 0.45954251289367676, -0.950340986251831, 2.0315864086151123, 2.4723832607269287, -1.001208782196045, 0.6323460340499878, 7.469585418701172, -0.2236400544643402, 1.2705284357070923, 0.501758337020874, -1.174004316329956, 0.5134539604187012, -1.5509573221206665, 0.730920672416687, -1.3013670444488525, 1.382641077041626, -0.8812425136566162, 0.23794984817504883, -2.1170899868011475, -2.8327507972717285, 3.280599355697632, 2.765648365020752, -0.36771631240844727, 0.8679690361022949, -0.5982140898704529, -0.4934487044811249, 1.4726043939590454, -2.305846929550171, -0.05749359726905823, 0.14065492153167725, 0.4132363796234131, -1.6989578008651733, 0.11903215199708939, -0.22882968187332153, 1.7929092645645142, -0.4727310538291931, 0.8432539701461792, -2.343414068222046, -0.11805213987827301, -1.052980661392212, -0.7240873575210571, -0.6738860607147217, 1.5591514110565186, 2.7089760303497314, -2.378033399581909, 0.9679944515228271, -1.1760209798812866, 1.5447261333465576, -2.112788438796997, -0.11427004635334015, -0.22583641111850739, -1.9303486347198486, 2.834901809692383, 0.14844200015068054, 0.19293177127838135, -1.6500375270843506, -1.0600273609161377, 1.0949021577835083, -1.0513124465942383, 2.1768267154693604, -1.7169678211212158, 1.0133534669876099, 0.8769971132278442, -2.7893433570861816, 0.034587472677230835, -1.6269645690917969, -1.7280317544937134, -1.5705629587173462, -0.9675499200820923, -0.13202783465385437, -1.2481998205184937, -3.544579267501831, -1.8882908821105957, -1.1836576461791992, -2.1039533615112305, -0.5035275816917419, -0.3347820043563843, 0.2937909662723541, 1.7086843252182007, 0.9713152050971985, -2.5992870330810547, -2.683344602584839, 0.0015591745031997561, -2.1294097900390625, -1.5351313352584839, 0.4679560363292694, -3.008725643157959, 2.7816245555877686, 5.141417503356934, -2.541860818862915, -0.7890762686729431, -2.523772954940796, -0.7061119675636292, 2.655860662460327, 0.0805090144276619, 3.944765090942383, -2.5582942962646484, -1.0097923278808594, -0.9045590162277222, 0.22031690180301666, 2.6377434730529785, 0.9542348384857178, -0.8846626281738281, 0.4323827028274536, 0.20861466228961945, 1.0242526531219482, 1.4267178773880005, -0.14292043447494507, -1.593963623046875, -2.0191311836242676, -0.0624045729637146, 0.6820086240768433, 0.06615296751260757, -1.1079180240631104, -12.422290802001953, 2.155418872833252, -0.7059850096702576, -0.9664693474769592, 0.26305148005485535, 0.5391083359718323, -1.1502282619476318, 1.0854766368865967, -1.328136682510376, -0.49339866638183594, 2.4529223442077637, -0.49471306800842285, -1.1541281938552856, -1.125112771987915, 3.2091219425201416, 0.278715580701828, 0.34350961446762085, -1.6814182996749878, 0.15493986010551453, -0.01068120263516903, 1.1225405931472778, 0.23939520120620728, -1.9234066009521484, 0.937239944934845, -0.8887616395950317, -3.6028244495391846, 2.4035844802856445, 1.0121272802352905, -2.2409908771514893, -2.815375328063965, -3.4425158500671387, 1.0662239789962769, 2.541447877883911, -0.41640132665634155, -2.4755353927612305, -0.9225325584411621, -0.8875294923782349, -0.4947148561477661, -1.018452763557434, -1.1888689994812012, 0.106020987033844, -3.884038209915161, 2.811713933944702, 1.149206280708313, -0.686073899269104, 0.8801358938217163, 0.4361351430416107, -0.21499188244342804, -1.55510413646698, -3.268644094467163, -0.7886019945144653, -0.4629751145839691, 0.6480602025985718, -2.0919013023376465, 1.8278088569641113, -2.344590663909912, -3.6352221965789795, -3.0943217277526855, -3.092900276184082, 2.6579604148864746, -0.3338821828365326, 0.8486289381980896, -0.15389283001422882, -2.871915817260742, -0.6020798683166504, 0.32653671503067017, -1.8350613117218018, 0.4998159110546112, 1.4822285175323486, 2.0921812057495117, 0.17233699560165405, 1.1501765251159668, -0.013035353273153305, 1.0894087553024292, 2.3954083919525146, 1.7646504640579224, 3.144562244415283, 0.932134211063385, -0.32926538586616516, -0.69588702917099, -1.4825732707977295, 1.6603424549102783, -0.6280756592750549, 0.5240492224693298, 1.494213342666626, -2.6778900623321533, 0.9575631022453308, -0.20061837136745453, -0.240846186876297, 1.4809318780899048, -1.5444259643554688, 2.1438586711883545, 0.5165995359420776, 0.8184058666229248, -0.7340198755264282, 0.8169257044792175, 1.1019304990768433, -0.8124030828475952, -0.08383966237306595, -1.5974420309066772, -0.8003379702568054, -0.13913705945014954, 2.6408283710479736, 1.9733699560165405, -0.8736177682876587, 1.02293860912323, -0.8011075854301453, 2.7912726402282715, -1.2589432001113892, 2.953723430633545, 0.8124765157699585, 1.8341048955917358, -1.4580070972442627, 1.565039038658142, -1.4747717380523682, -0.3798709213733673, 0.5331156849861145, -1.2503060102462769, -1.9192962646484375, 2.458322525024414, 2.8782925605773926, -0.022321507334709167, 1.2333297729492188, -1.7936798334121704, -0.06307049840688705, 0.590458333492279, -1.197049856185913, 1.6745272874832153, -0.27495235204696655, 1.8279926776885986, -1.2699116468429565, 2.787517547607422, -1.0921608209609985, -1.0058574676513672, 4.044219017028809, -0.6436992287635803, -0.7197663187980652, 0.9793955683708191, 1.3660277128219604, -0.9730769395828247, -0.5698550343513489, 1.6539061069488525, 3.4763007164001465, 0.2489916831254959, 2.987720251083374, -1.045307993888855, 0.025463681668043137, 3.4420273303985596, -0.18460708856582642, 2.141181468963623, 1.154855489730835, -1.8470302820205688, -0.22764655947685242, 2.5544943809509277, -0.13814646005630493, 0.1245361864566803, -1.8378442525863647, 0.5585179328918457, -4.03073263168335, 1.731679081916809, 1.7496293783187866, 1.6551169157028198, 0.4648587703704834, -3.0571839809417725, 0.14309628307819366, -0.24296574294567108, -0.12986193597316742, 1.3165364265441895, 0.23599223792552948, -1.4840831756591797, 0.09096620231866837, 0.569320023059845, 0.4832468032836914, 0.6720545291900635, -0.9416021704673767, -2.0496599674224854, -1.4135886430740356, 0.8779743313789368, 0.4160718619823456, 0.2648501694202423, -1.54377019405365, 0.2451644241809845, 0.5313974022865295, 2.216001272201538, -3.511768341064453, 0.5009444355964661, 0.31968429684638977, -0.35023367404937744, 0.40596187114715576, -1.8576875925064087, 1.813984751701355, -1.684798002243042, 2.1868913173675537, 1.15580153465271, -1.5908139944076538, 1.305619239807129, -0.5748246908187866, 1.3611211776733398, 1.8628262281417847, -0.476548433303833, -0.38015758991241455, -0.10096850246191025, -0.8782558441162109, 0.8062944412231445, -0.08564163744449615, 0.16240030527114868, 3.5709617137908936, -4.689009666442871, 0.8728824853897095, 0.8390201330184937, -0.9873210787773132, 1.4863561391830444, 5.407926559448242, -0.60051429271698, 0.13543513417243958, -2.053906202316284, -0.12001948058605194, 0.868251621723175, 0.2769574522972107, 0.40612566471099854, 1.5769604444503784, -1.6271575689315796, -4.551326751708984, 1.0770151615142822, 0.3253510594367981, -1.1549935340881348, 2.7811551094055176, -0.3262045383453369, -0.4247240126132965, 0.4257897734642029, 0.008123837411403656, -0.4335814416408539, 1.595557689666748, 0.44484615325927734, -1.8181740045547485, 1.8502074480056763, 0.18521054089069366, -1.9093611240386963, 1.2922823429107666, 1.4297454357147217, 0.40278616547584534, 0.5543152093887329, 0.16381976008415222, -1.0988880395889282, 2.638030767440796, 2.9052181243896484, -5.641556262969971, 1.2711163759231567, 0.2567003667354584, -1.2661387920379639, 3.1568524837493896, -0.06652943789958954, 0.7912524342536926, 1.808241605758667, -1.0841000080108643, -1.1079686880111694, -0.8554099798202515, -2.3622629642486572, -1.2291722297668457, -2.685429811477661, -0.640023946762085, 0.43808791041374207, -2.1551902294158936, 1.1957141160964966, -1.8256951570510864, 2.1410629749298096, 2.378952980041504, -1.967429280281067, 1.3782073259353638, 1.3799738883972168, 2.8158745765686035, -0.9219887256622314, 1.9847718477249146, -1.0265183448791504, 1.1532846689224243, 0.6439530253410339, 1.2618200778961182, -0.34334591031074524, 1.6002817153930664, -1.851839303970337, 1.4852150678634644, -1.583146095275879, -1.0049716234207153, -1.315107822418213, -2.3314716815948486, 1.0989551544189453, -0.8459300398826599, -3.221374988555908, 0.1843583881855011, -0.2599799633026123, -0.23179185390472412, -2.4301090240478516, 1.1346594095230103, -1.4609808921813965, 0.09003108739852905, 2.8146255016326904, 2.782651424407959, 2.8483998775482178, 0.953799843788147, 0.39160823822021484, -1.0741686820983887, 0.6915907263755798, 2.1717684268951416, -0.5794981122016907, -4.0716142654418945, -0.7019448280334473, 0.678547203540802, 1.9350746870040894, 1.7311627864837646, 0.7349591851234436, -2.133878231048584, 0.536471426486969, 1.5056837797164917, -1.2340655326843262, 1.1853147745132446, 0.4385553002357483, 0.3836841583251953, 0.028196869418025017, -0.5630452632904053, -4.574771404266357, -1.7474197149276733, -10.224164009094238, -3.1433444023132324, 2.6850340366363525, -0.5128899812698364, -2.6865925788879395, -1.4901870489120483, 1.2500340938568115, 4.0036301612854, 2.725800037384033, -0.8640867471694946, -0.2668914198875427, 0.36579248309135437, 3.419710397720337, 0.40724509954452515, 1.5343806743621826, -2.3630754947662354, 0.40701740980148315, -0.7926682829856873, -2.158057928085327, -5.51056432723999, -0.9936568737030029, 0.30235156416893005, -2.134402275085449, -4.0947747230529785, -1.265682578086853, -0.03805242478847504, -0.3500973582267761, -2.299207925796509, -1.7646243572235107, 0.30561551451683044, 3.466639518737793, 0.16576965153217316, 0.24257595837116241, 0.26368996500968933, 0.6249380707740784, 0.9675891399383545, 1.778139352798462, -3.784346342086792, 0.5540304183959961, -1.5970958471298218, -5.29873514175415, 2.247058391571045, -0.47882938385009766, -0.6447020769119263, 0.6406194567680359, 0.6566486358642578, -1.4685189723968506, -0.3320236802101135, 2.402005672454834, 0.36577674746513367, -0.18236668407917023, 1.0809296369552612, -1.220791220664978, -2.015507936477661, 0.36205703020095825, -1.4974126815795898, 1.0936338901519775, -0.9190719127655029, 3.858670473098755, -0.5136165022850037, 1.0445027351379395, 0.13141997158527374, -1.4897608757019043, 0.42463433742523193, 0.9281100034713745, 1.5457955598831177, 0.9722958207130432, 2.2835140228271484, -1.5099704265594482, -1.099945306777954, -1.2061291933059692, 1.3025600910186768, 2.089881658554077, 1.269037127494812, 0.23472268879413605, -0.6155188679695129, -4.212212085723877, -0.25542327761650085, 1.837958812713623, -3.6883466243743896, -0.9829325079917908, 0.162619486451149, -9.10007381439209, -3.1193625926971436, -0.23424577713012695, -1.2500239610671997, 1.663405179977417, 1.6960424184799194, 0.632485032081604, 1.1808412075042725, 0.7419164180755615, 0.7413291931152344, 0.4713697135448456, -2.779958486557007, 2.0234122276306152, 3.3439905643463135, -2.5059773921966553, 1.2892900705337524, -0.039111293852329254, -1.5839860439300537, 1.2882392406463623, 0.5972695350646973, 2.10939359664917, 0.5432552099227905, 1.7841466665267944, -1.3439915180206299, -0.9464271664619446, 0.6599871516227722, -0.8406146764755249, -1.1299960613250732, -2.4767003059387207, 0.7173799276351929, -1.5651373863220215, -1.9761124849319458, 0.5159270167350769, -0.16906394064426422, 2.263775587081909, 2.2714176177978516, -0.5573804378509521, -2.925424098968506, -0.8124635815620422, 0.2946847081184387, 0.32399511337280273, 0.24839052557945251, 3.3288698196411133, -1.0883344411849976, 0.49858027696609497, 0.32052817940711975, 1.6257052421569824, -0.3068309724330902, 0.6430907249450684, -2.9103496074676514, -0.452876478433609, 0.3296872675418854, -1.2529990673065186, -2.8754847049713135, -0.5667614340782166, 0.858026385307312, -1.2084249258041382, -0.540434718132019, -0.5227324962615967, 1.255789041519165, -0.06798867881298065, -1.4904106855392456, 2.2341701984405518, 0.888179361820221, 1.0719826221466064, 1.566494107246399, 1.2346466779708862, -1.2891820669174194, -2.6510322093963623, 0.4162498116493225, -3.154006004333496, 1.6111323833465576, -0.35098105669021606, 0.07400253415107727, -1.166875958442688, -2.442274808883667, 3.0026192665100098, -1.218069314956665, -2.872117519378662, 0.362589955329895, -0.9031180143356323, -1.5560895204544067, -0.5874553322792053, -1.4426687955856323, 1.8367011547088623, -2.1178207397460938, -0.2892531156539917, 0.5004506707191467, -2.5608808994293213, 1.5612322092056274, 0.9514502882957458, 1.2546311616897583, -2.884326934814453, -1.3568699359893799, 0.16250479221343994, -2.0339794158935547, 1.984605073928833, 0.929071843624115, 0.674957811832428, -1.7813146114349365, -6.555578231811523, -0.010363797657191753, 1.4858157634735107, -1.6890723705291748, 2.7086524963378906, -0.11712437123060226, 1.6186916828155518, 1.0204873085021973, -1.4744081497192383, -0.6317052245140076, -1.1391857862472534, -0.9733245968818665, 1.072066307067871, 0.7768850326538086, 0.33401182293891907, 0.5494594573974609, -0.8150134682655334, 0.7227078080177307, 1.3018085956573486, 4.196302890777588, 0.6707378029823303, 1.1051315069198608, -1.9854170083999634, -1.20881187915802, -2.281006097793579, -7.242931365966797, 2.2172505855560303, 2.4060611724853516, -1.2843748331069946, 4.264708518981934, 2.127234697341919, 6.206340789794922, -0.6046963334083557, 1.289554476737976, 1.2435810565948486, -0.3286566734313965, 0.299476683139801, -0.36305487155914307, -0.7578485608100891, 1.6836210489273071, 3.3873846530914307, -2.788576364517212, -1.5851582288742065, 0.553138792514801, 1.0777252912521362, -1.5257494449615479, 0.20060187578201294, 1.4634082317352295, -0.03803294152021408, -1.543237328529358, -1.252421259880066, -0.15056799352169037, 1.435347318649292, 4.396763324737549, -0.41356080770492554, -1.7016338109970093, 1.9446836709976196, -0.15097332000732422, 3.8133111000061035, 1.4154834747314453, -1.2753052711486816, -2.0484986305236816, -2.0885961055755615, -0.516244113445282, -1.7251299619674683, 0.7407521605491638, 1.1630597114562988, 0.9910953640937805, 1.0810787677764893, 1.1653928756713867, 0.9605072736740112, 1.6359535455703735, -0.3236967921257019, 2.286853551864624, -1.70457923412323, 0.331043004989624, 0.7033781409263611, -1.7755842208862305, -2.5857157707214355, -0.6575259566307068, -0.24142582714557648, 1.187485694885254, -2.137639045715332, -0.0333298034965992, 1.5778679847717285, 2.411783218383789, 0.2245408594608307, 2.858030080795288, -1.8282238245010376, 1.0376890897750854, -0.5564084053039551, 1.6417896747589111, -3.0198447704315186, 1.604729175567627, -0.36585375666618347, -2.907888650894165, 0.6786146759986877, -11.578968048095703, 1.3981610536575317, 0.04984220117330551, -0.16056972742080688, 3.4262516498565674, 0.28782498836517334, -1.31960928440094, 3.247274398803711, -1.8364578485488892, 2.322767496109009, 1.4649598598480225, 0.5912694334983826, -1.0568220615386963, -2.300846576690674, -0.06470683217048645, 1.0625834465026855, 1.0981247425079346, 0.5312302708625793, 0.08337339758872986, 0.4996824264526367, -1.231994390487671, -1.7634010314941406, -0.41906073689460754, 0.23800095915794373, 0.08193784952163696, -2.254901170730591, 2.7796833515167236, -2.2906389236450195, 2.69083309173584, 0.5377976894378662, -2.0980417728424072, -0.3963872790336609, -0.7749955058097839, -0.4864252805709839, -0.7954467535018921, -0.1514762043952942, -0.40019485354423523, 0.6833352446556091, -1.6533746719360352, 1.3442195653915405, 2.920692205429077, -2.612698554992676, -0.6990773677825928, 5.487251281738281, 0.3640064597129822, 1.208126425743103, -1.7914701700210571, -1.317973017692566, 2.1311302185058594, 1.9325428009033203, 0.3685896694660187, -0.1708853840827942, 0.2040126919746399, 2.6085870265960693, -0.9107453227043152, -0.32216277718544006, 0.15015436708927155, 2.0062170028686523, 1.4473854303359985, 1.6993918418884277, -1.5543338060379028, 1.287636399269104, 1.050578236579895, 0.1670406609773636, 0.37423551082611084, 1.9387913942337036, -0.29661494493484497, -1.8883302211761475, -0.2557127773761749, 0.12364785373210907, 0.2772711217403412, -1.5915117263793945, -0.8393304347991943, -2.7747642993927, 2.0284950733184814, 3.1572649478912354, -0.7290558815002441, -0.3932850956916809, -0.6310684084892273, -2.735569477081299, 1.8285208940505981, 0.09433348476886749, -0.8182002305984497, 1.3435012102127075, -2.7968263626098633, 0.4467300474643707, 1.0768208503723145, -0.9297566413879395, 0.33833983540534973, 0.6234601140022278, -0.5281710624694824, 0.8598668575286865, 1.4405287504196167, -3.139523983001709, -0.2284034639596939, -0.5241786241531372, 0.7255306243896484, 0.8124649524688721, 0.8051047921180725, -0.06459158658981323, 1.5573914051055908, -3.8377416133880615, -4.0935959815979, 1.241589903831482, -0.7169604301452637, -2.0448460578918457, -1.2698155641555786, -0.7173275947570801, -0.7313295602798462, 1.9524472951889038, -2.653648614883423, -0.4419618248939514, -1.1833456754684448, -1.385851263999939, 1.732249140739441, 1.2022455930709839, -0.11341777443885803, 1.9258346557617188, 1.8615292310714722, -1.1579464673995972, -1.4657557010650635, 2.4457483291625977, -0.18223167955875397, 0.7844675779342651, -1.1276881694793701, 1.2612154483795166, -0.557106077671051, -0.11395025998353958, -0.8164141774177551, 0.3028627038002014, -0.7064140439033508, -1.2878382205963135, 0.5149084329605103, 0.5447577238082886, -0.8954911231994629, -2.572052478790283, -2.572533369064331, -0.8943962454795837, -0.16496899724006653, -5.284457206726074, -2.0831475257873535, 1.8767688274383545, 1.4346867799758911, -3.438598394393921, -4.774138927459717, -0.127586230635643, 1.5756969451904297, 2.2759785652160645, -1.6026263236999512, 1.7800028324127197, -0.3922419250011444, 0.9283553957939148, -0.8148508667945862, 2.2483808994293213, -1.8051278591156006, 0.9507412910461426, -1.3682563304901123, -1.4484148025512695, 2.1228909492492676, 1.2876794338226318, 0.20103026926517487, -0.5837731957435608, 0.18541686236858368, -2.732154369354248, -0.0943632647395134, 2.335341453552246, -1.2355602979660034, -1.092015266418457, 1.9862756729125977, -1.5911524295806885, 2.4330005645751953, 1.3680826425552368, 1.6845566034317017, 0.43536150455474854, -0.44135892391204834, 0.020946919918060303, -3.401555299758911, -1.5923149585723877, -0.9318515062332153, 2.395097255706787, 0.8561965227127075, 0.7167688012123108, -0.5571843385696411, -2.6618425846099854, 0.04472550004720688, -1.8197664022445679, -1.0876431465148926, 2.495603084564209, 0.41835537552833557, 0.15785065293312073, -0.4088227450847626, 0.16701863706111908, 3.507432222366333, 0.41170695424079895, 0.7577511072158813, 1.5432937145233154, 1.8801189661026, 0.7210255265235901, 0.7142459154129028, -0.18961134552955627, -0.020026596263051033, 0.7046344876289368, 0.837289035320282, 0.0315367691218853, 0.20796576142311096, -1.6325668096542358, 1.627705693244934, -0.4596767723560333, -1.2160165309906006, -0.5384190082550049, -1.8256595134735107, -0.9073596596717834, -1.256476879119873, -1.5292952060699463, -2.83085298538208, -2.480512857437134, -1.8889061212539673, 1.8055344820022583, -3.897757053375244, 0.7176613211631775, -3.285376787185669, 0.4380510151386261, 1.886020302772522, -1.2208759784698486, -2.0353853702545166, 0.2805875241756439, 1.0112546682357788, -0.37357214093208313, -1.8273870944976807, 1.7093852758407593, -0.011073153465986252, 3.589714527130127, -1.9183313846588135, 3.799875259399414, -2.3216471672058105, -0.30452054738998413, -0.7474620938301086, 2.7206172943115234, -3.7261197566986084, -1.272215485572815, -0.4791807532310486, 0.7886523008346558, 0.5946112275123596, -4.938869953155518, 2.036534309387207, -0.5665789246559143, -1.5332059860229492, -0.023795152083039284, -0.9714294672012329, 0.09660432487726212, -0.7949645519256592, 0.5144620537757874, -4.278823375701904, 0.7767735719680786, -2.7657628059387207, -0.22632426023483276, -1.6129741668701172, -2.006119966506958, 0.8463211059570312, 1.6384254693984985, -1.6382365226745605, -0.6907978057861328, 0.34177058935165405, -2.7776098251342773, -1.5573228597640991, 1.385698676109314, -2.563037157058716, 1.0516536235809326, 1.3415470123291016, 0.5559871792793274, 0.5106229186058044, 3.0037519931793213, -2.8117287158966064, -0.1992933601140976, -1.394785761833191, 1.138676404953003, 1.1654667854309082, 0.688851535320282, -1.6097452640533447, 2.4883182048797607, -3.2418785095214844, 1.7808442115783691, -1.6599619388580322, 0.4157014787197113, 1.5829386711120605, -0.9333019256591797, 0.92914879322052, -0.29000768065452576, 2.663658857345581, -0.9109325408935547, 2.234999179840088, -1.560427188873291, -0.2988434433937073, 0.5062183737754822, 3.1756551265716553, 1.304547667503357, -1.3643970489501953, 0.37702757120132446, 1.720961332321167, 1.394343614578247, -0.615005612373352, 0.786259651184082, 2.991922616958618, -4.197564125061035, -0.2095063328742981, -1.5532697439193726, 3.2722623348236084, 0.31342101097106934, 0.7975236773490906, -0.8040603399276733, 0.6938937306404114, -1.1674296855926514, 1.6198011636734009, -0.4177694022655487, -1.3809096813201904, -1.2108218669891357, 0.1200777143239975, 1.353652000427246, 1.7465651035308838, 2.813368797302246, 0.8251622915267944, 0.7786246538162231, 0.6888047456741333, 1.457970380783081, -0.24812835454940796, -2.2912509441375732, -2.082414150238037, -1.9966092109680176, -0.2577495872974396, -1.2154805660247803, -18.928804397583008, -0.19259776175022125, -0.32678985595703125, -0.31527820229530334, 0.16992154717445374, -0.9806191921234131, -5.5440545082092285, 0.6799368858337402, 2.244130849838257, -1.0876014232635498, -1.3391122817993164, -2.4117586612701416, 0.05052035674452782, -0.5652034878730774, -0.2883210778236389, -0.622912585735321, 0.14037053287029266, -3.01167631149292, -1.5239765644073486, -1.7765774726867676, 0.566511869430542, -2.1997692584991455, -0.7270679473876953, 0.5373328924179077, 1.4025967121124268, -1.2858643531799316, 1.3774397373199463, -1.373361587524414, 5.647974014282227, -1.1497925519943237, 0.8945056796073914, 0.9795761704444885, -2.4131338596343994, -0.6885879635810852, -0.15972207486629486, 0.31188544631004333, -0.7520196437835693, 0.9115526676177979, -0.5630574822425842, -0.15886832773685455, 1.1727055311203003, -2.3328843116760254, 0.0482134148478508, -0.2255181521177292, 1.214627742767334, 1.9911373853683472, -0.875207245349884, 0.0997813269495964, 1.1518735885620117, -3.7016146183013916, -2.0085654258728027, 1.4751640558242798, -3.8296520709991455, -0.8369637727737427, 2.236917018890381, 2.1216232776641846, -1.1226400136947632, -0.09879657626152039, -2.892179250717163, 2.139321804046631, -0.056813158094882965, 2.373636245727539, 2.629485607147217, 1.7370630502700806, -2.7519359588623047, 1.6488527059555054, -0.8731836676597595, -0.9869303107261658, 0.2079935073852539, -1.776254415512085, -0.4534538984298706, -1.8120721578598022, 0.7057898044586182, -1.359361171722412, 2.829920530319214, -1.7122819423675537, 0.8857599496841431, 2.23040771484375, -3.3357577323913574, -0.28421175479888916, -1.0340690612792969, 1.1912572383880615, 1.4509475231170654, 2.7409698963165283, 0.8140055537223816, 2.980884313583374, -0.0540865920484066, -0.5076829195022583, -0.6015006899833679, 1.1111888885498047, -1.6340755224227905, -2.3557565212249756, -0.19395942986011505, -0.1608237624168396, 1.6244802474975586, -1.4328234195709229, 1.3395968675613403, -1.2909859418869019, -0.8069851398468018, 1.558962345123291, 1.1452399492263794, 1.7272207736968994, -2.604046583175659, -1.1937026977539062, 0.3215925991535187, 3.222153663635254, -0.18106454610824585, 0.08160609751939774, 0.5634079575538635, -0.31979307532310486, -0.40684449672698975, 0.6366833448410034, -3.119661331176758, 4.131600379943848, -0.3933969736099243, 1.4431108236312866, 2.6671714782714844, 0.21946744620800018, -3.8344759941101074, -0.609350860118866, 1.3845295906066895, -1.9014811515808105, 2.0395090579986572, -1.8079062700271606, -2.690972328186035, 0.002503754571080208, -0.8088898062705994, -1.8125492334365845, 2.657702922821045, -1.5810472965240479, -0.5841717720031738, -1.2753958702087402, 2.6214823722839355, -0.5540142059326172, 1.974015235900879, 0.7368993163108826, -2.342250347137451, 0.6848832964897156, -0.016535399481654167, -1.9635963439941406, -0.9285153150558472, -0.5102561116218567, -2.6313087940216064, 0.5608618259429932, 0.451284259557724, 0.6224943995475769, -1.231428861618042, -0.8102174401283264, 1.137678623199463, -0.9183629155158997, -0.8823065161705017, -1.5989043712615967, -1.0050851106643677, -0.7106608152389526, 0.2693876326084137, -2.052488088607788, 1.8990557193756104, -3.547959804534912, 3.1523523330688477, -0.8046460747718811, -1.083133578300476, -0.4838237762451172, -0.9762637615203857, 1.3688005208969116, -1.2116400003433228, -1.0549101829528809, -0.32544219493865967, 2.3368966579437256, 0.5713425278663635, 1.3451594114303589, 3.5422444343566895, -0.42141345143318176, 0.3786996304988861, 1.2407625913619995, 1.7137155532836914, 2.3939857482910156, -0.7306005358695984, -0.6106058359146118, 2.659496784210205, 3.8684890270233154, 1.5551482439041138, 0.9730269908905029, 0.45665547251701355, -2.4240450859069824, 4.140793800354004, -0.6106088757514954, 2.5808660984039307, 0.3901621699333191, -1.185199499130249, -2.0051145553588867, -3.087188243865967, -3.2936906814575195, 1.0186371803283691, 2.3147006034851074, -1.5756393671035767, 3.0005557537078857, 0.8980520367622375, 0.05406883731484413, 2.4433016777038574, -0.31076768040657043, -0.15555332601070404, -0.351060152053833, 5.239053249359131, 2.84367299079895, -2.209841012954712, -1.134050965309143, -1.027919888496399, -3.9469170570373535, -0.9143339991569519, -4.31662130355835, -1.5966405868530273, -1.1254324913024902, 0.8044153451919556, 0.44539278745651245, -0.7427507042884827, -0.591848611831665, 2.123387336730957, -0.8487769961357117, -0.03577110543847084, 1.8968676328659058, 1.8285801410675049, 0.23850786685943604, -1.2014732360839844, 0.7160308361053467, -0.24504108726978302, 1.4234416484832764, -0.4685525894165039, -0.35328343510627747, -2.493894338607788, -1.8801299333572388, -0.757186233997345, 0.05388440191745758, 1.7699909210205078, 1.3167833089828491, 2.040609836578369, -0.3273366391658783, 0.361511766910553, 0.1576286256313324, 0.9420265555381775, 0.9192885160446167, 1.6951720714569092, 1.1246367692947388, 0.4135282635688782, -1.6920013427734375, 0.02789175882935524, -0.0867244228720665, -0.7619315385818481, -0.6810896992683411, -1.782890796661377, 1.3828318119049072, -0.9463469386100769, -0.32720881700515747, -3.1738600730895996, -1.9259026050567627, 0.250216007232666, 0.2875071167945862, -2.627647638320923, -1.0852528810501099, -1.6980561017990112, 0.2437172383069992, -0.07032207399606705, 1.1236332654953003, -0.8535585999488831, -2.3180041313171387, -3.05126953125, -0.6321956515312195, 0.047976814210414886, -2.0070250034332275, -2.3179900646209717, 0.3056115210056305, 0.5647718906402588, -0.7666601538658142, 8.083547592163086, -0.14736905694007874, -0.2857874035835266, -0.2605563998222351, 1.4843995571136475, 0.2780616283416748, -0.8704106211662292, 1.4530606269836426, 1.360487461090088, 0.7337016463279724, 0.2579404413700104, 0.059228263795375824, -4.382393836975098, 0.838668167591095, 0.314810186624527, 0.459699422121048, -0.6657857298851013, -0.745661199092865, 0.45990484952926636, -1.7819668054580688, 0.8565480709075928, -1.702435851097107, -1.5903263092041016, 1.5172359943389893, -1.2556785345077515, 0.08427581936120987, 2.7178540229797363, 0.4700624346733093, -1.6007493734359741, 1.2002476453781128, 1.2263143062591553, -0.5332154631614685, 1.6254340410232544, 1.9580522775650024, 1.806946039199829, -2.849513530731201, 0.657947301864624, 2.0955867767333984, 1.1781325340270996, -0.11850281059741974, 0.39572247862815857, -1.8543486595153809, 0.5747820138931274, 1.5099821090698242, 2.1548051834106445, 0.43359053134918213, -1.2042713165283203, -0.6836947202682495, -0.09791374951601028, -1.6163243055343628, 1.3207241296768188, -2.295841693878174, 4.647073745727539, -0.7431454062461853, 2.8240625858306885, 0.1777876764535904, -0.5334271788597107, 0.5290054678916931, 0.3014857769012451, -0.7872439622879028, 1.543472170829773, -1.193512201309204, 0.2529117465019226, 0.5077320337295532, -0.14806294441223145, 2.7109787464141846, 2.151271343231201, 1.7519415616989136, 2.1472551822662354, 1.7394682168960571, -0.8132867217063904, 0.6771424412727356, -1.1774505376815796, -0.06524695456027985, -1.4976482391357422, -1.5698620080947876, 1.561102271080017, 1.7793678045272827, -2.093860387802124, -0.17022721469402313, -1.538808822631836, 1.338165283203125, 0.9651851654052734, 0.037609800696372986, 0.08425392955541611, 0.5497994422912598, -0.34042221307754517, -1.5486643314361572, -0.14404572546482086, 1.96555757522583, 0.8285718560218811, 1.1214154958724976, 0.95449298620224, 0.2050267904996872, -0.06061829254031181, -1.0358768701553345, -3.989196300506592, -0.9642869830131531, -0.5719045996665955, -1.9077409505844116, 2.2946276664733887, -1.1936410665512085, 0.986477792263031, 1.7524305582046509, -0.5004192590713501, -0.6944656372070312, -0.7729947566986084, 0.3514878749847412, -2.2849173545837402, -0.3885125517845154, -1.0834105014801025, 2.703580856323242, 3.6968472003936768, 0.8914775848388672, 0.8564293384552002, -1.0794774293899536, 1.2894858121871948, -3.102972984313965, 1.6385085582733154, 0.5225900411605835, -0.9083035588264465, -4.617182731628418, -0.40914496779441833, 0.8860589265823364, 0.8440554738044739, 1.4738960266113281, -2.2441492080688477, 0.28389912843704224, 0.4383626878261566, 0.41187235713005066, -1.1241281032562256, 2.0127508640289307, -0.10429704934358597, 4.332899570465088, -3.2554802894592285, 0.37590256333351135, -1.681976556777954, -0.48424333333969116, 0.7611172199249268, -1.8965739011764526, 2.831796884536743, 0.441545307636261, -1.2454861402511597, -2.639010429382324, -3.4288110733032227, 1.706866979598999, 1.395049810409546, 0.02810528501868248, 6.815037250518799, -1.0184980630874634, -0.5655437111854553, 2.137948751449585, -1.5913703441619873, -0.264591246843338, 6.191561698913574, -2.276038646697998, -2.6180434226989746, -0.11654691398143768, -0.7377695441246033, -3.257173538208008, -2.9122753143310547, 1.6368439197540283, 0.2817709743976593, -0.8868739604949951, -0.3735603988170624, -0.6740092635154724, -0.42222312092781067, -0.9781742095947266, -0.9749861359596252, 1.677119493484497, 1.051997423171997, 0.4936610460281372, -0.6285908222198486, 0.6331741213798523, -2.9976606369018555, 0.5799126625061035, -3.6355464458465576, -1.848262071609497, 0.02391556091606617, 1.6510848999023438, 0.9404345154762268, 0.13507099449634552, 0.30469560623168945, 0.16384367644786835, -0.7411932945251465, -2.4281675815582275, -0.2518767714500427, -0.179086834192276, -1.3912124633789062, 0.11759315431118011, -1.2575888633728027, -0.8124238848686218, -1.3536810874938965, 1.9473369121551514, -1.8169463872909546, 1.5255935192108154, 0.35035285353660583, -0.752358078956604, -1.8285579681396484, -1.7947287559509277, -0.36676639318466187, 1.6829663515090942, 1.6483420133590698, 2.890451192855835, -1.5565389394760132, -0.9651042222976685, 0.6932113170623779, -1.1863603591918945, 0.8949579000473022, 0.42085951566696167, 1.470878005027771, -2.6413915157318115, 0.514329195022583, 0.15760217607021332, 3.8081376552581787, -3.2207155227661133, -0.4703420102596283, 0.7404150366783142, 0.3025021255016327, -0.6897592544555664, 0.9508537650108337, -1.2190155982971191, -3.169830083847046, -0.3401641249656677, 0.8079536557197571, -2.044884204864502, -0.8941311240196228, 1.208296775817871, 0.08867885917425156, -1.106351613998413, -1.1306509971618652, 2.4119434356689453, 0.24023744463920593, 0.8105003833770752, 1.274339199066162, -0.9420249462127686, -0.8020095229148865, 0.10574930906295776, 0.1436643749475479, -1.0603821277618408, -0.6236547827720642, 3.396569013595581, 1.910182237625122, 0.7514955997467041, 0.9411718249320984, 1.509030818939209, -2.770078659057617, -0.7866430878639221, 0.061755791306495667, 0.8257055282592773, 0.26838594675064087, 0.35919997096061707, 2.0050878524780273, -0.8013959527015686, 0.1635153591632843, 0.4184767007827759, -1.8575432300567627, 3.2603864669799805, -1.3540844917297363, 3.5634379386901855, -1.8138703107833862, -1.3330655097961426, 0.22648777067661285, 0.6743061542510986, 0.9149412512779236, -2.903510570526123, -0.5351069569587708, 1.6261072158813477, 1.7575287818908691, 1.8165888786315918, -4.031820297241211, -2.1215548515319824, 0.2610394060611725, 0.7847363352775574, -3.748840093612671, -1.419101357460022, 2.0069539546966553, -0.15224701166152954, 0.17491097748279572, 0.1869937777519226, -1.0368678569793701, -1.11002779006958, 0.9160767793655396, -1.4544967412948608, -1.5868494510650635, 1.8682295083999634, -1.822810173034668, 2.9431827068328857, 1.3728286027908325, -2.145287036895752, -0.023032760247588158, -1.1872705221176147, -0.49374499917030334, 0.699627161026001, 0.49735227227211, 1.7672290802001953, 0.4368765354156494, -0.4786205291748047, -1.963148593902588, -0.17598417401313782, -0.3574053645133972, 2.052741289138794, -0.07892712950706482, 0.23395435512065887, 1.5278550386428833, 0.16847649216651917, -2.1627254486083984, 3.189981698989868, 0.7589731216430664, -1.3300983905792236, -1.5789544582366943, 1.7459794282913208, 1.705977439880371, 0.3359653949737549, -2.7807681560516357, 2.028513193130493, -1.1116902828216553, 3.0641636848449707, -0.39296674728393555, 0.5832697153091431, 0.8808960318565369, 0.8045329451560974, -1.571883201599121, 0.4393526315689087, 2.8430864810943604, -5.663212299346924, -0.16465991735458374, 0.6340328454971313, -2.696481466293335, -2.007887840270996, -0.043282900005578995, -0.08472894132137299, 3.0096383094787598, 1.5368461608886719, -2.8010599613189697, -1.6730148792266846, -1.1404699087142944, 2.575634479522705, 0.5375942587852478, -0.35418596863746643, -1.5435962677001953, 1.3100759983062744, 1.3683720827102661, 1.2048416137695312, 0.10571908205747604, -0.6345667839050293, -0.5364930033683777, 2.5691826343536377, -2.0906803607940674, 0.2370641678571701, 0.14457151293754578, 1.601532220840454, -0.5447515249252319, -2.7551121711730957, 2.1399617195129395, 1.7725658416748047, -0.11684904992580414, 1.639613389968872, 7.909405708312988, 0.5181952118873596, 0.474731981754303, 1.5144565105438232, 0.7290520071983337, -1.144797444343567, -1.2905248403549194, 2.2899930477142334, -0.4715263843536377, 0.5211923122406006, 0.1348840743303299, 0.012992720119655132, -1.251806378364563, 1.5626163482666016, 2.2614262104034424, -3.022890567779541, 2.5194344520568848, 0.9146442413330078, 1.0325411558151245, -3.623347282409668, -2.4604239463806152, 0.31945595145225525, -2.5998659133911133, -0.5104186534881592, -0.19164100289344788, -0.8607572317123413, 0.5964356064796448, -1.4548615217208862, -2.4327659606933594, -1.2534294128417969, -1.4525408744812012, 2.225153684616089, -1.109981894493103, -0.2972505986690521, -0.12210845202207565, 0.6626054048538208, 1.3060871362686157, 1.9649578332901, 1.5136226415634155, -2.185948610305786, 1.780268907546997, -2.6085586547851562, -0.39165815711021423, 1.4196901321411133, -2.0212583541870117, -5.102817535400391, -3.438786506652832, -2.037489652633667, -1.590415120124817, -2.0364627838134766, -0.4022992253303528, -2.500094175338745, 2.522157907485962, -0.1616855412721634, -0.9968317151069641, -0.44172802567481995, -0.9804686307907104, -1.9215790033340454, 2.25730037689209, 1.2959506511688232, 0.3879784345626831, 0.3086049258708954, 0.9824525713920593, -0.15546256303787231, -1.9669747352600098, 0.0034950077533721924, -0.6332538723945618, 1.0172573328018188, 0.45174509286880493, -0.04003671556711197, 0.9455444812774658, 0.7306916117668152, 0.5401743054389954, -2.293825626373291, 0.14219389855861664, 2.8487792015075684, -1.4954439401626587, -0.012400512583553791, -2.9009907245635986, 2.4210314750671387, -1.9770445823669434, -0.6672958135604858, -0.4750644862651825, -2.005458354949951, -1.282761573791504, 0.14454063773155212, 1.220467209815979, 1.223344087600708, -0.22058719396591187, 2.6406168937683105, -1.94353187084198, -2.636457681655884, 3.3772029876708984, 0.4702150225639343, -0.6077975630760193, 3.0326976776123047, 1.3738651275634766, 0.5109347701072693, -0.4961034655570984, -1.8707687854766846, -2.085123300552368, -0.7347533702850342, -1.6594305038452148, 1.519522786140442, -1.4294284582138062, 2.3590564727783203, 2.1934003829956055, -0.4223611056804657, 0.43078041076660156, 5.130336761474609, 0.765714704990387, -0.11629059910774231, -0.051406312733888626, 1.1148196458816528, -2.329376220703125, 1.9763994216918945, 2.2655770778656006, 0.24545538425445557, 1.6000279188156128, -0.38361403346061707, 2.5913076400756836, -0.8914448618888855, 0.4015395939350128, 1.7151904106140137, 1.934204339981079, -0.34542718529701233, 1.4274331331253052, 1.78267240524292, 0.5599293112754822, -3.0384268760681152, -1.5377519130706787, -1.8977397680282593, -0.7036781311035156, -0.3370543420314789, -2.7208921909332275, -0.14340196549892426, -2.9429614543914795, 1.4439665079116821, -0.9359140992164612, 1.2732290029525757, 0.2448803186416626, -3.5374414920806885, 0.3970334827899933, -1.3652514219284058, 0.9857319593429565, 0.9889165163040161, -2.5225841999053955, -1.0751500129699707, -2.0798585414886475, 0.32000240683555603, 6.718806743621826, 0.2212766855955124, 0.5327304005622864, 0.3230310380458832, -0.5343672037124634, 0.9737918376922607, 8.904099464416504, -0.7178859114646912, -1.179545283317566, -0.8278577923774719, -1.2923482656478882, 9.667259216308594, 0.18391656875610352, -0.706082284450531, -1.0494039058685303, 0.00573408929631114, -0.21720971167087555, 0.5055369138717651, 1.0545375347137451, 2.359065055847168, 0.7684705853462219, 0.6242217421531677, 1.1688077449798584, 0.6613031625747681, 0.10891641676425934, -1.1747537851333618, -1.1784331798553467, -2.3030283451080322, -0.6061437129974365, 0.17292004823684692, 1.5508395433425903, -2.1855967044830322, -1.6598801612854004, 2.611966371536255, -0.3352107107639313, -1.4134621620178223, 0.9188818335533142, 1.6323153972625732, 1.430023431777954, 0.8910819292068481, -0.8574483394622803, -1.3262808322906494, -2.0898289680480957, -3.9071900844573975, 0.84852534532547, 0.10419830679893494, 0.5732443928718567, 1.3648401498794556, 1.3064446449279785, 1.8924583196640015, 2.195803165435791, 2.2495012283325195, 0.7195785045623779, 8.37813663482666, -1.0873217582702637, -0.048048097640275955, 3.7408604621887207, 0.263595312833786, 0.5660654902458191, -0.16624116897583008, -1.6452351808547974, 2.638010025024414, -1.7001166343688965, 0.024106213822960854, 2.3167591094970703, 0.15823236107826233, 2.0935521125793457, 2.3908491134643555, 2.3823907375335693, 3.6969642639160156, -3.7184274196624756, -0.8614224195480347, 0.02731972560286522, -2.009600877761841, 2.7729108333587646, 0.8127532005310059, 1.2281806468963623, 1.2105189561843872, -0.002282649977132678, 0.6525474786758423, -1.0755318403244019, -0.30634862184524536, 0.10565885901451111, 1.8765202760696411, -3.1993699073791504, -1.5156739950180054, 0.12683124840259552, -1.098891019821167, -1.1051946878433228, -0.6586182117462158, 3.1658403873443604, -1.8247497081756592, -1.5493993759155273, -2.4521484375, 0.12171446532011032, 0.7398129105567932, 0.9867692589759827, 0.30916255712509155, 0.9406604766845703, 1.780091404914856, -1.314276099205017, -0.34240585565567017, -1.6218903064727783, -4.27118444442749, -1.915158987045288, 0.4193896949291229, -1.2602015733718872, 1.1714223623275757, 1.346608281135559, -2.1576218605041504, 1.534516453742981, -0.35260292887687683, 0.9142300486564636, -1.4152195453643799, -1.611445426940918, -0.49419504404067993, -2.420454263687134, -0.9626743793487549, -1.408329963684082, 0.5450224876403809, 1.065765380859375, -1.3795065879821777, 2.21852445602417, -0.5654103755950928, 1.830932855606079, 0.030026067048311234, -2.049191951751709, 0.6882889866828918, -0.3823702931404114, 0.4137144684791565, 0.9244444966316223, 0.1657065749168396, -4.340214252471924, 1.0918437242507935, 0.4242280423641205, 0.5751766562461853, 0.46633341908454895, 0.5532562732696533, -0.792275071144104, 2.5478765964508057, -2.439687728881836, -0.46326708793640137, -0.6322126388549805, -0.9887722134590149, 1.4971612691879272, -0.00967754703015089, 2.0094988346099854, 1.1908721923828125, -3.040357828140259, 3.5143041610717773, 0.1907787024974823, 2.2138731479644775, -2.9194743633270264, 0.9328488707542419, 0.7748254537582397, 1.5422097444534302, 0.5721496343612671, 1.4987040758132935, 1.523397445678711, 0.07216773182153702, -0.5586596727371216, 1.7268939018249512, -1.3127796649932861, 2.9227845668792725, 0.48214519023895264, -9.245635986328125, -0.5738462805747986, 0.234652578830719, 1.6946951150894165, 1.1189244985580444, -4.214810848236084, 4.360091686248779, -0.2012110948562622, -2.332740306854248, 0.00539099145680666, -0.03751299902796745, 0.35356080532073975, 2.950482130050659, 1.3367118835449219, 1.2182618379592896, 3.0597686767578125, -1.998954176902771, -0.31284886598587036, -1.422463297843933, 0.11674395948648453, 2.609179735183716, -0.06703545898199081, 1.585787057876587, -0.15120722353458405, -0.0276870708912611, 1.497604489326477, -7.438516616821289, 3.3223464488983154, -1.816975712776184, 0.03400232270359993, -1.2396788597106934, 0.7714446783065796, 4.216258525848389, -1.1696900129318237, -1.6704074144363403, 0.9773814678192139, 1.1817622184753418, -0.8790355324745178, -0.42361247539520264, -2.587054967880249, -0.5852528214454651, -0.9305425882339478, 1.167742133140564, -1.203932523727417, -2.1051788330078125, -1.4249565601348877, -0.6148706078529358, -0.6275621652603149, 0.5981137752532959, -0.5469826459884644, -1.5178132057189941, -1.2443151473999023, 0.4023723006248474, 2.997650146484375, -0.34365251660346985, 1.739511489868164, -1.0448663234710693, -0.8205305337905884, -0.242290198802948, 3.9527533054351807, 1.5950289964675903, 0.28591829538345337, -2.116772174835205, -0.4136199653148651, 2.2321407794952393, -0.922265887260437, -0.8188031911849976, -0.35636019706726074, 1.5802409648895264, -1.6768821477890015, 1.8700973987579346, -0.5404906272888184, 1.2633593082427979, 0.6131865382194519, -0.4795788526535034, -1.0569210052490234, 2.1434333324432373, 0.5976793766021729, -1.9058983325958252, 2.096358060836792, -0.388049453496933, 0.32512909173965454, 1.9419469833374023, -3.350403308868408, 0.12799058854579926, -0.9381053447723389, -3.0792059898376465, 1.5405505895614624, -0.7114684581756592, 0.5496288537979126, 0.17777936160564423, -0.03468252345919609, 3.3842954635620117, -1.5960441827774048, -1.0525028705596924, -0.6795626878738403, 3.6002726554870605, -0.892209529876709, 1.9962646961212158, -2.9618053436279297, -2.0294299125671387, -0.7212395071983337, 2.210578203201294, -1.4788637161254883, 3.6588735580444336, 0.026598796248435974, -2.0239622592926025, 2.605614423751831, 1.4572418928146362, 1.8014811277389526, -0.6658099889755249, -0.4167047441005707, -2.560188055038452, -3.515436887741089, -0.4377482533454895, -0.7701066732406616, -1.7991491556167603, 0.42408737540245056, -2.7766146659851074, 0.4339078664779663, -1.1295719146728516, -1.624528408050537, -0.6124317646026611, -1.309826374053955, -3.221437692642212, 1.8711140155792236, 2.311131477355957, 0.9626515507698059, -9.37509822845459, 2.990805149078369, -0.14634086191654205, -3.2348575592041016, -1.8691387176513672, 0.5441789627075195, -3.1984455585479736, -0.4209120571613312, -3.453071117401123, 2.2534477710723877, 1.780505895614624, -2.1825246810913086, -1.9025707244873047, 3.0307343006134033, -0.429280549287796, 0.6856140494346619, 4.826755046844482, 1.2921106815338135, 0.38603344559669495, -1.8221933841705322, -0.09366855770349503, -1.8192533254623413, 0.8850747346878052, -0.579222559928894, 0.9634798765182495, 1.1113075017929077, 0.31872889399528503, -0.48078233003616333, -0.37608054280281067, 3.081178903579712, 2.5323610305786133, 0.36217501759529114, -0.8744004964828491, 0.7419462203979492, -0.014782354235649109, 0.2043589949607849, -1.9938794374465942, -3.314547538757324, -0.5408427119255066, 0.25983598828315735, 0.17654569447040558, 0.7215922474861145, -0.02684774436056614, 0.7228547930717468, -1.360702395439148, 0.6886485815048218, -1.2544960975646973, -1.6728280782699585, -1.3693469762802124, 2.1659300327301025, 3.1853129863739014, 3.089663028717041, -0.7903718948364258, 1.0082801580429077, -0.4757094383239746, -0.6078526973724365, 0.8354344367980957, 2.6266016960144043, -1.8910733461380005, 3.318795680999756, 0.28324395418167114, 3.541769027709961, -1.6162724494934082, -1.040093183517456, -3.1370599269866943, 1.8332854509353638, 0.4411737620830536, -0.5622936487197876, 2.0814309120178223, 0.2250564843416214, 0.42782458662986755, -1.802444338798523, -1.9916774034500122, -1.3149182796478271, -1.07463800907135, -1.1044023036956787, -0.283675879240036, 2.1471526622772217, -0.32823970913887024, 0.745915412902832, -1.7243438959121704, -0.24734711647033691, -0.3983215093612671, -1.2321581840515137, 0.352651983499527, -1.2152637243270874, 0.7925557494163513, -1.5289013385772705, 0.7475975751876831, 0.9418361783027649, 1.1104830503463745, 1.5066684484481812, -0.2356829047203064, 0.11391507834196091, -0.10978176444768906, -0.6921300888061523, -2.348210573196411, 0.3662295937538147, -0.65522700548172, 1.5458142757415771, -2.517434597015381, -4.17907190322876, 1.7502703666687012, 0.2077367752790451, -0.8618922829627991, 0.8813300132751465, -0.32528620958328247, 0.04720892012119293, 1.387577772140503, 0.3301225006580353, 0.3019576966762543, 1.7046574354171753, 0.43824395537376404, -1.8371926546096802, 1.2413792610168457, 2.0161561965942383, -3.7813775539398193, 0.28989407420158386, -1.7688076496124268, 2.3668386936187744, -1.1421979665756226, 0.6415262222290039, 0.3482891321182251, -2.1839418411254883, 0.7669968008995056, 2.465353012084961, 4.04325532913208, -0.8637768626213074, 1.086508870124817, -2.5107343196868896, 0.9988772869110107, 1.2018874883651733, -2.725173234939575, 0.9047567844390869, 1.437306523323059, 2.7157883644104004, 1.6639198064804077, -1.4272866249084473, 2.416348695755005, 1.871113657951355, 0.07258691638708115, 2.237677574157715, 6.86983585357666, -0.7056221961975098, 2.669492721557617, 1.8085962533950806, 1.4190680980682373, -1.9285497665405273, -3.1365647315979004, 3.4425179958343506, -1.716066598892212, 1.2636197805404663, -2.6945879459381104, 4.75131893157959, -1.3761730194091797, -4.338438510894775, 2.989629030227661, 0.45897361636161804, -1.5571482181549072, -3.539661169052124, -0.6086505651473999, -1.8829586505889893, -1.9805700778961182, 3.084174156188965, -1.5017263889312744, -1.3152029514312744, -2.9802334308624268, -0.11788617819547653, -3.097484827041626, 1.8871687650680542, 0.6434610486030579, -0.6368086338043213, 3.2414944171905518, -2.5560901165008545, -1.355167031288147, -0.4579066038131714, -2.3859875202178955, -3.497091054916382, 1.4727928638458252, 1.58439302444458, 0.5059587359428406, 1.5582573413848877, 1.7934545278549194, 3.579202890396118, -0.3986322283744812, -1.0345847606658936, -0.7343540787696838, 1.1166610717773438, -0.27042481303215027, -1.508631706237793, -1.8747626543045044, 1.6284552812576294, -0.19769440591335297, -0.5267652869224548, 2.5699191093444824, -0.26386287808418274, 1.9981883764266968, 0.953881561756134, 0.6630415320396423, 0.19392269849777222, 1.8489418029785156, -2.230586528778076, 0.92778480052948, -0.9619170427322388, -1.4659825563430786, -0.41745686531066895, 1.873624324798584, 0.1890065222978592, 0.9029192328453064, -1.901944637298584, 0.8703111410140991, 0.0073197223246097565, 0.6847962141036987, -1.0427424907684326, -3.4268832206726074, 1.5335476398468018, -1.575163722038269, -0.20492368936538696, -1.4055134057998657, 0.7666909694671631, -0.22842545807361603, -0.9515231847763062, 0.4959304928779602, -0.16299249231815338, 1.538987159729004, 6.392175197601318, -1.4218113422393799, -0.2824747562408447, -0.31908249855041504, -0.13788041472434998, -0.9280180335044861, 1.662284016609192, -0.4451068639755249, 0.8982978463172913, -0.5127493739128113, 1.0061728954315186, -0.9914559721946716, -1.2583138942718506, -2.5533299446105957, 2.538161516189575, -0.8770773410797119, -0.5711852312088013, 0.20456042885780334, -1.297742247581482, 2.6768345832824707, 0.6936191320419312, 1.6049267053604126, -1.4177231788635254, 1.459000825881958, 1.6898844242095947, 1.6242778301239014, 1.6929739713668823, 1.9501360654830933, -1.6000045537948608, 1.047042727470398, 2.339191198348999, 0.7042860388755798, 2.6824262142181396, -4.191810131072998, -1.7919856309890747, -1.4965556859970093, 0.7208932042121887, 3.18234920501709, 3.008180618286133, -0.8552210927009583, -0.9713260531425476, -0.9894588589668274, 1.8144867420196533, 1.1946182250976562, -0.42786484956741333, 4.138674259185791, -0.8550675511360168, 0.7216321229934692, -1.6644196510314941, -0.3766477704048157, 1.6995052099227905, 0.23182709515094757, 0.8924880027770996, -0.8717448711395264, -1.1666239500045776, 2.074347496032715, 2.5887954235076904, -1.833702802658081, -2.7633464336395264, -1.3835453987121582, -0.24017398059368134, -2.5004186630249023, 5.706495761871338, -1.4420920610427856, 0.4650419354438782, 1.5850032567977905, -1.7492125034332275, 1.0331337451934814, 1.7599440813064575, -2.0535354614257812, 0.06911513954401016, -0.0823727622628212, 2.720405101776123, -1.2006101608276367, 1.2212668657302856, 2.0451929569244385, 3.160923480987549, -0.8832889795303345, -0.8954105377197266, -0.44151270389556885, 0.16379782557487488, -2.1178526878356934, -2.3036513328552246, -1.7220913171768188, 0.08823048323392868, 1.718185305595398, -2.7382469177246094, -2.5743932723999023, -0.943756639957428, 1.0515955686569214, -1.4832974672317505, -1.343090295791626, 1.1871230602264404, 3.686427593231201, -0.8883112072944641, 0.11089235544204712, -2.5506796836853027, 0.41080302000045776, 2.128277063369751, 0.00914505124092102, -0.15784938633441925, 1.1131783723831177, 1.6663357019424438, 0.7853695154190063, 1.1339236497879028, -1.1799802780151367, -2.6506338119506836, 0.8152360320091248, 0.7092752456665039, 0.6934906244277954, 0.12082107365131378, 0.8393625617027283, 0.9556972980499268, 2.0754876136779785, -0.11253724247217178, 0.4485895037651062, -1.9589074850082397, -0.969867467880249, 0.1548633873462677, 1.7480777502059937, 1.5683168172836304, 3.8861238956451416, -1.6543538570404053, 0.4181569814682007, -0.7542324662208557, -1.377240777015686, -1.050257921218872, -0.7491180300712585, -1.0307776927947998, -1.2371480464935303, -1.5762168169021606, -0.586187481880188, 0.8904975652694702, 0.19535517692565918, 1.3269479274749756, 1.414239764213562, 0.744817316532135, 1.2694520950317383, 0.3470051884651184, 0.35694870352745056, -4.051121711730957, -3.1222174167633057, -1.328305959701538, 2.830193281173706, 3.2941577434539795, 0.9089574813842773, 0.007828233763575554, 1.3552618026733398, 1.832505702972412, 1.6193140745162964, 1.0872691869735718, -0.6359192132949829, -1.4276071786880493, 1.1576234102249146, -1.011380672454834, 1.5506962537765503, 0.7519786357879639, -1.3921631574630737, -1.096014380455017, -2.5548927783966064, -2.697120189666748, 1.7502532005310059, 0.6471772193908691, 0.10959860682487488, 0.6240229606628418, -1.1077320575714111, 2.7414159774780273, -8.179630279541016, -0.2914138734340668, -0.28250443935394287, 0.6712386012077332, -0.7960532903671265, 0.5238227248191833, 1.235216498374939, -1.4373525381088257, 1.60260808467865, -0.5156583189964294, -1.9798604249954224, -0.9102441668510437, 2.551496744155884, 1.3176838159561157, 0.9181630611419678, 0.021272482350468636, -0.08441988378763199, -2.465228319168091, -0.7345433831214905, 0.34037724137306213]}\n",
      "Ollama2 transforms the words in vectors of dimension: 4096\n"
     ]
    }
   ],
   "source": [
    "example = generate_embeddings()\n",
    "print(type(example))\n",
    "print(example)\n",
    "print(f\"Ollama2 transforms the words in vectors of dimension: {len(example['embedding'])}\")"
   ]
  },
  {
   "cell_type": "markdown",
   "metadata": {},
   "source": [
    "## Conseguir vectorizar todos los documentos"
   ]
  },
  {
   "cell_type": "code",
   "execution_count": 80,
   "metadata": {},
   "outputs": [],
   "source": [
    "import pickle as pkl\n",
    "vectors = []\n",
    "for split in splits:\n",
    "    vector_dict = generate_embeddings(split.page_content)\n",
    "    vectors.append(vector_dict['embedding'])\n",
    "\n",
    "# Guardamos los embeddings en un archivo\n",
    "with open('vectors_badbunny.pkl', 'wb') as f:\n",
    "    pkl.dump(vectors, f)"
   ]
  },
  {
   "cell_type": "code",
   "execution_count": 81,
   "metadata": {},
   "outputs": [
    {
     "data": {
      "text/plain": [
       "46"
      ]
     },
     "execution_count": 81,
     "metadata": {},
     "output_type": "execute_result"
    }
   ],
   "source": [
    "len(vectors)"
   ]
  },
  {
   "cell_type": "markdown",
   "metadata": {},
   "source": [
    "persist_directory es el directorio donde vamos a guardar la base de datos de los vectores.\n",
    "\n",
    "Cada documento en split esta asociado a una lista de vectores en vectorstore."
   ]
  },
  {
   "cell_type": "code",
   "execution_count": 82,
   "metadata": {},
   "outputs": [],
   "source": [
    "# Creamos el cliente de la Base de Datos y le asociamos un path para guardar los embeddings\n",
    "import chromadb\n",
    "client = chromadb.Client()\n",
    "client = chromadb.PersistentClient(path=\"embeddings\")"
   ]
  }
 ],
 "metadata": {
  "kernelspec": {
   "display_name": "NLP",
   "language": "python",
   "name": "python3"
  },
  "language_info": {
   "codemirror_mode": {
    "name": "ipython",
    "version": 3
   },
   "file_extension": ".py",
   "mimetype": "text/x-python",
   "name": "python",
   "nbconvert_exporter": "python",
   "pygments_lexer": "ipython3",
   "version": "3.11.7"
  }
 },
 "nbformat": 4,
 "nbformat_minor": 2
}
