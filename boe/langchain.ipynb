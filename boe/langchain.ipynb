{
 "cells": [
  {
   "cell_type": "markdown",
   "metadata": {},
   "source": [
    "# Retrieval\n",
    "Add context to the LLM"
   ]
  },
  {
   "cell_type": "code",
   "execution_count": 3,
   "metadata": {},
   "outputs": [],
   "source": [
    "from langchain_community.document_loaders import PyPDFLoader\n",
    "\n",
    "loader = PyPDFLoader(\"pdfs/A00041-00045.pdf\")\n",
    "loaded = loader.load()"
   ]
  },
  {
   "cell_type": "code",
   "execution_count": 4,
   "metadata": {},
   "outputs": [
    {
     "data": {
      "text/plain": [
       "list"
      ]
     },
     "execution_count": 4,
     "metadata": {},
     "output_type": "execute_result"
    }
   ],
   "source": [
    "type(loaded)"
   ]
  },
  {
   "cell_type": "code",
   "execution_count": 5,
   "metadata": {},
   "outputs": [
    {
     "data": {
      "text/plain": [
       "Document(page_content='BOE núm. 1 Lunes 1 enero 2001 41\\nIII. Otras disposiciones\\nCORTES GENERALES\\n24 ACUERDO de 19 de diciembre de 2000, de la Mesa del Sena-\\ndo, referente a la convocatoria de becas de formación sobre\\ncomunicación institucional relacionada con el Senado.\\nEl Senado, por acuerdo de la Mesa de 19 diciembre de 2000, convoca\\ntres becas individuales de formación sobre comunicación institucional rela-\\ncionada con el Senado, de acuerdo con las bases que figuran a continuación:\\nPrimera. Objeto.— El Senado convoca tres becas individuales para rea-\\nlizar actividades de formación teórico-práctica sobre comunicación ins-titucional relacionada con la actividad parlamentaria que determine el\\nDepartamento de Prensa de la Cámara.\\nSegunda. Condiciones de las becas.— 1. Cada una de las tres becas\\nse disfrutará desde su otorgamiento por la Mesa hasta el 31 de diciembre\\nde 2001 y su cuantía mensual será de 107.083 pesetas brutas, que se\\npercibirán finalizado cada mes.\\n2. El Senado contratará un seguro de accidentes y enfermedad para\\ncada uno de los becarios por el tiempo de duración de la beca, en el\\nsupuesto de que no tuvieran cubiertas estas contingencias, y dentro de\\nlas condiciones propias de este tipo de contratos.\\n3. Las becas serán indivisibles e incompatibles con cualquier otra\\nconcedida para el mismo período o con cualquier otro trabajo remunerado.\\n4. Las becas podrán ser prorrogadas por seis meses a aquellos becarios\\nque así lo soliciten, siempre que hayan demostrado un buen aprovecha-\\nmiento.\\n5. La concesión y disfrute de la beca no supondrá vinculación laboral\\no funcionarial entre el becario y la Cámara.\\nTercera. Jurado.— 1. Las becas se concederán por la Mesa del Sena-\\ndo, a propuesta de un Jurado integrado por el Presidente de la Cámara\\no Vicepresidente en quien delegue, que lo presidirá; un Secretario de la\\nMesa, el Letrado Mayor, el Letrado Mayor adjunto y el Jefe del Depar-\\ntamento de Prensa, que actuará como Secretario. De las deliberaciones\\nse levantará acta con los acuerdos del Jurado y la firma del Secretario\\ncon el visto bueno del Presidente.\\n2. Finalizado el plazo de presentación de solicitudes, el Jurado se\\nreunirá para examinarlas y elevar la propuesta a la Mesa de la Cámara.\\n3. La concesión de las becas se propondrá por el Jurado por mayoría\\nde votos y se otorgarán por la Mesa, igualmente, por mayoría de votos,\\npero también podrán declararse desiertas. El Jurado propondrá asimismo\\nseis suplentes para el caso de renuncia de los adjudicatarios.\\nCuarta. Solicitantes.— 1. Podrán solicitar la concesión de beca los\\nLicenciados universitarios españoles en Ciencias de la Información que\\nhayan obtenido la licenciatura en los cinco años anteriores a la fecha\\nde publicación de esta convocatoria.\\n2. Se valorarán como méritos el expediente académico, los estudios\\ny prácticas sobre comunicación institucional, los estudios y experiencia\\nen medios de comunicación, los conocimientos informáticos y nuevas tec-\\nnologías relacionadas con la actividad periodística y el conocimiento de\\nidiomas.\\n3. El Jurado hará una preselección de los candidatos y podrá acordar\\nlas pruebas o entrevistas que considere pertinentes para determinar elnivel de conocimientos, formación práctica o idoneidad de los candidatos.\\nEl lugar, fecha y hora de dichas pruebas o entrevistas será comunicado\\na cada uno de ellos oportunamente. El Jurado podrá requerir a cualquierade los solicitantes la presentación de las certificaciones que demuestren\\nlos méritos alegados.\\nQuinta. Solicitudes.— Los solicitantes de las becas deberán presentar\\nuna instancia dirigida al Secretario General del Senado en el Registro\\nde la Dirección de Gobierno Interior del Senado (Palacio del Senado, segun-\\nda planta, plaza de la Marina Española 8, 28071 Madrid), en horario de\\nlunes a viernes, de nueve treinta horas a trece treinta horas, y de diecisiete\\na veinte horas, o remitirla en la forma prevista en el artículo 38 de la\\nLey 30/1992, de 26 de noviembre, de Régimen Jurídico de las Adminis-\\ntraciones Públicas y del Procedimiento Administrativo Común. El plazo\\npara la presentación de instancias será de quince días naturales a contar\\ndesde el día siguiente a la fecha de publicación de esta convocatoria en\\nel Boletín Oficial del Estado. En todo caso, se acompañará a la instanciafotocopia del documento nacional de identidad, dos fotografías recientes\\nde tamaño carné y el currículum vitae expresado en el formulario que\\nse publica con la presente convocatoria como anexo único.\\nSexta. Obligaciones del becario.— 1. Los aspirantes seleccionados\\ndeberán presentar, en el plazo de diez días hábiles siguientes a la noti-\\nficación de la concesión de la beca y, en todo caso, antes de iniciar su\\ndisfrute, fotocopia compulsada de su título universitario (anverso y rever-\\nso), así como de las certificaciones del resto de méritos alegados. Igual-\\nmente, presentarán certificación acreditativa de no padecer enfermedad\\ncontagiosa o defecto físico que impida la realización de las actividades\\nde formación que implica la aceptación de la beca.\\n2. La aceptación de la beca implica el compromiso de:\\na) Cumplir las bases de la convocatoria y las demás normas que resul-\\nten de aplicación como consecuencia de las mismas.\\nb) Comenzar el disfrute de la beca el día que se señale.\\n3. El becario realizará las actividades de formación teórico—práctica\\nque determine el Departamento de Prensa en las condiciones de lugar\\ny tiempo que se le indiquen, durante un máximo de veinticinco horas\\nsemanales.\\n4. Los becarios estarán obligados a observar absoluta discreción en\\ntodo lo que se refiere a los asuntos, hechos o informaciones de los que\\nhubiera tenido conocimiento durante el período de la beca. No deberán\\ncomunicar bajo ninguna forma documentos o informaciones que no hubie-\\nran sido hechos públicos a personas que no estuvieren cualificados para\\ntener conocimientos de los mismos, a reserva del acuerdo previo de la\\nInstitución. Seguirán sometidos a esta obligación después de finalizar su\\nbeca.\\n5. El Senado se reserva el derecho de retirar la beca en el supuesto\\nde que el becario no realizara las actividades de formación en condiciones\\nsatisfactorias, o no demostrara suficiente aprovechamiento.\\n6. El incumplimiento por el becario de sus obligaciones podrá dar\\nlugar a la privación de la beca por el tiempo que quedare pendiente, sin\\nperjuicio de las responsabilidades que resultaren exigibles.\\nPalacio del Senado, 19 de diciembre de 2000.—La Presidenta del Senado,\\nAGUIRRE GIL DE BIEDMA', metadata={'source': 'pdfs/A00041-00045.pdf', 'page': 0})"
      ]
     },
     "execution_count": 5,
     "metadata": {},
     "output_type": "execute_result"
    }
   ],
   "source": [
    "loaded[0]"
   ]
  },
  {
   "cell_type": "code",
   "execution_count": 6,
   "metadata": {},
   "outputs": [
    {
     "data": {
      "text/plain": [
       "Document(page_content='42 Lunes 1 enero 2001 BOE núm. 1\\n', metadata={'source': 'pdfs/A00041-00045.pdf', 'page': 1})"
      ]
     },
     "execution_count": 6,
     "metadata": {},
     "output_type": "execute_result"
    }
   ],
   "source": [
    "loaded[1]"
   ]
  },
  {
   "cell_type": "code",
   "execution_count": 7,
   "metadata": {},
   "outputs": [],
   "source": [
    "from langchain_text_splitters import RecursiveCharacterTextSplitter\n",
    "\n",
    "text_splitter = RecursiveCharacterTextSplitter(chunk_size=500, chunk_overlap=0)\n",
    "all_splits = text_splitter.split_documents(loaded)"
   ]
  },
  {
   "cell_type": "code",
   "execution_count": 13,
   "metadata": {},
   "outputs": [
    {
     "name": "stdout",
     "output_type": "stream",
     "text": [
      "Time taken: 23.917999744415283\n"
     ]
    }
   ],
   "source": [
    "import time\n",
    "start = time.time()\n",
    "from langchain_community.vectorstores import Chroma\n",
    "from langchain_community.embeddings import OllamaEmbeddings\n",
    "\n",
    "vectorstore = Chroma.from_documents(documents=all_splits, embedding=OllamaEmbeddings())\n",
    "end = time.time()\n",
    "embedding_time = end - start\n",
    "print(\"Time taken:\", embedding_time)"
   ]
  },
  {
   "cell_type": "markdown",
   "metadata": {},
   "source": [
    "Cuál es la cuantía mensual bruta de las becas de formación sobre comunicación institucional relacionada con el Senado"
   ]
  },
  {
   "cell_type": "code",
   "execution_count": 14,
   "metadata": {},
   "outputs": [
    {
     "data": {
      "text/plain": [
       "4313"
      ]
     },
     "execution_count": 14,
     "metadata": {},
     "output_type": "execute_result"
    }
   ],
   "source": [
    "import os\n",
    "len(os.listdir(\"pdfs\"))"
   ]
  },
  {
   "cell_type": "code",
   "execution_count": 16,
   "metadata": {},
   "outputs": [
    {
     "name": "stdout",
     "output_type": "stream",
     "text": [
      "El tiempo que tomaria hacer embeddings de todos los documentos es de 1719.3055482943853 minutos que son 28.655092471573088 horas\n"
     ]
    }
   ],
   "source": [
    "print(f\"El tiempo que tomaria hacer embeddings de todos los documentos es de {len(os.listdir('pdfs')) * embedding_time / 60} minutos que son {len(os.listdir('pdfs')) * embedding_time / 3600} horas\")"
   ]
  },
  {
   "cell_type": "code",
   "execution_count": 17,
   "metadata": {},
   "outputs": [
    {
     "data": {
      "text/plain": [
       "[Document(page_content='todo lo que se refiere a los asuntos, hechos o informaciones de los que\\nhubiera tenido conocimiento durante el período de la beca. No deberán\\ncomunicar bajo ninguna forma documentos o informaciones que no hubie-\\nran sido hechos públicos a personas que no estuvieren cualificados para\\ntener conocimientos de los mismos, a reserva del acuerdo previo de la\\nInstitución. Seguirán sometidos a esta obligación después de finalizar su\\nbeca.', metadata={'page': 0, 'source': 'pdfs/A00041-00045.pdf'}),\n",
       " Document(page_content='todo lo que se refiere a los asuntos, hechos o informaciones de los que\\nhubiera tenido conocimiento durante el período de la beca. No deberán\\ncomunicar bajo ninguna forma documentos o informaciones que no hubie-\\nran sido hechos públicos a personas que no estuvieren cualificados para\\ntener conocimientos de los mismos, a reserva del acuerdo previo de la\\nInstitución. Seguirán sometidos a esta obligación después de finalizar su\\nbeca.', metadata={'page': 0, 'source': 'pdfs/A00041-00045.pdf'}),\n",
       " Document(page_content='Primera. Objeto.— El Senado convoca tres becas individuales para rea-\\nlizar actividades de formación teórico-práctica sobre comunicación ins-titucional relacionada con la actividad parlamentaria que determine el\\nDepartamento de Prensa de la Cámara.\\nSegunda. Condiciones de las becas.— 1. Cada una de las tres becas\\nse disfrutará desde su otorgamiento por la Mesa hasta el 31 de diciembre\\nde 2001 y su cuantía mensual será de 107.083 pesetas brutas, que se\\npercibirán finalizado cada mes.', metadata={'page': 0, 'source': 'pdfs/A00041-00045.pdf'}),\n",
       " Document(page_content='Primera. Objeto.— El Senado convoca tres becas individuales para rea-\\nlizar actividades de formación teórico-práctica sobre comunicación ins-titucional relacionada con la actividad parlamentaria que determine el\\nDepartamento de Prensa de la Cámara.\\nSegunda. Condiciones de las becas.— 1. Cada una de las tres becas\\nse disfrutará desde su otorgamiento por la Mesa hasta el 31 de diciembre\\nde 2001 y su cuantía mensual será de 107.083 pesetas brutas, que se\\npercibirán finalizado cada mes.', metadata={'page': 0, 'source': 'pdfs/A00041-00045.pdf'})]"
      ]
     },
     "execution_count": 17,
     "metadata": {},
     "output_type": "execute_result"
    }
   ],
   "source": [
    "# k is the number of chunks to retrieve\n",
    "retriever = vectorstore.as_retriever(k=4)\n",
    "\n",
    "docs = retriever.invoke(\"Cuál es la cuantía mensual bruta de las becas de formación sobre comunicación institucional relacionada con el Senado?\")\n",
    "\n",
    "docs"
   ]
  },
  {
   "cell_type": "code",
   "execution_count": 18,
   "metadata": {},
   "outputs": [],
   "source": [
    "from langchain_community.llms import Ollama\n",
    "llm = Ollama(model=\"llama2\")"
   ]
  },
  {
   "cell_type": "code",
   "execution_count": 19,
   "metadata": {},
   "outputs": [],
   "source": [
    "from langchain.chains.combine_documents import create_stuff_documents_chain\n",
    "from langchain_core.prompts import ChatPromptTemplate, MessagesPlaceholder\n",
    "\n",
    "SYSTEM_TEMPLATE = \"\"\"\n",
    "Answer the user's questions based on the below context. \n",
    "If the context doesn't contain any relevant information to the question, don't make something up and just say \"I don't know\":\n",
    "\n",
    "<context>\n",
    "{context}\n",
    "</context>\n",
    "\"\"\"\n",
    "\n",
    "question_answering_prompt = ChatPromptTemplate.from_messages(\n",
    "    [\n",
    "        (\n",
    "            \"system\",\n",
    "            SYSTEM_TEMPLATE,\n",
    "        ),\n",
    "        MessagesPlaceholder(variable_name=\"messages\"),\n",
    "    ]\n",
    ")\n",
    "\n",
    "document_chain = create_stuff_documents_chain(llm, question_answering_prompt)"
   ]
  },
  {
   "cell_type": "code",
   "execution_count": null,
   "metadata": {},
   "outputs": [
    {
     "data": {
      "text/plain": [
       "'Based on the provided context, the monthly stipend for each of the three fellowships is 107.083 pesetas brutas.'"
      ]
     },
     "execution_count": 31,
     "metadata": {},
     "output_type": "execute_result"
    }
   ],
   "source": [
    "from langchain_core.messages import HumanMessage\n",
    "\n",
    "document_chain.invoke(\n",
    "    {\n",
    "        \"context\": docs,\n",
    "        \"messages\": [\n",
    "            HumanMessage(content=\"Cuál es la cuantía mensual bruta de las becas de formación sobre comunicación institucional relacionada con el Senado?\")\n",
    "        ],\n",
    "    }\n",
    ")"
   ]
  },
  {
   "cell_type": "markdown",
   "metadata": {},
   "source": []
  }
 ],
 "metadata": {
  "kernelspec": {
   "display_name": "NLP",
   "language": "python",
   "name": "python3"
  },
  "language_info": {
   "codemirror_mode": {
    "name": "ipython",
    "version": 3
   },
   "file_extension": ".py",
   "mimetype": "text/x-python",
   "name": "python",
   "nbconvert_exporter": "python",
   "pygments_lexer": "ipython3",
   "version": "3.11.7"
  }
 },
 "nbformat": 4,
 "nbformat_minor": 2
}
