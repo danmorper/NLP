{
 "cells": [
  {
   "cell_type": "markdown",
   "metadata": {},
   "source": [
    "Vamos a juntar todo"
   ]
  },
  {
   "cell_type": "code",
   "execution_count": 1,
   "metadata": {},
   "outputs": [],
   "source": [
    "from tools.data_loader import PDFReader\n",
    "\n",
    "pdf_path ='licitaciones_filtered_pdfs/licitaciones/licitaciones_filtered_pdfs/contratacion/BOE-B-2015-18191.pdf'\n",
    "pdf_reader = PDFReader(pdf_path, chunk_size=600, overlap=50)"
   ]
  },
  {
   "cell_type": "code",
   "execution_count": 2,
   "metadata": {},
   "outputs": [],
   "source": [
    "from tools.similarity_search import EmbeddingsDB\n",
    "\n",
    "embeddings_db = EmbeddingsDB(pdf_reader=pdf_reader)\n",
    "embeddings_db.add_documents_to_db()"
   ]
  },
  {
   "cell_type": "code",
   "execution_count": 3,
   "metadata": {},
   "outputs": [],
   "source": [
    "result_amount = embeddings_db.query_documents(query_text=\"Cantidad monetaria total de la licitacion\", n_results=3)"
   ]
  },
  {
   "cell_type": "code",
   "execution_count": 4,
   "metadata": {},
   "outputs": [
    {
     "data": {
      "text/plain": [
       "['3', '2', '1']"
      ]
     },
     "execution_count": 4,
     "metadata": {},
     "output_type": "execute_result"
    }
   ],
   "source": [
    "ids_amount = result_amount['ids'][0]\n",
    "ids_amount"
   ]
  },
  {
   "cell_type": "code",
   "execution_count": 5,
   "metadata": {},
   "outputs": [],
   "source": [
    "result_company = embeddings_db.query_documents(query_text=\"Nombre de la empresa que recibe el contrato\", n_results=3)"
   ]
  },
  {
   "cell_type": "code",
   "execution_count": 6,
   "metadata": {},
   "outputs": [
    {
     "data": {
      "text/plain": [
       "['3', '2', '1']"
      ]
     },
     "execution_count": 6,
     "metadata": {},
     "output_type": "execute_result"
    }
   ],
   "source": [
    "ids_company = result_company['ids'][0]\n",
    "ids_company"
   ]
  },
  {
   "cell_type": "code",
   "execution_count": 7,
   "metadata": {},
   "outputs": [
    {
     "name": "stdout",
     "output_type": "stream",
     "text": [
      "None\n"
     ]
    }
   ],
   "source": [
    "print(pdf_reader.get_part(9))"
   ]
  },
  {
   "cell_type": "code",
   "execution_count": 8,
   "metadata": {},
   "outputs": [
    {
     "name": "stdout",
     "output_type": "stream",
     "text": [
      "75,00 euros (230.958,00 euros, IVA\n",
      "incluido)..\n",
      "6. Formalización del contrato:\n",
      "a) Fecha de adjudicación: 22 de abril de 2015.\n",
      "b) Fecha de formalización del contrato: 13 de mayo de 2015.\n",
      "c) Contratista: Valoriza Servicios a la Dependencia, S.L.\n",
      "d) Importe o canon de adjudicación: Importe total: Precio hora: 18,65 euros,\n",
      "(19,40 euros, IVA incluido).\n",
      "Pozuelo de Alarcón, 1 de junio de 2015.- La Concejal-Delegada de Hacienda,\n",
      "Contratación y Patrimonio en funciones, Isabel Pita Cañas.\n",
      " ID: A150026582-1\n",
      "http://www.boe.es BOLETÍN OFICIAL DEL ESTADO D.L.: M-1/1958 - ISSN: 0212-033X\n",
      "jeto del contrato:\n",
      "a) Tipo: Servicios.\n",
      "b) Descripción: Servicio de ayuda a domicilio.\n",
      "g) Medio de publicación del anuncio de licitación: Boletín Oficial del Estado.\n",
      "h) Fecha de publicación del anuncio de licitación: 24 de marzo de 2015.\n",
      "3. Tramitación y procedimiento:\n",
      "a) Tramitación: Urgente.\n",
      "b) Procedimiento: Abierto.\n",
      "4. Valor estimado del contrato: 1.332.450,00 euros.\n",
      "5. Presupuesto base de licitación. Importe total: Precio/hora: 21,15 € (22,00 euros,\n",
      "IVA incluido). Importe máximo anual: 222.075,00 euros (230.958,00 euros, IVA\n",
      "incluido)..\n",
      "6. \n",
      "BOLETÍN OFICIAL DEL ESTADO\n",
      "Núm. 135 Sábado 6 de junio de 2015 Sec. V-A.  Pág. 25315\n",
      "cve: BOE-B-2015-18191\n",
      "Verificable en http://www.boe.es\n",
      " V. Anuncios\n",
      " A. Contratación del Sector Público\n",
      " ADMINISTRACIÓN LOCAL\n",
      "18191 Anuncio del Ayuntamiento de Pozuelo de Alarcón por el que se da\n",
      "cuenta de la formalización del contrato de servicio de ayuda a domicilio.\n",
      "1. Entidad adjudicadora:\n",
      "a) Organismo: Junta de Gobierno Local. Ayuntamiento de Pozuelo de Alarcón.\n",
      "c) Número de expediente: 2015/PA/000019.\n",
      "2. Objeto del contrato:\n",
      "a) Tipo: Servicios.\n",
      "b) Descripc\n",
      "\n"
     ]
    }
   ],
   "source": [
    "text_amount = \"\"\n",
    "for id in ids_amount:\n",
    "    text_amount += pdf_reader.get_part(int(id)).text\n",
    "    text_amount += \"\\n\"\n",
    "\n",
    "print(text_amount)"
   ]
  },
  {
   "cell_type": "code",
   "execution_count": 9,
   "metadata": {},
   "outputs": [
    {
     "name": "stdout",
     "output_type": "stream",
     "text": [
      "75,00 euros (230.958,00 euros, IVA\n",
      "incluido)..\n",
      "6. Formalización del contrato:\n",
      "a) Fecha de adjudicación: 22 de abril de 2015.\n",
      "b) Fecha de formalización del contrato: 13 de mayo de 2015.\n",
      "c) Contratista: Valoriza Servicios a la Dependencia, S.L.\n",
      "d) Importe o canon de adjudicación: Importe total: Precio hora: 18,65 euros,\n",
      "(19,40 euros, IVA incluido).\n",
      "Pozuelo de Alarcón, 1 de junio de 2015.- La Concejal-Delegada de Hacienda,\n",
      "Contratación y Patrimonio en funciones, Isabel Pita Cañas.\n",
      " ID: A150026582-1\n",
      "http://www.boe.es BOLETÍN OFICIAL DEL ESTADO D.L.: M-1/1958 - ISSN: 0212-033X\n",
      "jeto del contrato:\n",
      "a) Tipo: Servicios.\n",
      "b) Descripción: Servicio de ayuda a domicilio.\n",
      "g) Medio de publicación del anuncio de licitación: Boletín Oficial del Estado.\n",
      "h) Fecha de publicación del anuncio de licitación: 24 de marzo de 2015.\n",
      "3. Tramitación y procedimiento:\n",
      "a) Tramitación: Urgente.\n",
      "b) Procedimiento: Abierto.\n",
      "4. Valor estimado del contrato: 1.332.450,00 euros.\n",
      "5. Presupuesto base de licitación. Importe total: Precio/hora: 21,15 € (22,00 euros,\n",
      "IVA incluido). Importe máximo anual: 222.075,00 euros (230.958,00 euros, IVA\n",
      "incluido)..\n",
      "6. \n",
      "BOLETÍN OFICIAL DEL ESTADO\n",
      "Núm. 135 Sábado 6 de junio de 2015 Sec. V-A.  Pág. 25315\n",
      "cve: BOE-B-2015-18191\n",
      "Verificable en http://www.boe.es\n",
      " V. Anuncios\n",
      " A. Contratación del Sector Público\n",
      " ADMINISTRACIÓN LOCAL\n",
      "18191 Anuncio del Ayuntamiento de Pozuelo de Alarcón por el que se da\n",
      "cuenta de la formalización del contrato de servicio de ayuda a domicilio.\n",
      "1. Entidad adjudicadora:\n",
      "a) Organismo: Junta de Gobierno Local. Ayuntamiento de Pozuelo de Alarcón.\n",
      "c) Número de expediente: 2015/PA/000019.\n",
      "2. Objeto del contrato:\n",
      "a) Tipo: Servicios.\n",
      "b) Descripc\n",
      "\n"
     ]
    }
   ],
   "source": [
    "text_company = \"\"\n",
    "for id in ids_company:\n",
    "    text_company += pdf_reader.get_part(int(id)).text\n",
    "    text_company += \"\\n\"\n",
    "\n",
    "print(text_company)"
   ]
  },
  {
   "cell_type": "code",
   "execution_count": 10,
   "metadata": {},
   "outputs": [],
   "source": [
    "from tools.data_extractors import DataExtractor\n",
    "\n",
    "extractor_company = DataExtractor(text=text_company)"
   ]
  },
  {
   "cell_type": "markdown",
   "metadata": {},
   "source": [
    "Extraemos nombre de la empresa"
   ]
  },
  {
   "cell_type": "code",
   "execution_count": 11,
   "metadata": {},
   "outputs": [],
   "source": [
    "extractor_company.extract_company()"
   ]
  },
  {
   "cell_type": "code",
   "execution_count": 12,
   "metadata": {},
   "outputs": [
    {
     "data": {
      "text/plain": [
       "'Valoriza Servicios a la Dependencia, S.L.'"
      ]
     },
     "execution_count": 12,
     "metadata": {},
     "output_type": "execute_result"
    }
   ],
   "source": [
    "extractor_company.company_name"
   ]
  },
  {
   "cell_type": "code",
   "execution_count": 13,
   "metadata": {},
   "outputs": [
    {
     "name": "stdout",
     "output_type": "stream",
     "text": [
      "La cantidad monetaria total de la licitación es: 1332450.0 en la moneda euros\n"
     ]
    }
   ],
   "source": [
    "extractor_amount = DataExtractor(text=text_amount)\n",
    "\n",
    "extractor_amount.extract_amount()\n",
    "\n",
    "print(f\"La cantidad monetaria total de la licitación es: {extractor_amount.amount} en la moneda {extractor_amount.currency}\")"
   ]
  },
  {
   "cell_type": "markdown",
   "metadata": {},
   "source": [
    "Vamos a juntarlo todo"
   ]
  },
  {
   "cell_type": "code",
   "execution_count": 2,
   "metadata": {},
   "outputs": [
    {
     "name": "stdout",
     "output_type": "stream",
     "text": [
      "{'ids': [['3', '1']], 'distances': [[0.8036053776741028, 0.8748704195022583]], 'metadatas': [[{'filename': 'BOE-B-2015-18191.pdf', 'page': 1}, {'filename': 'BOE-B-2015-18191.pdf', 'page': 1}]], 'embeddings': None, 'documents': [['75,00 euros (230.958,00 euros, IVA\\nincluido)..\\n6. Formalización del contrato:\\na) Fecha de adjudicación: 22 de abril de 2015.\\nb) Fecha de formalización del contrato: 13 de mayo de 2015.\\nc) Contratista: Valoriza Servicios a la Dependencia, S.L.\\nd) Importe o canon de adjudicación: Importe total: Precio hora: 18,65 euros,\\n(19,40 euros, IVA incluido).\\nPozuelo de Alarcón, 1 de junio de 2015.- La Concejal-Delegada de Hacienda,\\nContratación y Patrimonio en funciones, Isabel Pita Cañas.\\n ID: A150026582-1\\nhttp://www.boe.es BOLETÍN OFICIAL DEL ESTADO D.L.: M-1/1958 - ISSN: 0212-033X', 'BOLETÍN OFICIAL DEL ESTADO\\nNúm. 135 Sábado 6 de junio de 2015 Sec. V-A.  Pág. 25315\\ncve: BOE-B-2015-18191\\nVerificable en http://www.boe.es\\n V. Anuncios\\n A. Contratación del Sector Público\\n ADMINISTRACIÓN LOCAL\\n18191 Anuncio del Ayuntamiento de Pozuelo de Alarcón por el que se da\\ncuenta de la formalización del contrato de servicio de ayuda a domicilio.\\n1. Entidad adjudicadora:\\na) Organismo: Junta de Gobierno Local. Ayuntamiento de Pozuelo de Alarcón.\\nc) Número de expediente: 2015/PA/000019.\\n2. Objeto del contrato:\\na) Tipo: Servicios.\\nb) Descripc']], 'uris': None, 'data': None}\n",
      "{'ids': [['2', '3']], 'distances': [[0.6897958517074585, 0.7010105848312378]], 'metadatas': [[{'filename': 'BOE-B-2015-18191.pdf', 'page': 1}, {'filename': 'BOE-B-2015-18191.pdf', 'page': 1}]], 'embeddings': None, 'documents': [['jeto del contrato:\\na) Tipo: Servicios.\\nb) Descripción: Servicio de ayuda a domicilio.\\ng) Medio de publicación del anuncio de licitación: Boletín Oficial del Estado.\\nh) Fecha de publicación del anuncio de licitación: 24 de marzo de 2015.\\n3. Tramitación y procedimiento:\\na) Tramitación: Urgente.\\nb) Procedimiento: Abierto.\\n4. Valor estimado del contrato: 1.332.450,00 euros.\\n5. Presupuesto base de licitación. Importe total: Precio/hora: 21,15 € (22,00 euros,\\nIVA incluido). Importe máximo anual: 222.075,00 euros (230.958,00 euros, IVA\\nincluido)..\\n6. ', '75,00 euros (230.958,00 euros, IVA\\nincluido)..\\n6. Formalización del contrato:\\na) Fecha de adjudicación: 22 de abril de 2015.\\nb) Fecha de formalización del contrato: 13 de mayo de 2015.\\nc) Contratista: Valoriza Servicios a la Dependencia, S.L.\\nd) Importe o canon de adjudicación: Importe total: Precio hora: 18,65 euros,\\n(19,40 euros, IVA incluido).\\nPozuelo de Alarcón, 1 de junio de 2015.- La Concejal-Delegada de Hacienda,\\nContratación y Patrimonio en funciones, Isabel Pita Cañas.\\n ID: A150026582-1\\nhttp://www.boe.es BOLETÍN OFICIAL DEL ESTADO D.L.: M-1/1958 - ISSN: 0212-033X']], 'uris': None, 'data': None}\n",
      "{'ids': [['3', '2']], 'distances': [[0.6058628559112549, 0.7006908655166626]], 'metadatas': [[{'filename': 'BOE-B-2015-18191.pdf', 'page': 1}, {'filename': 'BOE-B-2015-18191.pdf', 'page': 1}]], 'embeddings': None, 'documents': [['75,00 euros (230.958,00 euros, IVA\\nincluido)..\\n6. Formalización del contrato:\\na) Fecha de adjudicación: 22 de abril de 2015.\\nb) Fecha de formalización del contrato: 13 de mayo de 2015.\\nc) Contratista: Valoriza Servicios a la Dependencia, S.L.\\nd) Importe o canon de adjudicación: Importe total: Precio hora: 18,65 euros,\\n(19,40 euros, IVA incluido).\\nPozuelo de Alarcón, 1 de junio de 2015.- La Concejal-Delegada de Hacienda,\\nContratación y Patrimonio en funciones, Isabel Pita Cañas.\\n ID: A150026582-1\\nhttp://www.boe.es BOLETÍN OFICIAL DEL ESTADO D.L.: M-1/1958 - ISSN: 0212-033X', 'jeto del contrato:\\na) Tipo: Servicios.\\nb) Descripción: Servicio de ayuda a domicilio.\\ng) Medio de publicación del anuncio de licitación: Boletín Oficial del Estado.\\nh) Fecha de publicación del anuncio de licitación: 24 de marzo de 2015.\\n3. Tramitación y procedimiento:\\na) Tramitación: Urgente.\\nb) Procedimiento: Abierto.\\n4. Valor estimado del contrato: 1.332.450,00 euros.\\n5. Presupuesto base de licitación. Importe total: Precio/hora: 21,15 € (22,00 euros,\\nIVA incluido). Importe máximo anual: 222.075,00 euros (230.958,00 euros, IVA\\nincluido)..\\n6. ']], 'uris': None, 'data': None}\n",
      "{'ids': [['2', '3']], 'distances': [[0.7145953178405762, 0.7394776940345764]], 'metadatas': [[{'filename': 'BOE-B-2015-18191.pdf', 'page': 1}, {'filename': 'BOE-B-2015-18191.pdf', 'page': 1}]], 'embeddings': None, 'documents': [['jeto del contrato:\\na) Tipo: Servicios.\\nb) Descripción: Servicio de ayuda a domicilio.\\ng) Medio de publicación del anuncio de licitación: Boletín Oficial del Estado.\\nh) Fecha de publicación del anuncio de licitación: 24 de marzo de 2015.\\n3. Tramitación y procedimiento:\\na) Tramitación: Urgente.\\nb) Procedimiento: Abierto.\\n4. Valor estimado del contrato: 1.332.450,00 euros.\\n5. Presupuesto base de licitación. Importe total: Precio/hora: 21,15 € (22,00 euros,\\nIVA incluido). Importe máximo anual: 222.075,00 euros (230.958,00 euros, IVA\\nincluido)..\\n6. ', '75,00 euros (230.958,00 euros, IVA\\nincluido)..\\n6. Formalización del contrato:\\na) Fecha de adjudicación: 22 de abril de 2015.\\nb) Fecha de formalización del contrato: 13 de mayo de 2015.\\nc) Contratista: Valoriza Servicios a la Dependencia, S.L.\\nd) Importe o canon de adjudicación: Importe total: Precio hora: 18,65 euros,\\n(19,40 euros, IVA incluido).\\nPozuelo de Alarcón, 1 de junio de 2015.- La Concejal-Delegada de Hacienda,\\nContratación y Patrimonio en funciones, Isabel Pita Cañas.\\n ID: A150026582-1\\nhttp://www.boe.es BOLETÍN OFICIAL DEL ESTADO D.L.: M-1/1958 - ISSN: 0212-033X']], 'uris': None, 'data': None}\n",
      "{'ids': [['2', '3']], 'distances': [[0.71431565284729, 0.7201411724090576]], 'metadatas': [[{'filename': 'BOE-B-2015-18191.pdf', 'page': 1}, {'filename': 'BOE-B-2015-18191.pdf', 'page': 1}]], 'embeddings': None, 'documents': [['jeto del contrato:\\na) Tipo: Servicios.\\nb) Descripción: Servicio de ayuda a domicilio.\\ng) Medio de publicación del anuncio de licitación: Boletín Oficial del Estado.\\nh) Fecha de publicación del anuncio de licitación: 24 de marzo de 2015.\\n3. Tramitación y procedimiento:\\na) Tramitación: Urgente.\\nb) Procedimiento: Abierto.\\n4. Valor estimado del contrato: 1.332.450,00 euros.\\n5. Presupuesto base de licitación. Importe total: Precio/hora: 21,15 € (22,00 euros,\\nIVA incluido). Importe máximo anual: 222.075,00 euros (230.958,00 euros, IVA\\nincluido)..\\n6. ', '75,00 euros (230.958,00 euros, IVA\\nincluido)..\\n6. Formalización del contrato:\\na) Fecha de adjudicación: 22 de abril de 2015.\\nb) Fecha de formalización del contrato: 13 de mayo de 2015.\\nc) Contratista: Valoriza Servicios a la Dependencia, S.L.\\nd) Importe o canon de adjudicación: Importe total: Precio hora: 18,65 euros,\\n(19,40 euros, IVA incluido).\\nPozuelo de Alarcón, 1 de junio de 2015.- La Concejal-Delegada de Hacienda,\\nContratación y Patrimonio en funciones, Isabel Pita Cañas.\\n ID: A150026582-1\\nhttp://www.boe.es BOLETÍN OFICIAL DEL ESTADO D.L.: M-1/1958 - ISSN: 0212-033X']], 'uris': None, 'data': None}\n",
      "\n",
      "        Company Name: Valoriza Servicios a la Dependencia, S.L.\n",
      "        Amount: 1332450.0 in  Euros\n",
      "        Adjudicadora: Concejal-Delegada de Hacienda, Contratación y Patrimonio\n",
      "        Expediente: A15 0026582 - 1\n",
      "        Tipo: Servicios\n",
      "        Tramitacion: Urgente\n",
      "        Procedimiento: Abierto\n",
      "        \n"
     ]
    }
   ],
   "source": [
    "from tools.data_loader import PDFReader\n",
    "from tools.similarity_search import Search\n",
    "from tools.data_extractors import DataExtractor\n",
    "pdf_path ='licitaciones_filtered_pdfs/licitaciones/licitaciones_filtered_pdfs/contratacion/BOE-B-2015-18191.pdf'\n",
    "pdf_reader = PDFReader(pdf_path, chunk_size=600, overlap=50)\n",
    "similarity = Search(pdf_reader=pdf_reader)\n",
    "extracted_data = DataExtractor(\n",
    "    text_company=similarity.text_company[0], \n",
    "    text_amount=similarity.text_amount[0], \n",
    "    text_adjudicadora=similarity.text_adjudicadora[0], \n",
    "    text_tipo=similarity.text_tipo[0],\n",
    "    text_tramitacion=similarity.text_tramitacion[0]\n",
    ")\n",
    "print(extracted_data)"
   ]
  }
 ],
 "metadata": {
  "kernelspec": {
   "display_name": "NLP",
   "language": "python",
   "name": "python3"
  },
  "language_info": {
   "codemirror_mode": {
    "name": "ipython",
    "version": 3
   },
   "file_extension": ".py",
   "mimetype": "text/x-python",
   "name": "python",
   "nbconvert_exporter": "python",
   "pygments_lexer": "ipython3",
   "version": "3.11.7"
  }
 },
 "nbformat": 4,
 "nbformat_minor": 2
}
