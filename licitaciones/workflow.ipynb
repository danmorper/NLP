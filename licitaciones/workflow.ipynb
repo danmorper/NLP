{
 "cells": [
  {
   "cell_type": "markdown",
   "metadata": {},
   "source": [
    "Vamos a juntar todo"
   ]
  },
  {
   "cell_type": "code",
   "execution_count": 1,
   "metadata": {},
   "outputs": [],
   "source": [
    "from tools.data_loader import PDFReader\n",
    "\n",
    "pdf_path ='licitaciones_filtered_pdfs/licitaciones/licitaciones_filtered_pdfs/contratacion/BOE-B-2015-18191.pdf'\n",
    "pdf_reader = PDFReader(pdf_path, chunk_size=600, overlap=50)"
   ]
  },
  {
   "cell_type": "code",
   "execution_count": 2,
   "metadata": {},
   "outputs": [],
   "source": [
    "from tools.similarity_search import EmbeddingsDB\n",
    "\n",
    "embeddings_db = EmbeddingsDB(pdf_reader=pdf_reader)\n",
    "embeddings_db.add_documents_to_db()"
   ]
  },
  {
   "cell_type": "code",
   "execution_count": 3,
   "metadata": {},
   "outputs": [],
   "source": [
    "result_amount = embeddings_db.query_documents(query_text=\"Cantidad monetaria total de la licitacion\", n_results=3)"
   ]
  },
  {
   "cell_type": "code",
   "execution_count": 4,
   "metadata": {},
   "outputs": [
    {
     "data": {
      "text/plain": [
       "['3', '2', '1']"
      ]
     },
     "execution_count": 4,
     "metadata": {},
     "output_type": "execute_result"
    }
   ],
   "source": [
    "ids_amount = result_amount['ids'][0]\n",
    "ids_amount"
   ]
  },
  {
   "cell_type": "code",
   "execution_count": 5,
   "metadata": {},
   "outputs": [],
   "source": [
    "result_company = embeddings_db.query_documents(query_text=\"Nombre de la empresa que recibe el contrato\", n_results=3)"
   ]
  },
  {
   "cell_type": "code",
   "execution_count": 6,
   "metadata": {},
   "outputs": [
    {
     "data": {
      "text/plain": [
       "['3', '2', '1']"
      ]
     },
     "execution_count": 6,
     "metadata": {},
     "output_type": "execute_result"
    }
   ],
   "source": [
    "ids_company = result_company['ids'][0]\n",
    "ids_company"
   ]
  },
  {
   "cell_type": "code",
   "execution_count": 7,
   "metadata": {},
   "outputs": [
    {
     "name": "stdout",
     "output_type": "stream",
     "text": [
      "None\n"
     ]
    }
   ],
   "source": [
    "print(pdf_reader.get_part(9))"
   ]
  },
  {
   "cell_type": "code",
   "execution_count": 8,
   "metadata": {},
   "outputs": [
    {
     "name": "stdout",
     "output_type": "stream",
     "text": [
      "75,00 euros (230.958,00 euros, IVA\n",
      "incluido)..\n",
      "6. Formalización del contrato:\n",
      "a) Fecha de adjudicación: 22 de abril de 2015.\n",
      "b) Fecha de formalización del contrato: 13 de mayo de 2015.\n",
      "c) Contratista: Valoriza Servicios a la Dependencia, S.L.\n",
      "d) Importe o canon de adjudicación: Importe total: Precio hora: 18,65 euros,\n",
      "(19,40 euros, IVA incluido).\n",
      "Pozuelo de Alarcón, 1 de junio de 2015.- La Concejal-Delegada de Hacienda,\n",
      "Contratación y Patrimonio en funciones, Isabel Pita Cañas.\n",
      " ID: A150026582-1\n",
      "http://www.boe.es BOLETÍN OFICIAL DEL ESTADO D.L.: M-1/1958 - ISSN: 0212-033X\n",
      "jeto del contrato:\n",
      "a) Tipo: Servicios.\n",
      "b) Descripción: Servicio de ayuda a domicilio.\n",
      "g) Medio de publicación del anuncio de licitación: Boletín Oficial del Estado.\n",
      "h) Fecha de publicación del anuncio de licitación: 24 de marzo de 2015.\n",
      "3. Tramitación y procedimiento:\n",
      "a) Tramitación: Urgente.\n",
      "b) Procedimiento: Abierto.\n",
      "4. Valor estimado del contrato: 1.332.450,00 euros.\n",
      "5. Presupuesto base de licitación. Importe total: Precio/hora: 21,15 € (22,00 euros,\n",
      "IVA incluido). Importe máximo anual: 222.075,00 euros (230.958,00 euros, IVA\n",
      "incluido)..\n",
      "6. \n",
      "BOLETÍN OFICIAL DEL ESTADO\n",
      "Núm. 135 Sábado 6 de junio de 2015 Sec. V-A.  Pág. 25315\n",
      "cve: BOE-B-2015-18191\n",
      "Verificable en http://www.boe.es\n",
      " V. Anuncios\n",
      " A. Contratación del Sector Público\n",
      " ADMINISTRACIÓN LOCAL\n",
      "18191 Anuncio del Ayuntamiento de Pozuelo de Alarcón por el que se da\n",
      "cuenta de la formalización del contrato de servicio de ayuda a domicilio.\n",
      "1. Entidad adjudicadora:\n",
      "a) Organismo: Junta de Gobierno Local. Ayuntamiento de Pozuelo de Alarcón.\n",
      "c) Número de expediente: 2015/PA/000019.\n",
      "2. Objeto del contrato:\n",
      "a) Tipo: Servicios.\n",
      "b) Descripc\n",
      "\n"
     ]
    }
   ],
   "source": [
    "text_amount = \"\"\n",
    "for id in ids_amount:\n",
    "    text_amount += pdf_reader.get_part(int(id)).text\n",
    "    text_amount += \"\\n\"\n",
    "\n",
    "print(text_amount)"
   ]
  },
  {
   "cell_type": "code",
   "execution_count": 9,
   "metadata": {},
   "outputs": [
    {
     "name": "stdout",
     "output_type": "stream",
     "text": [
      "75,00 euros (230.958,00 euros, IVA\n",
      "incluido)..\n",
      "6. Formalización del contrato:\n",
      "a) Fecha de adjudicación: 22 de abril de 2015.\n",
      "b) Fecha de formalización del contrato: 13 de mayo de 2015.\n",
      "c) Contratista: Valoriza Servicios a la Dependencia, S.L.\n",
      "d) Importe o canon de adjudicación: Importe total: Precio hora: 18,65 euros,\n",
      "(19,40 euros, IVA incluido).\n",
      "Pozuelo de Alarcón, 1 de junio de 2015.- La Concejal-Delegada de Hacienda,\n",
      "Contratación y Patrimonio en funciones, Isabel Pita Cañas.\n",
      " ID: A150026582-1\n",
      "http://www.boe.es BOLETÍN OFICIAL DEL ESTADO D.L.: M-1/1958 - ISSN: 0212-033X\n",
      "jeto del contrato:\n",
      "a) Tipo: Servicios.\n",
      "b) Descripción: Servicio de ayuda a domicilio.\n",
      "g) Medio de publicación del anuncio de licitación: Boletín Oficial del Estado.\n",
      "h) Fecha de publicación del anuncio de licitación: 24 de marzo de 2015.\n",
      "3. Tramitación y procedimiento:\n",
      "a) Tramitación: Urgente.\n",
      "b) Procedimiento: Abierto.\n",
      "4. Valor estimado del contrato: 1.332.450,00 euros.\n",
      "5. Presupuesto base de licitación. Importe total: Precio/hora: 21,15 € (22,00 euros,\n",
      "IVA incluido). Importe máximo anual: 222.075,00 euros (230.958,00 euros, IVA\n",
      "incluido)..\n",
      "6. \n",
      "BOLETÍN OFICIAL DEL ESTADO\n",
      "Núm. 135 Sábado 6 de junio de 2015 Sec. V-A.  Pág. 25315\n",
      "cve: BOE-B-2015-18191\n",
      "Verificable en http://www.boe.es\n",
      " V. Anuncios\n",
      " A. Contratación del Sector Público\n",
      " ADMINISTRACIÓN LOCAL\n",
      "18191 Anuncio del Ayuntamiento de Pozuelo de Alarcón por el que se da\n",
      "cuenta de la formalización del contrato de servicio de ayuda a domicilio.\n",
      "1. Entidad adjudicadora:\n",
      "a) Organismo: Junta de Gobierno Local. Ayuntamiento de Pozuelo de Alarcón.\n",
      "c) Número de expediente: 2015/PA/000019.\n",
      "2. Objeto del contrato:\n",
      "a) Tipo: Servicios.\n",
      "b) Descripc\n",
      "\n"
     ]
    }
   ],
   "source": [
    "text_company = \"\"\n",
    "for id in ids_company:\n",
    "    text_company += pdf_reader.get_part(int(id)).text\n",
    "    text_company += \"\\n\"\n",
    "\n",
    "print(text_company)"
   ]
  },
  {
   "cell_type": "code",
   "execution_count": 10,
   "metadata": {},
   "outputs": [],
   "source": [
    "from tools.data_extractors import DataExtractor\n",
    "\n",
    "extractor = DataExtractor(text=text_company)"
   ]
  },
  {
   "cell_type": "markdown",
   "metadata": {},
   "source": [
    "Extraemos nombre de la empresa"
   ]
  },
  {
   "cell_type": "code",
   "execution_count": 11,
   "metadata": {},
   "outputs": [
    {
     "ename": "AttributeError",
     "evalue": "'NoneType' object has no attribute 'replace'",
     "output_type": "error",
     "traceback": [
      "\u001b[0;31m---------------------------------------------------------------------------\u001b[0m",
      "\u001b[0;31mAttributeError\u001b[0m                            Traceback (most recent call last)",
      "Cell \u001b[0;32mIn[11], line 1\u001b[0m\n\u001b[0;32m----> 1\u001b[0m \u001b[43mextractor\u001b[49m\u001b[38;5;241;43m.\u001b[39;49m\u001b[43mextract_company\u001b[49m\u001b[43m(\u001b[49m\u001b[43m)\u001b[49m\n",
      "File \u001b[0;32m~/NLP/licitaciones/tools/data_extractors.py:37\u001b[0m, in \u001b[0;36mDataExtractor.extract_company\u001b[0;34m(self)\u001b[0m\n\u001b[1;32m     31\u001b[0m content \u001b[38;5;241m=\u001b[39m \u001b[38;5;124mf\u001b[39m\u001b[38;5;124m\"\"\"\u001b[39m\n\u001b[1;32m     32\u001b[0m \u001b[38;5;124mExtract the name of the company from the following text:\u001b[39m\n\u001b[1;32m     33\u001b[0m \u001b[38;5;124m\u001b[39m\u001b[38;5;132;01m{\u001b[39;00m\u001b[38;5;28mself\u001b[39m\u001b[38;5;241m.\u001b[39mtext\u001b[38;5;132;01m}\u001b[39;00m\n\u001b[1;32m     34\u001b[0m \u001b[38;5;124m\u001b[39m\u001b[38;5;124m\"\"\"\u001b[39m\n\u001b[1;32m     36\u001b[0m \u001b[38;5;66;03m# remove accents and dieresis\u001b[39;00m\n\u001b[0;32m---> 37\u001b[0m \u001b[38;5;28mself\u001b[39m\u001b[38;5;241m.\u001b[39mtext \u001b[38;5;241m=\u001b[39m \u001b[38;5;28;43mself\u001b[39;49m\u001b[38;5;241;43m.\u001b[39;49m\u001b[43mtext\u001b[49m\u001b[38;5;241;43m.\u001b[39;49m\u001b[43mreplace\u001b[49m(\u001b[38;5;124m\"\u001b[39m\u001b[38;5;124má\u001b[39m\u001b[38;5;124m\"\u001b[39m, \u001b[38;5;124m\"\u001b[39m\u001b[38;5;124ma\u001b[39m\u001b[38;5;124m\"\u001b[39m)\u001b[38;5;241m.\u001b[39mreplace(\u001b[38;5;124m\"\u001b[39m\u001b[38;5;124mé\u001b[39m\u001b[38;5;124m\"\u001b[39m, \u001b[38;5;124m\"\u001b[39m\u001b[38;5;124me\u001b[39m\u001b[38;5;124m\"\u001b[39m)\u001b[38;5;241m.\u001b[39mreplace(\u001b[38;5;124m\"\u001b[39m\u001b[38;5;124mí\u001b[39m\u001b[38;5;124m\"\u001b[39m, \u001b[38;5;124m\"\u001b[39m\u001b[38;5;124mi\u001b[39m\u001b[38;5;124m\"\u001b[39m)\u001b[38;5;241m.\u001b[39mreplace(\u001b[38;5;124m\"\u001b[39m\u001b[38;5;124mó\u001b[39m\u001b[38;5;124m\"\u001b[39m, \u001b[38;5;124m\"\u001b[39m\u001b[38;5;124mo\u001b[39m\u001b[38;5;124m\"\u001b[39m)\u001b[38;5;241m.\u001b[39mreplace(\u001b[38;5;124m\"\u001b[39m\u001b[38;5;124mú\u001b[39m\u001b[38;5;124m\"\u001b[39m, \u001b[38;5;124m\"\u001b[39m\u001b[38;5;124mu\u001b[39m\u001b[38;5;124m\"\u001b[39m)\u001b[38;5;241m.\u001b[39mreplace(\u001b[38;5;124m\"\u001b[39m\u001b[38;5;124mü\u001b[39m\u001b[38;5;124m\"\u001b[39m, \u001b[38;5;124m\"\u001b[39m\u001b[38;5;124mu\u001b[39m\u001b[38;5;124m\"\u001b[39m)\n\u001b[1;32m     39\u001b[0m response \u001b[38;5;241m=\u001b[39m \u001b[38;5;28mself\u001b[39m\u001b[38;5;241m.\u001b[39mclient\u001b[38;5;241m.\u001b[39mchat\u001b[38;5;241m.\u001b[39mcompletions\u001b[38;5;241m.\u001b[39mcreate(\n\u001b[1;32m     40\u001b[0m     model\u001b[38;5;241m=\u001b[39m\u001b[38;5;124m\"\u001b[39m\u001b[38;5;124mllama3\u001b[39m\u001b[38;5;124m\"\u001b[39m,\n\u001b[1;32m     41\u001b[0m     messages\u001b[38;5;241m=\u001b[39m[{\u001b[38;5;124m\"\u001b[39m\u001b[38;5;124mrole\u001b[39m\u001b[38;5;124m\"\u001b[39m: \u001b[38;5;124m\"\u001b[39m\u001b[38;5;124muser\u001b[39m\u001b[38;5;124m\"\u001b[39m, \u001b[38;5;124m\"\u001b[39m\u001b[38;5;124mcontent\u001b[39m\u001b[38;5;124m\"\u001b[39m: content}],\n\u001b[1;32m     42\u001b[0m     response_model\u001b[38;5;241m=\u001b[39mCompanyData,\n\u001b[1;32m     43\u001b[0m     max_retries\u001b[38;5;241m=\u001b[39m\u001b[38;5;241m10\u001b[39m\n\u001b[1;32m     44\u001b[0m )\n\u001b[1;32m     45\u001b[0m \u001b[38;5;28mself\u001b[39m\u001b[38;5;241m.\u001b[39mcompany_name \u001b[38;5;241m=\u001b[39m response\u001b[38;5;241m.\u001b[39mcompany\n",
      "\u001b[0;31mAttributeError\u001b[0m: 'NoneType' object has no attribute 'replace'"
     ]
    }
   ],
   "source": [
    "extractor.extract_company()"
   ]
  },
  {
   "cell_type": "code",
   "execution_count": null,
   "metadata": {},
   "outputs": [],
   "source": []
  }
 ],
 "metadata": {
  "kernelspec": {
   "display_name": "NLP",
   "language": "python",
   "name": "python3"
  },
  "language_info": {
   "codemirror_mode": {
    "name": "ipython",
    "version": 3
   },
   "file_extension": ".py",
   "mimetype": "text/x-python",
   "name": "python",
   "nbconvert_exporter": "python",
   "pygments_lexer": "ipython3",
   "version": "3.11.7"
  }
 },
 "nbformat": 4,
 "nbformat_minor": 2
}
