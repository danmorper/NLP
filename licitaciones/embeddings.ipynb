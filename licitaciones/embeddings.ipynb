{
 "cells": [
  {
   "cell_type": "markdown",
   "metadata": {},
   "source": [
    "Voy a leer un pdf y crear una coleccion en chromadb de cada pedazo. Hago similarity seach en esa coleccion y me quedo con el primero que espero porfavo diosito que sea el correcto. \n",
    "\n",
    "El esquema de trabajo seria: \n",
    "\n",
    "Leo pdf y divido en pedazos `data_loader.py` -> hago similarity search para escoger el pedazo **(este notebook)** `aun no existe.py` -> extarigo datos `data_extractors.py`"
   ]
  },
  {
   "cell_type": "code",
   "execution_count": 2,
   "metadata": {},
   "outputs": [
    {
     "name": "stdout",
     "output_type": "stream",
     "text": [
      "10\n"
     ]
    }
   ],
   "source": [
    "from tools.data_loader import PDFReader\n",
    "\n",
    "pdf = 'licitaciones_filtered_pdfs/licitaciones/licitaciones_filtered_pdfs/contratacion/BOE-B-2015-17810.pdf'\n",
    "pdf_reader = PDFReader(pdf, chunk_size=600, overlap=50)\n",
    "print(len(pdf_reader.document_parts))\n"
   ]
  },
  {
   "cell_type": "markdown",
   "metadata": {},
   "source": [
    "chromadb"
   ]
  },
  {
   "cell_type": "code",
   "execution_count": 2,
   "metadata": {},
   "outputs": [],
   "source": [
    "import chromadb\n",
    "\n",
    "client = chromadb.Client()"
   ]
  },
  {
   "cell_type": "code",
   "execution_count": 3,
   "metadata": {},
   "outputs": [],
   "source": [
    "try:\n",
    "    client.delete_collection(name=pdf_reader.filename)\n",
    "except:\n",
    "    pass"
   ]
  },
  {
   "cell_type": "code",
   "execution_count": 4,
   "metadata": {},
   "outputs": [],
   "source": [
    "collection = client.create_collection(name=pdf_reader.filename, metadata={\"hnsw:space\": \"cosine\"})"
   ]
  },
  {
   "cell_type": "markdown",
   "metadata": {},
   "source": [
    "conseguimos embeddings y anadimos a la collection"
   ]
  },
  {
   "cell_type": "code",
   "execution_count": 5,
   "metadata": {},
   "outputs": [],
   "source": [
    "import ollama\n",
    "def get_embedding(text):\n",
    "    embedding_dict = ollama.embeddings(model='llama3', prompt=text)\n",
    "    vector = embedding_dict['embedding']\n",
    "    return vector"
   ]
  },
  {
   "cell_type": "code",
   "execution_count": 6,
   "metadata": {},
   "outputs": [],
   "source": [
    "i = 0\n",
    "for part in pdf_reader.document_parts:\n",
    "    i += 1\n",
    "    text = part.text\n",
    "    vector = get_embedding(text)\n",
    "    collection.add(\n",
    "        embeddings=[vector],\n",
    "        documents=[text],\n",
    "        metadatas=[part.metadata],\n",
    "        ids=[str(i)]\n",
    "    )"
   ]
  },
  {
   "cell_type": "code",
   "execution_count": 7,
   "metadata": {},
   "outputs": [
    {
     "data": {
      "text/plain": [
       "{'ids': [['2', '7', '9']],\n",
       " 'distances': [[0.5897547602653503, 0.643503725528717, 0.6634917259216309]],\n",
       " 'metadatas': [[{'filename': 'BOE-B-2015-17810.pdf', 'page': 1},\n",
       "   {'filename': 'BOE-B-2015-17810.pdf', 'page': 2},\n",
       "   {'filename': 'BOE-B-2015-17810.pdf', 'page': 2}]],\n",
       " 'embeddings': None,\n",
       " 'documents': [['te a la\\nverificación  de  ayudas  cofinanciadas  con  FEDER  de  diversas\\nconvocatorias  de  proyectos  de  I+D.  Expediente:  J15.014.13.\\n1. Entidad adjudicadora: Datos generales y datos para la obtención de la\\ninformación:\\na)  Organismo:  Junta  de  Contratación  del  Ministerio  de  Economía  y\\nCompetitividad.\\nb) Dependencia que tramita el expediente: Junta de Contratación del Ministerio\\nde Economía y Competitividad.\\nc) Obtención de documentación e información:\\n1) Dependencia: Junta de Contratación del Ministerio de Economía y\\nCompetitividad',\n",
       "   '785,12 euros. Importe total: 370.000,00 euros.\\n6. Garantías exigidas. Definitiva (%): 5.\\n7. Requisitos específicos del contratista:\\nb) Solvencia económica y financiera y solvencia técnica y profesional: Solvencia\\neconómica y financiera: Cifra anual de negocio (Todos los licitadores ver\\ncasilla 16 del cuadro resumen del PCAP). Solvencia técnica y profesional:\\nTrabajos realizados (Todos los licitadores ver casilla 17 del cuadro resumen\\ndel PCAP) y (Todos los licitadores ver casilla 18 del cuadro resumen del\\nPCAP).\\nc) Otros requisitos específicos:',\n",
       "   'nto.\\n2) Domicilio: Paseo de la Castellana, n.º 162, planta baja.\\n3) Localidad y código postal: Madrid, 28046, España.\\ne) Admisión de variantes: No.\\nf) Plazo durante el cual el licitador estará obligado a mantener su oferta: Dos\\nmeses.\\n9. Apertura de Ofertas:\\na) Descripción: Apertura sobre oferta económica y apertura sobre oferta técnica.\\nb) Dirección: Paseo de la Castellana, n.º 162, planta 9.ª, sala 9.39 (Ministerio de\\nEconomía y Competitividad) y paseo de la Castellana, n.º 162, planta 9.ª, sala\\n9.39 (Ministerio de Economía y Competitividad).']],\n",
       " 'uris': None,\n",
       " 'data': None}"
      ]
     },
     "execution_count": 7,
     "metadata": {},
     "output_type": "execute_result"
    }
   ],
   "source": [
    "query_text = \"Cantidad monetaria total de la licitacion\"\n",
    "query_vector = get_embedding(query_text)\n",
    "\n",
    "results = collection.query(\n",
    "    query_embeddings=[query_vector],\n",
    "    n_results=3\n",
    ")\n",
    "results"
   ]
  },
  {
   "cell_type": "code",
   "execution_count": 8,
   "metadata": {},
   "outputs": [
    {
     "name": "stdout",
     "output_type": "stream",
     "text": [
      "te a la\n",
      "verificación  de  ayudas  cofinanciadas  con  FEDER  de  diversas\n",
      "convocatorias  de  proyectos  de  I+D.  Expediente:  J15.014.13.\n",
      "1. Entidad adjudicadora: Datos generales y datos para la obtención de la\n",
      "información:\n",
      "a)  Organismo:  Junta  de  Contratación  del  Ministerio  de  Economía  y\n",
      "Competitividad.\n",
      "b) Dependencia que tramita el expediente: Junta de Contratación del Ministerio\n",
      "de Economía y Competitividad.\n",
      "c) Obtención de documentación e información:\n",
      "1) Dependencia: Junta de Contratación del Ministerio de Economía y\n",
      "Competitividad\n",
      "-----------------------------------------------------------------\n",
      "785,12 euros. Importe total: 370.000,00 euros.\n",
      "6. Garantías exigidas. Definitiva (%): 5.\n",
      "7. Requisitos específicos del contratista:\n",
      "b) Solvencia económica y financiera y solvencia técnica y profesional: Solvencia\n",
      "económica y financiera: Cifra anual de negocio (Todos los licitadores ver\n",
      "casilla 16 del cuadro resumen del PCAP). Solvencia técnica y profesional:\n",
      "Trabajos realizados (Todos los licitadores ver casilla 17 del cuadro resumen\n",
      "del PCAP) y (Todos los licitadores ver casilla 18 del cuadro resumen del\n",
      "PCAP).\n",
      "c) Otros requisitos específicos:\n",
      "-----------------------------------------------------------------\n",
      "nto.\n",
      "2) Domicilio: Paseo de la Castellana, n.º 162, planta baja.\n",
      "3) Localidad y código postal: Madrid, 28046, España.\n",
      "e) Admisión de variantes: No.\n",
      "f) Plazo durante el cual el licitador estará obligado a mantener su oferta: Dos\n",
      "meses.\n",
      "9. Apertura de Ofertas:\n",
      "a) Descripción: Apertura sobre oferta económica y apertura sobre oferta técnica.\n",
      "b) Dirección: Paseo de la Castellana, n.º 162, planta 9.ª, sala 9.39 (Ministerio de\n",
      "Economía y Competitividad) y paseo de la Castellana, n.º 162, planta 9.ª, sala\n",
      "9.39 (Ministerio de Economía y Competitividad).\n"
     ]
    }
   ],
   "source": [
    "print(pdf_reader.get_part(2).text) # No tiene la cantidad total del contrato\n",
    "print(\"-----------------------------------------------------------------\")\n",
    "print(pdf_reader.get_part(7).text) # No tiene la cantidad total del contrato\n",
    "print(\"-----------------------------------------------------------------\")\n",
    "print(pdf_reader.get_part(9).text) # Tiene la cantidad total del contrato"
   ]
  },
  {
   "cell_type": "markdown",
   "metadata": {},
   "source": [
    "Probamos el nuevo modulo"
   ]
  },
  {
   "cell_type": "code",
   "execution_count": 4,
   "metadata": {},
   "outputs": [
    {
     "name": "stdout",
     "output_type": "stream",
     "text": [
      "Collection BOE-B-2015-17810.pdf already exists. Do you want to overwrite it?\n"
     ]
    }
   ],
   "source": [
    "from tools.similarity_search import EmbeddingsDB\n",
    "\n",
    "prueba = EmbeddingsDB(pdf_reader=pdf_reader)\n",
    "prueba.add_documents_to_db()"
   ]
  },
  {
   "cell_type": "code",
   "execution_count": 5,
   "metadata": {},
   "outputs": [
    {
     "data": {
      "text/plain": [
       "{'ids': [['2', '7', '9']],\n",
       " 'distances': [[0.5897547602653503, 0.643503725528717, 0.6634917259216309]],\n",
       " 'metadatas': [[{'filename': 'BOE-B-2015-17810.pdf', 'page': 1},\n",
       "   {'filename': 'BOE-B-2015-17810.pdf', 'page': 2},\n",
       "   {'filename': 'BOE-B-2015-17810.pdf', 'page': 2}]],\n",
       " 'embeddings': None,\n",
       " 'documents': [['te a la\\nverificación  de  ayudas  cofinanciadas  con  FEDER  de  diversas\\nconvocatorias  de  proyectos  de  I+D.  Expediente:  J15.014.13.\\n1. Entidad adjudicadora: Datos generales y datos para la obtención de la\\ninformación:\\na)  Organismo:  Junta  de  Contratación  del  Ministerio  de  Economía  y\\nCompetitividad.\\nb) Dependencia que tramita el expediente: Junta de Contratación del Ministerio\\nde Economía y Competitividad.\\nc) Obtención de documentación e información:\\n1) Dependencia: Junta de Contratación del Ministerio de Economía y\\nCompetitividad',\n",
       "   '785,12 euros. Importe total: 370.000,00 euros.\\n6. Garantías exigidas. Definitiva (%): 5.\\n7. Requisitos específicos del contratista:\\nb) Solvencia económica y financiera y solvencia técnica y profesional: Solvencia\\neconómica y financiera: Cifra anual de negocio (Todos los licitadores ver\\ncasilla 16 del cuadro resumen del PCAP). Solvencia técnica y profesional:\\nTrabajos realizados (Todos los licitadores ver casilla 17 del cuadro resumen\\ndel PCAP) y (Todos los licitadores ver casilla 18 del cuadro resumen del\\nPCAP).\\nc) Otros requisitos específicos:',\n",
       "   'nto.\\n2) Domicilio: Paseo de la Castellana, n.º 162, planta baja.\\n3) Localidad y código postal: Madrid, 28046, España.\\ne) Admisión de variantes: No.\\nf) Plazo durante el cual el licitador estará obligado a mantener su oferta: Dos\\nmeses.\\n9. Apertura de Ofertas:\\na) Descripción: Apertura sobre oferta económica y apertura sobre oferta técnica.\\nb) Dirección: Paseo de la Castellana, n.º 162, planta 9.ª, sala 9.39 (Ministerio de\\nEconomía y Competitividad) y paseo de la Castellana, n.º 162, planta 9.ª, sala\\n9.39 (Ministerio de Economía y Competitividad).']],\n",
       " 'uris': None,\n",
       " 'data': None}"
      ]
     },
     "execution_count": 5,
     "metadata": {},
     "output_type": "execute_result"
    }
   ],
   "source": [
    "prueba.query_documents(query_text=\"Cantidad monetaria total de la licitacion\", n_results=3)"
   ]
  },
  {
   "cell_type": "code",
   "execution_count": null,
   "metadata": {},
   "outputs": [],
   "source": []
  }
 ],
 "metadata": {
  "kernelspec": {
   "display_name": "NLP",
   "language": "python",
   "name": "python3"
  },
  "language_info": {
   "codemirror_mode": {
    "name": "ipython",
    "version": 3
   },
   "file_extension": ".py",
   "mimetype": "text/x-python",
   "name": "python",
   "nbconvert_exporter": "python",
   "pygments_lexer": "ipython3",
   "version": "3.11.7"
  }
 },
 "nbformat": 4,
 "nbformat_minor": 2
}
