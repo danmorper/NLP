{
 "cells": [
  {
   "cell_type": "markdown",
   "metadata": {},
   "source": [
    "Vamos a extraer el organismo de la entidad adjudicadora. Primera prueba: /boe/dias/2012/03/08/pdfs/BOE-B-2012-7789.pdf"
   ]
  },
  {
   "cell_type": "code",
   "execution_count": 51,
   "metadata": {},
   "outputs": [
    {
     "name": "stdout",
     "output_type": "stream",
     "text": [
      "PDF BOE-B-2012-7789.pdf downloaded successfully.\n"
     ]
    }
   ],
   "source": [
    "from tools.download import download_pdf\n",
    "import os\n",
    "\n",
    "download_pdf(\"/boe/dias/2012/03/08/pdfs/BOE-B-2012-7789.pdf\")"
   ]
  },
  {
   "cell_type": "markdown",
   "metadata": {},
   "source": [
    "He creado un modulo data_downloader para dividir texto en pedazos. Pero he hecho la prueba y con una resolucion de una pagina extrae bien la informacion, asi que para este caso no lo uso. Seguro que para un futuro viene bien."
   ]
  },
  {
   "cell_type": "code",
   "execution_count": 52,
   "metadata": {},
   "outputs": [
    {
     "name": "stdout",
     "output_type": "stream",
     "text": [
      "Part(BOLETÍN OFICIAL DEL ESTADO\n",
      "Núm. 58 Jueves 8 de marzo de 2012 Sec. V-A.  Pág. 10420\n",
      "cve: BOE-B-2012-7789\n",
      " V. Anuncios\n",
      " A. Anuncios de licitaciones públicas y adjudicaciones\n",
      " MINISTERIO DE FOMENTO\n",
      "7789 Resolución de la Autoridad Portuaria de Barcelona por la que se\n",
      "efectúa anuncio previo de la licitación \"Asistencia Técnica para la\n",
      "coordinación en seguridad y salud en fase de proyecto y ejecución de\n",
      "las diferentes obras del puerto de Barcelona y prevención en riesgos\n",
      ": {'page': 1})\n",
      "Part(elona y prevención en riesgos\n",
      "laborales\".\n",
      "1. Entidad adjudicadora: Datos generales y datos para la obtención de la\n",
      "información:\n",
      "a) Organismo: Ministerio de Fomento - Autoridad Portuaria de Barcelona.\n",
      "b) Dependencia que tramita el expediente: Secretaría General.\n",
      "c) Domicilio: Edificio Este del WTCB.\n",
      "d) Localidad y código postal: Barcelona 08039.\n",
      "e) Teléfono: 93 298 60 00.\n",
      "f) Telefax: 93 298 60 01.\n",
      "g) Correo electrónico: sau@portdebarcelona.es.\n",
      "h) Dirección de Interne: {'page': 1})\n",
      "Part(na.es.\n",
      "h) Dirección de Internet del perfil del contratante: http:/www.portdebarcelona.es/\n",
      "ca/web/autoritat-portuaria/licitaciones-curso-2012.\n",
      "2. Objeto del contrato y fecha prevista de inicio del procedimiento de adjudicación:\n",
      "a) Tipo: Servicios.\n",
      "b) Descripción: Consiste en la coordinación en seguridad y salud en fase de\n",
      "proyecto y ejecución de las diferentes obras del puerto de Barcelona y\n",
      "prevención en riesgos laborales.\n",
      "e) Valor estimado: 1.000.000.\n",
      "g) CPV (Refer: {'page': 1})\n",
      "Part(mado: 1.000.000.\n",
      "g) CPV (Referencia de Nomenclatura): 71356200\n",
      "4. Fecha de envío del anuncio al \"Diario Oficial de la Unión Europea\": 2 de marzo\n",
      "de 2012.\n",
      "Barcelona, 5 de marzo de 2012.- El Presidente, Sixte Cambra.\n",
      " ID: A120013512-1\n",
      "http://www.boe.es BOLETÍN OFICIAL DEL ESTADO D.L.: M-1/1958 - ISSN: 0212-033X: {'page': 1})\n",
      "\n"
     ]
    }
   ],
   "source": [
    "from tools.data_loader import PDFReader\n",
    "pdf_file = \"BOE-B-2012-7789.pdf\"\n",
    "pdf_path = os.path.join(\"pdfs\", pdf_file)\n",
    "# First, create an instance of PDFReader with the path to your PDF.\n",
    "pdf_reader = PDFReader(pdf_path=pdf_path, chunk_size=500, overlap=30)\n",
    "\n",
    "# Then, retrieve a specific part (for example, the first page) of the document.\n",
    "# Replace 1 with the page number you want to retrieve.\n",
    "document_part = pdf_reader\n",
    "\n",
    "print(document_part)\n"
   ]
  },
  {
   "cell_type": "code",
   "execution_count": 53,
   "metadata": {},
   "outputs": [],
   "source": [
    "from openai import OpenAI\n",
    "from pydantic import BaseModel, Field\n",
    "from typing import List\n",
    "import instructor"
   ]
  },
  {
   "cell_type": "markdown",
   "metadata": {},
   "source": [
    "Extraigo entidad adjudicadora. Resultado debe ser: *Ministerio de Fomento - Autoridad Portuaria de Barcelona*"
   ]
  },
  {
   "cell_type": "code",
   "execution_count": 54,
   "metadata": {},
   "outputs": [],
   "source": [
    "class Entidad_adjudicadora(BaseModel):\n",
    "    organismo: str = Field(..., title=\"Organismo\", description=\"Nombre de la entidad adjudicadora\")"
   ]
  },
  {
   "cell_type": "code",
   "execution_count": 55,
   "metadata": {},
   "outputs": [],
   "source": [
    "client = instructor.patch(\n",
    "    OpenAI(\n",
    "        base_url=\"http://localhost:11434/v1\",\n",
    "        api_key=\"ollama\",\n",
    "    ),\n",
    "    mode=instructor.Mode.JSON,\n",
    ")\n"
   ]
  },
  {
   "cell_type": "code",
   "execution_count": 56,
   "metadata": {},
   "outputs": [],
   "source": [
    "import PyPDF2\n",
    "\n",
    "with open(\"pdfs/BOE-B-2012-7789.pdf\", \"rb\") as file:\n",
    "            pdf_reader = PyPDF2.PdfReader(file)\n",
    "            text = \"\"\n",
    "            for page in pdf_reader.pages:\n",
    "                text += page.extract_text()"
   ]
  },
  {
   "cell_type": "code",
   "execution_count": 57,
   "metadata": {},
   "outputs": [],
   "source": [
    "resp = client.chat.completions.create(\n",
    "    model=\"llama3\",\n",
    "    messages=[\n",
    "        {\n",
    "            \"role\": \"user\",\n",
    "            #\"content\": content.format(texto=result)\n",
    "            \"content\": text\n",
    "        }\n",
    "    ],\n",
    "    response_model=Entidad_adjudicadora,\n",
    "    max_retries=10\n",
    ")"
   ]
  },
  {
   "cell_type": "code",
   "execution_count": 58,
   "metadata": {},
   "outputs": [
    {
     "data": {
      "text/plain": [
       "Entidad_adjudicadora(organismo='Ministerio de Fomento - Autoridad Portuaria de Barcelona')"
      ]
     },
     "execution_count": 58,
     "metadata": {},
     "output_type": "execute_result"
    }
   ],
   "source": [
    "resp"
   ]
  },
  {
   "cell_type": "markdown",
   "metadata": {},
   "source": [
    "Exito"
   ]
  },
  {
   "cell_type": "markdown",
   "metadata": {},
   "source": [
    "Extraemos la cantidad de dinero del contrato"
   ]
  },
  {
   "cell_type": "markdown",
   "metadata": {},
   "source": [
    "La mejor forma de filtrar por convocatoria/contratacion es por el siguiente subtitulo que tiene el pdf Y NO LOS XML:\n",
    "- A. Anuncios de licitaciones públicas y adjudicaciones\n",
    "- A. Contratación del Sector Público\n",
    "\n",
    "Asi que hecho un mini filtro con `boe/licitaciones.ipynb` y ahora hago la extraccion de la empresa etc de una contratacion"
   ]
  },
  {
   "cell_type": "code",
   "execution_count": 59,
   "metadata": {},
   "outputs": [],
   "source": [
    "from pydantic import BaseModel, Field\n",
    "class Cantidad_contrato(BaseModel):\n",
    "    cantidad: float = Field(..., title=\"Cantidad\", description=\"Cantidad del contrato. Siempre la cantidad total del contrato\")\n",
    "    divisa: str = Field(..., title=\"Divisa\", description=\"Divisa en la que se ha realizado el contrato\")"
   ]
  },
  {
   "cell_type": "code",
   "execution_count": 60,
   "metadata": {},
   "outputs": [
    {
     "name": "stdout",
     "output_type": "stream",
     "text": [
      "Part(Verificable en http://www.boe.es\n",
      "d) Criterios de adjudicación: Descripción de la actividad (máximo 12 puntos),\n",
      "elaboración de informes (máximo 12 puntos), organización y medios\n",
      "propuestos (máximo 4 puntos) y plan de calidad propuesto (máximo 12\n",
      "puntos).\n",
      "4. Valor estimado del contrato: 611.570,24 euros.\n",
      "5. Presupuesto base de licitación:\n",
      "a) Importe neto: 305.785,12 euros. Importe total: 370.000,00 euros.\n",
      "6. Garantías exigidas. Definitiva (%): 5.\n",
      "7. Requisitos específ: {'page': 2})\n"
     ]
    }
   ],
   "source": [
    "from tools.data_loader import PDFReader\n",
    "\n",
    "pdf_file = \"licitaciones_filtered_pdfs/licitaciones/licitaciones_filtered_pdfs/contratacion/BOE-B-2015-17810.pdf\"\n",
    "\n",
    "pdf = PDFReader(pdf_path=pdf_file, chunk_size=500, overlap=30)\n",
    "\n",
    "text = pdf.get_part(7)\n",
    "\n",
    "print(text)"
   ]
  },
  {
   "cell_type": "code",
   "execution_count": 61,
   "metadata": {},
   "outputs": [],
   "source": [
    "import instructor\n",
    "from openai import OpenAI\n",
    "content = f\"\"\"\n",
    "Te voy a mostrar el texto que he extraído del PDF y luego me vas a decir la cantidad del contrato. En el PDF se pueden referir a la cantidad como 'Valor estimado del contrato', 'valor aproximado del contrato', etc. Aquí tienes el texto:\n",
    "{text}\n",
    "\"\"\"\n",
    "client = instructor.patch(\n",
    "    OpenAI(\n",
    "        base_url=\"http://localhost:11434/v1\",\n",
    "        api_key=\"ollama\",\n",
    "    ),\n",
    "    mode=instructor.Mode.JSON,\n",
    ")\n",
    "resp = client.chat.completions.create(\n",
    "    model=\"llama3\",\n",
    "    messages=[\n",
    "        {\n",
    "            \"role\": \"user\",\n",
    "            #\"content\": content.format(texto=result)\n",
    "            \"content\": content\n",
    "        }\n",
    "    ],\n",
    "    response_model=Cantidad_contrato,\n",
    "    max_retries=10\n",
    ")"
   ]
  },
  {
   "cell_type": "code",
   "execution_count": 63,
   "metadata": {},
   "outputs": [
    {
     "data": {
      "text/plain": [
       "61157024.0"
      ]
     },
     "execution_count": 63,
     "metadata": {},
     "output_type": "execute_result"
    }
   ],
   "source": [
    "resp.cantidad"
   ]
  },
  {
   "cell_type": "markdown",
   "metadata": {},
   "source": [
    "Probamos el nuevo modulo"
   ]
  },
  {
   "cell_type": "code",
   "execution_count": 1,
   "metadata": {},
   "outputs": [
    {
     "name": "stdout",
     "output_type": "stream",
     "text": [
      "Part(Verificable en http://www.boe.es\n",
      "d) Criterios de adjudicación: Descripción de la actividad (máximo 12 puntos),\n",
      "elaboración de informes (máximo 12 puntos), organización y medios\n",
      "propuestos (máximo 4 puntos) y plan de calidad propuesto (máximo 12\n",
      "puntos).\n",
      "4. Valor estimado del contrato: 611.570,24 euros.\n",
      "5. Presupuesto base de licitación:\n",
      "a) Importe neto: 305.785,12 euros. Importe total: 370.000,00 euros.\n",
      "6. Garantías exigidas. Definitiva (%): 5.\n",
      "7. Requisitos específ: {'page': 2})\n"
     ]
    }
   ],
   "source": [
    "from tools.data_loader import PDFReader\n",
    "\n",
    "pdf_file = \"licitaciones_filtered_pdfs/licitaciones/licitaciones_filtered_pdfs/contratacion/BOE-B-2015-17810.pdf\"\n",
    "\n",
    "pdf = PDFReader(pdf_path=pdf_file, chunk_size=500, overlap=30)\n",
    "\n",
    "text_amount = pdf.get_part(7)\n",
    "\n",
    "print(text_amount)"
   ]
  },
  {
   "cell_type": "code",
   "execution_count": 2,
   "metadata": {},
   "outputs": [
    {
     "name": "stdout",
     "output_type": "stream",
     "text": [
      "None\n"
     ]
    }
   ],
   "source": [
    "from tools.data_extractors import DataExtractor\n",
    "\n",
    "extractor_amount = DataExtractor(text=text_amount)\n",
    "\n",
    "extractor_amount.extract_amount()"
   ]
  }
 ],
 "metadata": {
  "kernelspec": {
   "display_name": "NLP",
   "language": "python",
   "name": "python3"
  },
  "language_info": {
   "codemirror_mode": {
    "name": "ipython",
    "version": 3
   },
   "file_extension": ".py",
   "mimetype": "text/x-python",
   "name": "python",
   "nbconvert_exporter": "python",
   "pygments_lexer": "ipython3",
   "version": "3.11.7"
  }
 },
 "nbformat": 4,
 "nbformat_minor": 2
}
