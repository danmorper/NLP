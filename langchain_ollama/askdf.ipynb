{
 "cells": [
  {
   "cell_type": "code",
   "execution_count": 1,
   "metadata": {},
   "outputs": [],
   "source": [
    "from langchain.llms import Ollama\n",
    "from langchain.prompts import PromptTemplate\n",
    "from langchain.chains import LLMChain, RetrievalQA\n",
    "from langchain.document_loaders import CSVLoader\n",
    "from langchain.vectorstores import Chroma\n",
    "from langchain.embeddings import OllamaEmbeddings\n",
    "\n",
    "def get_insights(question):\n",
    "    # Load and process the CSV data\n",
    "    loader = CSVLoader(\"Marks.csv\")\n",
    "    documents = loader.load()\n",
    "\n",
    "    # Create embeddings\n",
    "    embeddings = OllamaEmbeddings(model=\"llama2\")\n",
    "\n",
    "    chroma_db = Chroma.from_documents(\n",
    "        documents, embeddings, persist_directory=\"./chroma_db\"\n",
    "    )\n",
    "    chroma_db.persist()\n",
    "\n",
    "    llm = Ollama(model=\"llama2\")\n",
    "\n",
    "    prompt_template = PromptTemplate(\n",
    "        input_variables=[\"context\"],\n",
    "        template=\"Given this context: {context}, please directly answer the question: {question}.\",\n",
    "    )\n",
    "\n",
    "    # Set up the question-answering chain\n",
    "    qa_chain = RetrievalQA.from_chain_type(\n",
    "        llm,\n",
    "        retriever=chroma_db.as_retriever(),\n",
    "        chain_type_kwargs={\"prompt\": prompt_template},\n",
    "    )\n",
    "    print(chroma_db.as_retriever())\n",
    "    result = qa_chain({\"query\": question})\n",
    "    return result"
   ]
  },
  {
   "cell_type": "code",
   "execution_count": 2,
   "metadata": {},
   "outputs": [
    {
     "name": "stdout",
     "output_type": "stream",
     "text": [
      "tags=['Chroma', 'OllamaEmbeddings'] vectorstore=<langchain_community.vectorstores.chroma.Chroma object at 0x112fa0bd0>\n"
     ]
    },
    {
     "name": "stderr",
     "output_type": "stream",
     "text": [
      "/Users/danielmoreno/NLP/lib/python3.11/site-packages/langchain_core/_api/deprecation.py:117: LangChainDeprecationWarning: The function `__call__` was deprecated in LangChain 0.1.0 and will be removed in 0.2.0. Use invoke instead.\n",
      "  warn_deprecated(\n"
     ]
    },
    {
     "data": {
      "text/plain": [
       "{'query': 'What is the average marks of students in the class?',\n",
       " 'result': 'The average marks of the students in the class is 76.'}"
      ]
     },
     "execution_count": 2,
     "metadata": {},
     "output_type": "execute_result"
    }
   ],
   "source": [
    "get_insights(\"What is the average marks of students in the class?\")"
   ]
  },
  {
   "cell_type": "markdown",
   "metadata": {},
   "source": [
    "```csv\n",
    "Student_Name,Subject,Marks\n",
    "Jack,Math,90\n",
    "John,Math,60\n",
    "Mary,Math,70\n",
    "Peter,Math,80\n",
    "```"
   ]
  },
  {
   "cell_type": "code",
   "execution_count": 4,
   "metadata": {},
   "outputs": [
    {
     "name": "stdout",
     "output_type": "stream",
     "text": [
      "The average marks of students in the class is 75.0\n"
     ]
    }
   ],
   "source": [
    "grades = [90, 60, 70, 80]\n",
    "average = sum(grades) / len(grades)\n",
    "print(f\"The average marks of students in the class is {average}\")"
   ]
  },
  {
   "cell_type": "code",
   "execution_count": null,
   "metadata": {},
   "outputs": [],
   "source": []
  }
 ],
 "metadata": {
  "kernelspec": {
   "display_name": "NLP",
   "language": "python",
   "name": "python3"
  },
  "language_info": {
   "codemirror_mode": {
    "name": "ipython",
    "version": 3
   },
   "file_extension": ".py",
   "mimetype": "text/x-python",
   "name": "python",
   "nbconvert_exporter": "python",
   "pygments_lexer": "ipython3",
   "version": "3.11.7"
  }
 },
 "nbformat": 4,
 "nbformat_minor": 2
}
